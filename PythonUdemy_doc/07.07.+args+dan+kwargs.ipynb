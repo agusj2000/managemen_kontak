{
 "cells": [
  {
   "cell_type": "markdown",
   "id": "854809f8-1a9a-40f7-be48-6f7c7572c205",
   "metadata": {},
   "source": [
    "### Bayou Data\n",
    "##### By: Risdan Kristori\n",
    "##### Kursus Python Lengkap Berbahasa Indonesia"
   ]
  },
  {
   "cell_type": "markdown",
   "id": "b6d7754d-9a8b-44bc-8593-6dbf54dbddf2",
   "metadata": {},
   "source": [
    "# *args dan **kwargs\n",
    "\n",
    "### *args dan **kwargs digunakan agar kita dapat memanggil fungsi dengan mamasukkan sembarang jumlah argument."
   ]
  },
  {
   "cell_type": "markdown",
   "id": "8eabb4dd-f024-4d99-9238-ee982816b8ae",
   "metadata": {},
   "source": [
    "## 1. Contoh Tanpa Penggunaan *args atau **kwargs"
   ]
  },
  {
   "cell_type": "code",
   "execution_count": 1,
   "id": "9d435b27-e203-494f-8cd5-30ef2de4bf02",
   "metadata": {},
   "outputs": [],
   "source": [
    "def cetak_nama(nama1, nama2):\n",
    "    print(f\"nama 1 adalah {nama1}\")\n",
    "    print(f\"nama 2 adalah {nama2}\")"
   ]
  },
  {
   "cell_type": "code",
   "execution_count": 2,
   "id": "6dc73e3e-a62a-40a6-83fa-7007591d7233",
   "metadata": {},
   "outputs": [
    {
     "name": "stdout",
     "output_type": "stream",
     "text": [
      "nama 1 adalah Ansar\n",
      "nama 2 adalah Usman\n"
     ]
    }
   ],
   "source": [
    "cetak_nama(\"Ansar\", \"Usman\")"
   ]
  },
  {
   "cell_type": "code",
   "execution_count": 3,
   "id": "2bee560c-779a-4c82-879a-088e31d0d565",
   "metadata": {},
   "outputs": [
    {
     "ename": "TypeError",
     "evalue": "cetak_nama() missing 1 required positional argument: 'nama2'",
     "output_type": "error",
     "traceback": [
      "\u001b[1;31m---------------------------------------------------------------------------\u001b[0m",
      "\u001b[1;31mTypeError\u001b[0m                                 Traceback (most recent call last)",
      "Cell \u001b[1;32mIn[3], line 1\u001b[0m\n\u001b[1;32m----> 1\u001b[0m cetak_nama(\u001b[38;5;124m\"\u001b[39m\u001b[38;5;124mAnsar\u001b[39m\u001b[38;5;124m\"\u001b[39m)\n",
      "\u001b[1;31mTypeError\u001b[0m: cetak_nama() missing 1 required positional argument: 'nama2'"
     ]
    }
   ],
   "source": [
    "cetak_nama(\"Ansar\")"
   ]
  },
  {
   "cell_type": "code",
   "execution_count": 4,
   "id": "5ac08591-b494-4db1-bb0a-96983db3dc6a",
   "metadata": {},
   "outputs": [
    {
     "ename": "TypeError",
     "evalue": "cetak_nama() takes 2 positional arguments but 3 were given",
     "output_type": "error",
     "traceback": [
      "\u001b[1;31m---------------------------------------------------------------------------\u001b[0m",
      "\u001b[1;31mTypeError\u001b[0m                                 Traceback (most recent call last)",
      "Cell \u001b[1;32mIn[4], line 1\u001b[0m\n\u001b[1;32m----> 1\u001b[0m cetak_nama(\u001b[38;5;124m\"\u001b[39m\u001b[38;5;124mAnsar\u001b[39m\u001b[38;5;124m\"\u001b[39m, \u001b[38;5;124m\"\u001b[39m\u001b[38;5;124mUsman\u001b[39m\u001b[38;5;124m\"\u001b[39m,\u001b[38;5;124m\"\u001b[39m\u001b[38;5;124mHesti\u001b[39m\u001b[38;5;124m\"\u001b[39m)\n",
      "\u001b[1;31mTypeError\u001b[0m: cetak_nama() takes 2 positional arguments but 3 were given"
     ]
    }
   ],
   "source": [
    "cetak_nama(\"Ansar\", \"Usman\",\"Hesti\")"
   ]
  },
  {
   "cell_type": "markdown",
   "id": "f47d508d-b9ea-4e7b-b1ea-c2f7580b5bc3",
   "metadata": {},
   "source": [
    "## 2. Menggunakan *args\n",
    "\n",
    "### *args membuat argument yang dimasukkan menjadi tipe data tuple."
   ]
  },
  {
   "cell_type": "code",
   "execution_count": 9,
   "id": "cc029e5b-54fd-4b3b-b2db-b0df84175a26",
   "metadata": {},
   "outputs": [],
   "source": [
    "def cetak_nama(*nama):\n",
    "    print(nama)\n",
    "    for index,item in enumerate(nama):\n",
    "        print(f\"nama {index+1} adalah {item}\")"
   ]
  },
  {
   "cell_type": "code",
   "execution_count": 6,
   "id": "87a16d03-1cf0-44d9-b82d-955072114f2d",
   "metadata": {},
   "outputs": [
    {
     "name": "stdout",
     "output_type": "stream",
     "text": [
      "('Ansar',)\n"
     ]
    }
   ],
   "source": [
    "cetak_nama(\"Ansar\")"
   ]
  },
  {
   "cell_type": "code",
   "execution_count": 8,
   "id": "83ee5f27-0871-4a74-b8a8-3c6deb323d11",
   "metadata": {},
   "outputs": [
    {
     "name": "stdout",
     "output_type": "stream",
     "text": [
      "('Ansar', 'Usman', 'Hesti')\n"
     ]
    }
   ],
   "source": [
    "cetak_nama(\"Ansar\", \"Usman\", \"Hesti\")"
   ]
  },
  {
   "cell_type": "code",
   "execution_count": 11,
   "id": "2626382d-b3d7-42ae-a52f-3c72d6899933",
   "metadata": {},
   "outputs": [
    {
     "name": "stdout",
     "output_type": "stream",
     "text": [
      "('Ansar', 'Usman', 'Hesti', 'Joko', 'Alex')\n",
      "nama 1 adalah Ansar\n",
      "nama 2 adalah Usman\n",
      "nama 3 adalah Hesti\n",
      "nama 4 adalah Joko\n",
      "nama 5 adalah Alex\n"
     ]
    }
   ],
   "source": [
    "cetak_nama(\"Ansar\", \"Usman\", \"Hesti\", \"Joko\", \"Alex\")"
   ]
  },
  {
   "cell_type": "markdown",
   "id": "9094276e-41db-4950-8404-ef2d76138a2c",
   "metadata": {},
   "source": [
    "## 3. Menggunakan **kwargs\n",
    "\n",
    "### **kwargs membuat argument yang dimasukkan menjadi tipe data dictionary."
   ]
  },
  {
   "cell_type": "code",
   "execution_count": 14,
   "id": "887031e8-86b1-4e47-8094-94704f9fa18b",
   "metadata": {},
   "outputs": [],
   "source": [
    "def cetak_alamat(**alamat):\n",
    "    print(alamat)\n",
    "    for i,_ in enumerate(alamat):\n",
    "        print(f\"nama {alamat['nama'][i]} beralamat di {alamat['alamat'][i]}\")"
   ]
  },
  {
   "cell_type": "code",
   "execution_count": 13,
   "id": "4ff4a420-0d39-423e-9ec7-18606a626bc2",
   "metadata": {},
   "outputs": [
    {
     "name": "stdout",
     "output_type": "stream",
     "text": [
      "{'nama': ['Ansar', 'Usman'], 'alamat': ['Penajam', 'Ketapang']}\n"
     ]
    }
   ],
   "source": [
    "cetak_alamat(nama=[\"Ansar\", \"Usman\"], alamat=[\"Penajam\", \"Ketapang\"])"
   ]
  },
  {
   "cell_type": "code",
   "execution_count": 15,
   "id": "e534c2bb-0b23-42f4-81b2-ccb2538ef598",
   "metadata": {},
   "outputs": [
    {
     "name": "stdout",
     "output_type": "stream",
     "text": [
      "{'nama': ['Ansar', 'Usman'], 'alamat': ['Penajam', 'Ketapang']}\n",
      "nama Ansar beralamat di Penajam\n",
      "nama Usman beralamat di Ketapang\n"
     ]
    }
   ],
   "source": [
    "cetak_alamat(nama=[\"Ansar\", \"Usman\"], alamat=[\"Penajam\", \"Ketapang\"])"
   ]
  },
  {
   "cell_type": "code",
   "execution_count": null,
   "id": "60720d23-ccc7-448f-8cff-10b3fc31a32a",
   "metadata": {},
   "outputs": [],
   "source": []
  },
  {
   "cell_type": "code",
   "execution_count": null,
   "id": "81d85edc-f0e1-44ce-b82e-b42c7db78c83",
   "metadata": {},
   "outputs": [],
   "source": []
  }
 ],
 "metadata": {
  "kernelspec": {
   "display_name": "Python 3 (ipykernel)",
   "language": "python",
   "name": "python3"
  },
  "language_info": {
   "codemirror_mode": {
    "name": "ipython",
    "version": 3
   },
   "file_extension": ".py",
   "mimetype": "text/x-python",
   "name": "python",
   "nbconvert_exporter": "python",
   "pygments_lexer": "ipython3",
   "version": "3.11.7"
  }
 },
 "nbformat": 4,
 "nbformat_minor": 5
}
