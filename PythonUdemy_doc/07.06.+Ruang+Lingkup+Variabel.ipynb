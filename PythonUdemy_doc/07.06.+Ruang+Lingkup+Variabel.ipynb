{
 "cells": [
  {
   "cell_type": "markdown",
   "id": "a5f676b4-0897-4a4d-94db-85ebd37757ec",
   "metadata": {},
   "source": [
    "### Bayou Data\n",
    "##### By: Risdan Kristori\n",
    "##### Kursus Python Lengkap Berbahasa Indonesia"
   ]
  },
  {
   "cell_type": "markdown",
   "id": "b6d7754d-9a8b-44bc-8593-6dbf54dbddf2",
   "metadata": {},
   "source": [
    "# Ruang Lingkup (Scope)"
   ]
  },
  {
   "cell_type": "markdown",
   "id": "2aa19486-f7f3-4025-8a1f-00055cfaa665",
   "metadata": {},
   "source": [
    "## 1. Variabel Global"
   ]
  },
  {
   "cell_type": "code",
   "execution_count": 1,
   "id": "7f9c5fba-9df6-438e-b6c7-68001e56291a",
   "metadata": {},
   "outputs": [],
   "source": [
    "var = \"ini adalah variabel pertama\""
   ]
  },
  {
   "cell_type": "code",
   "execution_count": 2,
   "id": "a5b84017-4731-4a21-8683-f259b2580e4c",
   "metadata": {},
   "outputs": [],
   "source": [
    "def contoh():\n",
    "    print(var)"
   ]
  },
  {
   "cell_type": "code",
   "execution_count": 3,
   "id": "db0ab0f4-380f-4be3-9b57-5c982fdb7641",
   "metadata": {},
   "outputs": [
    {
     "name": "stdout",
     "output_type": "stream",
     "text": [
      "ini adalah variabel pertama\n"
     ]
    }
   ],
   "source": [
    "contoh()"
   ]
  },
  {
   "cell_type": "code",
   "execution_count": 4,
   "id": "e6ba44c8-02ac-4728-bba3-1c4871872b50",
   "metadata": {},
   "outputs": [
    {
     "data": {
      "text/plain": [
       "'ini adalah variabel pertama'"
      ]
     },
     "execution_count": 4,
     "metadata": {},
     "output_type": "execute_result"
    }
   ],
   "source": [
    "var"
   ]
  },
  {
   "cell_type": "code",
   "execution_count": 5,
   "id": "10aa28a0-9323-45eb-87ec-1f40a5a01889",
   "metadata": {},
   "outputs": [],
   "source": [
    "def contoh2():\n",
    "    print(var)"
   ]
  },
  {
   "cell_type": "code",
   "execution_count": 6,
   "id": "86d14733-aa84-49c4-bee8-48cf2b548ee6",
   "metadata": {},
   "outputs": [
    {
     "name": "stdout",
     "output_type": "stream",
     "text": [
      "ini adalah variabel pertama\n"
     ]
    }
   ],
   "source": [
    "contoh2()"
   ]
  },
  {
   "cell_type": "markdown",
   "id": "05055336-af69-4d87-ac14-4004a158a61a",
   "metadata": {},
   "source": [
    "## 2. Variabel Lokal"
   ]
  },
  {
   "cell_type": "code",
   "execution_count": 7,
   "id": "047ee4af-b988-47f2-8eb9-565b56d2b93c",
   "metadata": {},
   "outputs": [],
   "source": [
    "def contoh():\n",
    "    var2 = \"ini adalah variabel kedua\"\n",
    "    print(var2)"
   ]
  },
  {
   "cell_type": "code",
   "execution_count": 8,
   "id": "08bd0815-23cf-417a-896c-f904f846797f",
   "metadata": {},
   "outputs": [
    {
     "name": "stdout",
     "output_type": "stream",
     "text": [
      "ini adalah variabel kedua\n"
     ]
    }
   ],
   "source": [
    "contoh()"
   ]
  },
  {
   "cell_type": "code",
   "execution_count": 9,
   "id": "d43e7503-03ec-4a55-805c-a5de3ccf7b5f",
   "metadata": {},
   "outputs": [
    {
     "ename": "NameError",
     "evalue": "name 'var2' is not defined",
     "output_type": "error",
     "traceback": [
      "\u001b[1;31m---------------------------------------------------------------------------\u001b[0m",
      "\u001b[1;31mNameError\u001b[0m                                 Traceback (most recent call last)",
      "Cell \u001b[1;32mIn[9], line 1\u001b[0m\n\u001b[1;32m----> 1\u001b[0m var2\n",
      "\u001b[1;31mNameError\u001b[0m: name 'var2' is not defined"
     ]
    }
   ],
   "source": [
    "var2"
   ]
  },
  {
   "cell_type": "markdown",
   "id": "3e2360cf-815f-4daf-a71f-da17a30a92ee",
   "metadata": {},
   "source": [
    "## 3. Variabel Enclosed"
   ]
  },
  {
   "cell_type": "code",
   "execution_count": 10,
   "id": "bc9d2dc5-13c2-4a06-a3f6-6d8bc6d99353",
   "metadata": {},
   "outputs": [],
   "source": [
    "var = \"ini adalah varibel pertama\" # global variabel\n",
    "\n",
    "def contoh():\n",
    "    var3 = \"ini adalah variabel ketiga\"\n",
    "\n",
    "    def contoh2():\n",
    "        print(var3) # enclosing variable\n",
    "\n",
    "    print(var3) #local variable\n",
    "    contoh2()"
   ]
  },
  {
   "cell_type": "code",
   "execution_count": 11,
   "id": "de1a61af-389c-46e9-be9d-48449e65a76a",
   "metadata": {},
   "outputs": [
    {
     "name": "stdout",
     "output_type": "stream",
     "text": [
      "ini adalah variabel ketiga\n"
     ]
    }
   ],
   "source": [
    "contoh()"
   ]
  },
  {
   "cell_type": "markdown",
   "id": "92a326eb-3863-4fb5-9263-b5afb83d02fc",
   "metadata": {},
   "source": [
    "## 4. Keyword global"
   ]
  },
  {
   "cell_type": "code",
   "execution_count": 32,
   "id": "e8402b20-dd4d-44a1-89b8-af06d56e8e86",
   "metadata": {},
   "outputs": [],
   "source": [
    "var = \"ini adalah variabel pertama\""
   ]
  },
  {
   "cell_type": "code",
   "execution_count": 33,
   "id": "1c961dee-4936-43c2-a933-e90a1a2045ae",
   "metadata": {},
   "outputs": [],
   "source": [
    "def contoh():\n",
    "    var = \"ini adalah varibel pertama dalam fungsi\"\n",
    "    print(var)"
   ]
  },
  {
   "cell_type": "code",
   "execution_count": 34,
   "id": "05becc18-42e0-4692-94b0-3b16a359c0aa",
   "metadata": {},
   "outputs": [
    {
     "name": "stdout",
     "output_type": "stream",
     "text": [
      "ini adalah varibel pertama dalam fungsi\n"
     ]
    }
   ],
   "source": [
    "contoh()"
   ]
  },
  {
   "cell_type": "code",
   "execution_count": 35,
   "id": "84429df6-46ab-40a6-9f14-a57cb693053e",
   "metadata": {},
   "outputs": [
    {
     "data": {
      "text/plain": [
       "'ini adalah variabel pertama'"
      ]
     },
     "execution_count": 35,
     "metadata": {},
     "output_type": "execute_result"
    }
   ],
   "source": [
    "var"
   ]
  },
  {
   "cell_type": "code",
   "execution_count": 36,
   "id": "6aaa15c9-dc17-482b-a451-d6541dd539e9",
   "metadata": {},
   "outputs": [],
   "source": [
    "def contoh():\n",
    "    global var\n",
    "    var = \"ini adalah varibel pertama dalam fungsi\"\n",
    "    print(var)"
   ]
  },
  {
   "cell_type": "code",
   "execution_count": 37,
   "id": "c3ebefe5-61b5-40d3-b353-e91b72e79cb3",
   "metadata": {},
   "outputs": [
    {
     "name": "stdout",
     "output_type": "stream",
     "text": [
      "ini adalah varibel pertama dalam fungsi\n"
     ]
    }
   ],
   "source": [
    "contoh()"
   ]
  },
  {
   "cell_type": "code",
   "execution_count": 38,
   "id": "d64ceb1d-750a-42c9-9eea-f074c5d3136e",
   "metadata": {},
   "outputs": [
    {
     "data": {
      "text/plain": [
       "'ini adalah varibel pertama dalam fungsi'"
      ]
     },
     "execution_count": 38,
     "metadata": {},
     "output_type": "execute_result"
    }
   ],
   "source": [
    "var"
   ]
  },
  {
   "cell_type": "code",
   "execution_count": null,
   "id": "261bc255-06c3-46db-b247-95c4d37509ec",
   "metadata": {},
   "outputs": [],
   "source": []
  }
 ],
 "metadata": {
  "kernelspec": {
   "display_name": "Python 3 (ipykernel)",
   "language": "python",
   "name": "python3"
  },
  "language_info": {
   "codemirror_mode": {
    "name": "ipython",
    "version": 3
   },
   "file_extension": ".py",
   "mimetype": "text/x-python",
   "name": "python",
   "nbconvert_exporter": "python",
   "pygments_lexer": "ipython3",
   "version": "3.11.7"
  }
 },
 "nbformat": 4,
 "nbformat_minor": 5
}
