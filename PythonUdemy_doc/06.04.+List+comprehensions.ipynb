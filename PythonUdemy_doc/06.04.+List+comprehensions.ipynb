{
 "cells": [
  {
   "cell_type": "markdown",
   "id": "61e23326-f2f8-42e3-806c-1d40a4f821c1",
   "metadata": {},
   "source": [
    "### Bayou Data\n",
    "##### By: Risdan Kristori\n",
    "##### Kursus Python Lengkap Berbahasa Indonesia"
   ]
  },
  {
   "cell_type": "markdown",
   "id": "184b9382-d93a-4531-9cfd-f5c4283b10a9",
   "metadata": {},
   "source": [
    "# List Comprehensions"
   ]
  },
  {
   "cell_type": "markdown",
   "id": "9fc5f43a-57b0-4184-9061-bcd7d8f2645a",
   "metadata": {},
   "source": [
    "## 1. Membuat list dengan pengulangan for"
   ]
  },
  {
   "cell_type": "code",
   "execution_count": 1,
   "id": "f877fe0d-9e70-4914-8849-64272361b5d0",
   "metadata": {},
   "outputs": [
    {
     "data": {
      "text/plain": [
       "['s', 'e', 'l', 'a', 'm', 'a', 't']"
      ]
     },
     "execution_count": 1,
     "metadata": {},
     "output_type": "execute_result"
    }
   ],
   "source": [
    "var = \"selamat\"\n",
    "\n",
    "list_var = [i for i in var]\n",
    "list_var"
   ]
  },
  {
   "cell_type": "code",
   "execution_count": 3,
   "id": "fbba55a9-4345-48d7-a695-aa45271c425d",
   "metadata": {},
   "outputs": [
    {
     "data": {
      "text/plain": [
       "[3, 6, 9, 12, 15]"
      ]
     },
     "execution_count": 3,
     "metadata": {},
     "output_type": "execute_result"
    }
   ],
   "source": [
    "var = [1,2,3,4,5]\n",
    "\n",
    "list_var = [item*3 for item in var]\n",
    "list_var"
   ]
  },
  {
   "cell_type": "code",
   "execution_count": 4,
   "id": "d1fca3e1-f1c1-40d4-9167-6a1dda678e6a",
   "metadata": {},
   "outputs": [
    {
     "data": {
      "text/plain": [
       "[1, 2, 3, 4, 5, 6, 7, 8, 9, 10]"
      ]
     },
     "execution_count": 4,
     "metadata": {},
     "output_type": "execute_result"
    }
   ],
   "source": [
    "list_var = [i for i in range(1,11)]\n",
    "list_var"
   ]
  },
  {
   "cell_type": "code",
   "execution_count": 5,
   "id": "23cd405b-bad2-462e-bb23-13d1de8f96ed",
   "metadata": {},
   "outputs": [
    {
     "data": {
      "text/plain": [
       "[2, 4, 6, 8, 10, 12, 14, 16, 18, 20]"
      ]
     },
     "execution_count": 5,
     "metadata": {},
     "output_type": "execute_result"
    }
   ],
   "source": [
    "list_var = [i for i in range(2,21,2)]\n",
    "list_var"
   ]
  },
  {
   "cell_type": "markdown",
   "id": "64ae00aa-d632-4448-b9d4-1a469f180cab",
   "metadata": {},
   "source": [
    "## 2. Dengan menambahkan pernyataan kondisional"
   ]
  },
  {
   "cell_type": "code",
   "execution_count": 6,
   "id": "d31f599c-1d08-49bf-87cf-d2f72001fffb",
   "metadata": {},
   "outputs": [
    {
     "data": {
      "text/plain": [
       "[1, 3, 5, 7, 9, 11, 13, 15, 17, 19]"
      ]
     },
     "execution_count": 6,
     "metadata": {},
     "output_type": "execute_result"
    }
   ],
   "source": [
    "list_var = [i for i in range(1,21) if i%2==1]\n",
    "list_var"
   ]
  },
  {
   "cell_type": "code",
   "execution_count": 7,
   "id": "b436e25a-26ca-4ed3-9b4c-784095bc6823",
   "metadata": {},
   "outputs": [
    {
     "data": {
      "text/plain": [
       "['a', 'a']"
      ]
     },
     "execution_count": 7,
     "metadata": {},
     "output_type": "execute_result"
    }
   ],
   "source": [
    "var = \"selamat\"\n",
    "\n",
    "list_var = [i for i in var if i == 'a']\n",
    "list_var"
   ]
  },
  {
   "cell_type": "code",
   "execution_count": 8,
   "id": "87b065c9-6c29-46e6-9925-edf2bcc5dc2b",
   "metadata": {},
   "outputs": [
    {
     "data": {
      "text/plain": [
       "['Ganjil',\n",
       " 2,\n",
       " 'Ganjil',\n",
       " 4,\n",
       " 'Ganjil',\n",
       " 6,\n",
       " 'Ganjil',\n",
       " 8,\n",
       " 'Ganjil',\n",
       " 10,\n",
       " 'Ganjil',\n",
       " 12,\n",
       " 'Ganjil',\n",
       " 14,\n",
       " 'Ganjil',\n",
       " 16,\n",
       " 'Ganjil',\n",
       " 18,\n",
       " 'Ganjil',\n",
       " 20]"
      ]
     },
     "execution_count": 8,
     "metadata": {},
     "output_type": "execute_result"
    }
   ],
   "source": [
    "list_var = [\"Ganjil\" if i%2==1 else i for i in range(1,21)]\n",
    "list_var"
   ]
  },
  {
   "cell_type": "markdown",
   "id": "7b1b80e8-91c7-4a4f-a2a2-b58c7db9131e",
   "metadata": {},
   "source": [
    "## 3. Dengan multivariabel"
   ]
  },
  {
   "cell_type": "code",
   "execution_count": 9,
   "id": "7fb5f9fd-9298-4ef7-83c3-0c1e67053f9e",
   "metadata": {},
   "outputs": [
    {
     "data": {
      "text/plain": [
       "[10, 20, 30, 20, 40, 60, 30, 60, 90]"
      ]
     },
     "execution_count": 9,
     "metadata": {},
     "output_type": "execute_result"
    }
   ],
   "source": [
    "var = [1,2,3]\n",
    "var2 = [10,20,30]\n",
    "\n",
    "var3 = [x*y for x in var for y in var2]\n",
    "var3"
   ]
  },
  {
   "cell_type": "code",
   "execution_count": null,
   "id": "3c8b8801-63f8-485e-9eb2-087fb180151d",
   "metadata": {},
   "outputs": [],
   "source": []
  }
 ],
 "metadata": {
  "kernelspec": {
   "display_name": "Python 3 (ipykernel)",
   "language": "python",
   "name": "python3"
  },
  "language_info": {
   "codemirror_mode": {
    "name": "ipython",
    "version": 3
   },
   "file_extension": ".py",
   "mimetype": "text/x-python",
   "name": "python",
   "nbconvert_exporter": "python",
   "pygments_lexer": "ipython3",
   "version": "3.11.7"
  }
 },
 "nbformat": 4,
 "nbformat_minor": 5
}
