{
 "cells": [
  {
   "cell_type": "markdown",
   "id": "06dd05b2-60cc-4a28-b033-cc9c82ddf439",
   "metadata": {},
   "source": [
    "### Bayou Data\n",
    "##### By: Risdan Kristori\n",
    "##### Kursus Python Lengkap Berbahasa Indonesia"
   ]
  },
  {
   "cell_type": "markdown",
   "id": "b6d7754d-9a8b-44bc-8593-6dbf54dbddf2",
   "metadata": {},
   "source": [
    "# Dasar-dasar Fungsi pada Python"
   ]
  },
  {
   "cell_type": "markdown",
   "id": "3e2360cf-815f-4daf-a71f-da17a30a92ee",
   "metadata": {},
   "source": [
    "## 1. Mengenal Parameter\n",
    "\n",
    "### Cara menyisipkan parameter di dalam fungsi dan memberikan argumen saat memanggil fungsi"
   ]
  },
  {
   "cell_type": "code",
   "execution_count": 28,
   "id": "430486a0-dfe9-4377-b790-6f86b1916411",
   "metadata": {},
   "outputs": [],
   "source": [
    "def halo(nama):\n",
    "    print(f'hai {nama}')"
   ]
  },
  {
   "cell_type": "code",
   "execution_count": 30,
   "id": "fc54ca61-7920-4924-9beb-5d6ddc6afe54",
   "metadata": {},
   "outputs": [],
   "source": [
    "def halo(nama, nama2):\n",
    "    print(f'hai {nama} dan {nama2}')"
   ]
  },
  {
   "cell_type": "code",
   "execution_count": 33,
   "id": "d881ba84-93c4-4e9d-a9a4-6c641bdfdc47",
   "metadata": {},
   "outputs": [],
   "source": [
    "def luas_persegi(sisi):\n",
    "    luas = sisi*sisi\n",
    "    print(f'luas persegi dengan sisi {sisi} adalah {luas}')"
   ]
  },
  {
   "cell_type": "code",
   "execution_count": 37,
   "id": "931a00d3-7d7c-4a3d-922a-a322b125685d",
   "metadata": {},
   "outputs": [],
   "source": [
    "def luas_persegi2(sisi):\n",
    "    luas = sisi*sisi\n",
    "    return luas"
   ]
  },
  {
   "cell_type": "markdown",
   "id": "b0d88ebd-8825-4d0b-befe-21d653061143",
   "metadata": {},
   "source": [
    "## 2. Mengenal Argument\n",
    "\n",
    "### Argumen adalah nilai yang akan mengisi parameter di dalam fungsi"
   ]
  },
  {
   "cell_type": "code",
   "execution_count": 29,
   "id": "61bc440c-c19c-4567-a92e-d5cda5ef2c63",
   "metadata": {},
   "outputs": [
    {
     "name": "stdout",
     "output_type": "stream",
     "text": [
      "hai Joko\n"
     ]
    }
   ],
   "source": [
    "halo(nama = \"Joko\")"
   ]
  },
  {
   "cell_type": "code",
   "execution_count": 31,
   "id": "052d7353-4a3f-48c8-9f16-7c4f65ca2417",
   "metadata": {},
   "outputs": [
    {
     "name": "stdout",
     "output_type": "stream",
     "text": [
      "hai Joko dan Susi\n"
     ]
    }
   ],
   "source": [
    "halo(nama = \"Joko\", nama2 = \"Susi\")"
   ]
  },
  {
   "cell_type": "code",
   "execution_count": 32,
   "id": "98de0658-8f72-4dca-abf4-2da2a3406a80",
   "metadata": {},
   "outputs": [
    {
     "name": "stdout",
     "output_type": "stream",
     "text": [
      "hai Joko dan Susi\n"
     ]
    }
   ],
   "source": [
    "halo(\"Joko\", \"Susi\")"
   ]
  },
  {
   "cell_type": "code",
   "execution_count": 35,
   "id": "a2118419-ef20-4e2f-a10b-4889c628e891",
   "metadata": {},
   "outputs": [
    {
     "name": "stdout",
     "output_type": "stream",
     "text": [
      "luas persegi dengan sisi 4 adalah 16\n",
      "luas persegi dengan sisi 7 adalah 49\n",
      "luas persegi dengan sisi 16 adalah 256\n",
      "luas persegi dengan sisi 23 adalah 529\n"
     ]
    }
   ],
   "source": [
    "luas_persegi(4)\n",
    "luas_persegi(7)\n",
    "luas_persegi(16)\n",
    "luas_persegi(23)"
   ]
  },
  {
   "cell_type": "code",
   "execution_count": 38,
   "id": "bc192299-3b62-42df-ab46-2d83ceb316d0",
   "metadata": {},
   "outputs": [
    {
     "data": {
      "text/plain": [
       "64"
      ]
     },
     "execution_count": 38,
     "metadata": {},
     "output_type": "execute_result"
    }
   ],
   "source": [
    "luas_persegi2(8)"
   ]
  },
  {
   "cell_type": "code",
   "execution_count": 41,
   "id": "8f0db95f-7d6d-4be8-ab6c-1eb131904c37",
   "metadata": {},
   "outputs": [],
   "source": [
    "var = luas_persegi2(8)\n",
    "var2 = luas_persegi2(14)"
   ]
  },
  {
   "cell_type": "code",
   "execution_count": 43,
   "id": "b519106c-c4ec-4fca-b0e7-7fb77c3e0e55",
   "metadata": {},
   "outputs": [
    {
     "name": "stdout",
     "output_type": "stream",
     "text": [
      "64\n",
      "196\n"
     ]
    }
   ],
   "source": [
    "print(var)\n",
    "print(var2)"
   ]
  },
  {
   "cell_type": "markdown",
   "id": "92a326eb-3863-4fb5-9263-b5afb83d02fc",
   "metadata": {},
   "source": [
    "## 3. Mengenal Default Parameter"
   ]
  },
  {
   "cell_type": "markdown",
   "id": "ad9f4a17-bf58-44cf-acd7-2636cb74d98a",
   "metadata": {},
   "source": [
    "### Default parameter adalah nilai bawaan paramater saat pemanggilan fungsi tidak menyertakan argument."
   ]
  },
  {
   "cell_type": "code",
   "execution_count": 45,
   "id": "3dfe32d7-71ff-4e72-85df-d68a3d82e8f8",
   "metadata": {},
   "outputs": [
    {
     "ename": "TypeError",
     "evalue": "luas_persegi2() missing 1 required positional argument: 'sisi'",
     "output_type": "error",
     "traceback": [
      "\u001b[1;31m---------------------------------------------------------------------------\u001b[0m",
      "\u001b[1;31mTypeError\u001b[0m                                 Traceback (most recent call last)",
      "Cell \u001b[1;32mIn[45], line 1\u001b[0m\n\u001b[1;32m----> 1\u001b[0m luas_persegi2()\n",
      "\u001b[1;31mTypeError\u001b[0m: luas_persegi2() missing 1 required positional argument: 'sisi'"
     ]
    }
   ],
   "source": [
    "luas_persegi2()"
   ]
  },
  {
   "cell_type": "code",
   "execution_count": 46,
   "id": "4efa993f-dbee-462d-8765-f573c3246005",
   "metadata": {},
   "outputs": [],
   "source": [
    "def luas_persegi2(sisi = 0):\n",
    "    luas = sisi*sisi\n",
    "    return luas"
   ]
  },
  {
   "cell_type": "code",
   "execution_count": 47,
   "id": "0662fa62-d400-49c2-ac38-d66ad786ed28",
   "metadata": {},
   "outputs": [
    {
     "data": {
      "text/plain": [
       "0"
      ]
     },
     "execution_count": 47,
     "metadata": {},
     "output_type": "execute_result"
    }
   ],
   "source": [
    "luas_persegi2()"
   ]
  },
  {
   "cell_type": "code",
   "execution_count": 48,
   "id": "4ab7cea8-a83e-4029-b069-356725ef9fe1",
   "metadata": {},
   "outputs": [
    {
     "data": {
      "text/plain": [
       "49"
      ]
     },
     "execution_count": 48,
     "metadata": {},
     "output_type": "execute_result"
    }
   ],
   "source": [
    "luas_persegi2(7)"
   ]
  },
  {
   "cell_type": "code",
   "execution_count": 49,
   "id": "072a885c-b499-4df0-b13e-95bdc6d0c21a",
   "metadata": {},
   "outputs": [],
   "source": [
    "def halo(nama = \"belum ada nama\"):\n",
    "    print(f'hai {nama}')"
   ]
  },
  {
   "cell_type": "code",
   "execution_count": 50,
   "id": "4afe326d-5721-4318-8974-94075d7c4f72",
   "metadata": {},
   "outputs": [
    {
     "name": "stdout",
     "output_type": "stream",
     "text": [
      "hai jeki\n"
     ]
    }
   ],
   "source": [
    "halo(\"jeki\")"
   ]
  },
  {
   "cell_type": "code",
   "execution_count": 52,
   "id": "1ad37666-b0cb-43d1-9c80-f99061551a88",
   "metadata": {},
   "outputs": [
    {
     "name": "stdout",
     "output_type": "stream",
     "text": [
      "hai belum ada nama\n"
     ]
    }
   ],
   "source": [
    "halo()"
   ]
  },
  {
   "cell_type": "code",
   "execution_count": null,
   "id": "83293ea9-a344-4b83-92c7-c5fd6a7d9114",
   "metadata": {},
   "outputs": [],
   "source": []
  }
 ],
 "metadata": {
  "kernelspec": {
   "display_name": "Python 3 (ipykernel)",
   "language": "python",
   "name": "python3"
  },
  "language_info": {
   "codemirror_mode": {
    "name": "ipython",
    "version": 3
   },
   "file_extension": ".py",
   "mimetype": "text/x-python",
   "name": "python",
   "nbconvert_exporter": "python",
   "pygments_lexer": "ipython3",
   "version": "3.11.7"
  }
 },
 "nbformat": 4,
 "nbformat_minor": 5
}
