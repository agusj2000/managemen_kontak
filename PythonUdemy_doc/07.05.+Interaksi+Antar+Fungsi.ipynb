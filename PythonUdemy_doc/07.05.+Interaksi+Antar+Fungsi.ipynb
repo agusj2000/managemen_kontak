{
 "cells": [
  {
   "cell_type": "markdown",
   "id": "346054cf-f5dd-4cb8-8aa5-dfa31797c5a7",
   "metadata": {},
   "source": [
    "### Bayou Data\n",
    "##### By: Risdan Kristori\n",
    "##### Kursus Python Lengkap Berbahasa Indonesia"
   ]
  },
  {
   "cell_type": "markdown",
   "id": "825820c3-dd2f-4ba7-9f05-e3bc9dd91ea9",
   "metadata": {},
   "source": [
    "# Interaksi Antar Fungsi"
   ]
  },
  {
   "cell_type": "code",
   "execution_count": 25,
   "id": "f423074d-8d86-41e6-aeb0-d4e3b2238bbd",
   "metadata": {},
   "outputs": [
    {
     "name": "stdin",
     "output_type": "stream",
     "text": [
      " halo\n"
     ]
    },
    {
     "data": {
      "text/plain": [
       "'halo'"
      ]
     },
     "execution_count": 25,
     "metadata": {},
     "output_type": "execute_result"
    }
   ],
   "source": [
    "input()"
   ]
  },
  {
   "cell_type": "code",
   "execution_count": 26,
   "id": "b3d08a7a-0143-4f00-8130-9d1baa6db813",
   "metadata": {},
   "outputs": [
    {
     "name": "stdin",
     "output_type": "stream",
     "text": [
      " 1\n"
     ]
    },
    {
     "data": {
      "text/plain": [
       "'1'"
      ]
     },
     "execution_count": 26,
     "metadata": {},
     "output_type": "execute_result"
    }
   ],
   "source": [
    "input()"
   ]
  },
  {
   "cell_type": "code",
   "execution_count": 27,
   "id": "65b184d9-31f3-42dc-867d-10bf98b35751",
   "metadata": {},
   "outputs": [
    {
     "name": "stdin",
     "output_type": "stream",
     "text": [
      " 1\n"
     ]
    }
   ],
   "source": [
    "var = input()"
   ]
  },
  {
   "cell_type": "code",
   "execution_count": 28,
   "id": "ebbe5499-3ac1-4277-a148-07f5bb33e1fb",
   "metadata": {},
   "outputs": [
    {
     "data": {
      "text/plain": [
       "'1'"
      ]
     },
     "execution_count": 28,
     "metadata": {},
     "output_type": "execute_result"
    }
   ],
   "source": [
    "var"
   ]
  },
  {
   "cell_type": "code",
   "execution_count": 29,
   "id": "317c4897-5fbc-4f90-b285-bbacc2b3e368",
   "metadata": {},
   "outputs": [
    {
     "data": {
      "text/plain": [
       "str"
      ]
     },
     "execution_count": 29,
     "metadata": {},
     "output_type": "execute_result"
    }
   ],
   "source": [
    "type(var)"
   ]
  },
  {
   "cell_type": "code",
   "execution_count": null,
   "id": "8744dcb3-d117-4e7c-979e-564b9a625ae8",
   "metadata": {},
   "outputs": [],
   "source": []
  },
  {
   "cell_type": "code",
   "execution_count": null,
   "id": "05fb07e2-45c8-4193-ba00-77021bd14bf7",
   "metadata": {},
   "outputs": [],
   "source": []
  },
  {
   "cell_type": "code",
   "execution_count": null,
   "id": "2bcd14ce-a0d2-4c0b-bee4-b8f09660a7c9",
   "metadata": {},
   "outputs": [],
   "source": []
  },
  {
   "cell_type": "code",
   "execution_count": null,
   "id": "5ab9ecc2-5a54-4ba7-b4bc-d1671ed1e85b",
   "metadata": {},
   "outputs": [],
   "source": []
  },
  {
   "cell_type": "code",
   "execution_count": null,
   "id": "4fa75ca6-73f8-4008-b7c8-5bfeb78f81b7",
   "metadata": {},
   "outputs": [],
   "source": []
  },
  {
   "cell_type": "code",
   "execution_count": null,
   "id": "851fa086-a85e-4e70-bca2-b12f988d6b92",
   "metadata": {},
   "outputs": [],
   "source": [
    "def tambah_agenda(agenda, agenda_baru):\n",
    "    agenda.append(agenda_baru)\n",
    "    print(\"Agenda sudah ditambahkan\")"
   ]
  },
  {
   "cell_type": "code",
   "execution_count": 36,
   "id": "b657006a-3376-44b1-ac40-595e1eccde28",
   "metadata": {},
   "outputs": [],
   "source": [
    "def lihat_agenda(agenda):\n",
    "    print(\"Daftar AgendaKU:\")\n",
    "    for index, item in enumerate(agenda):\n",
    "        print(f'{index+1}. {item}')"
   ]
  },
  {
   "cell_type": "code",
   "execution_count": 34,
   "id": "bf87c23b-f9db-43d5-9e3c-3b43d33a4a24",
   "metadata": {},
   "outputs": [],
   "source": [
    "def main():\n",
    "    agenda = []\n",
    "\n",
    "    while True:\n",
    "        print(\"AgendaKU\")\n",
    "        print(\"1. Menambah Agenda\")\n",
    "        print(\"2. Melihat Agenda\")\n",
    "        print(\"3. Keluar dari Agenda\")\n",
    "    \n",
    "        pilihan = input(\"Masukkan pilihan:  \")\n",
    "    \n",
    "        if pilihan == '1':\n",
    "            agenda_baru = input(\"Masukkan agenda baru:  \")\n",
    "            tambah_agenda(agenda, agenda_baru)\n",
    "        elif pilihan == '2':\n",
    "            lihat_agenda(agenda)\n",
    "        elif pilihan == '3':\n",
    "            break\n",
    "        else:\n",
    "            print(\"pilihan anda salah, masukkan pilihan yang tepat (1, 2 atau 3)\")\n",
    "\n",
    "    print(\"keluar dari agenda\")"
   ]
  },
  {
   "cell_type": "code",
   "execution_count": 37,
   "id": "48e6cd61-149e-4515-977f-e803993d078f",
   "metadata": {},
   "outputs": [
    {
     "name": "stdout",
     "output_type": "stream",
     "text": [
      "AgendaKU\n",
      "1. Menambah Agenda\n",
      "2. Melihat Agenda\n",
      "3. Keluar dari Agenda\n"
     ]
    },
    {
     "name": "stdin",
     "output_type": "stream",
     "text": [
      "Masukkan pilihan:   1\n",
      "Masukkan agenda baru:   makan\n"
     ]
    },
    {
     "name": "stdout",
     "output_type": "stream",
     "text": [
      "Agenda sudah ditambahkan\n",
      "\n",
      "AgendaKU\n",
      "1. Menambah Agenda\n",
      "2. Melihat Agenda\n",
      "3. Keluar dari Agenda\n"
     ]
    },
    {
     "name": "stdin",
     "output_type": "stream",
     "text": [
      "Masukkan pilihan:   1\n",
      "Masukkan agenda baru:   tidur\n"
     ]
    },
    {
     "name": "stdout",
     "output_type": "stream",
     "text": [
      "Agenda sudah ditambahkan\n",
      "\n",
      "AgendaKU\n",
      "1. Menambah Agenda\n",
      "2. Melihat Agenda\n",
      "3. Keluar dari Agenda\n"
     ]
    },
    {
     "name": "stdin",
     "output_type": "stream",
     "text": [
      "Masukkan pilihan:   2\n"
     ]
    },
    {
     "name": "stdout",
     "output_type": "stream",
     "text": [
      "Daftar AgendaKU:\n",
      "1. makan\n",
      "2. tidur\n",
      "AgendaKU\n",
      "1. Menambah Agenda\n",
      "2. Melihat Agenda\n",
      "3. Keluar dari Agenda\n"
     ]
    },
    {
     "name": "stdin",
     "output_type": "stream",
     "text": [
      "Masukkan pilihan:   1\n",
      "Masukkan agenda baru:   makan\n"
     ]
    },
    {
     "name": "stdout",
     "output_type": "stream",
     "text": [
      "Agenda sudah ditambahkan\n",
      "\n",
      "AgendaKU\n",
      "1. Menambah Agenda\n",
      "2. Melihat Agenda\n",
      "3. Keluar dari Agenda\n"
     ]
    },
    {
     "name": "stdin",
     "output_type": "stream",
     "text": [
      "Masukkan pilihan:   2\n"
     ]
    },
    {
     "name": "stdout",
     "output_type": "stream",
     "text": [
      "Daftar AgendaKU:\n",
      "1. makan\n",
      "2. tidur\n",
      "3. makan\n",
      "AgendaKU\n",
      "1. Menambah Agenda\n",
      "2. Melihat Agenda\n",
      "3. Keluar dari Agenda\n"
     ]
    },
    {
     "name": "stdin",
     "output_type": "stream",
     "text": [
      "Masukkan pilihan:   3\n"
     ]
    },
    {
     "name": "stdout",
     "output_type": "stream",
     "text": [
      "keluar dari agenda\n"
     ]
    }
   ],
   "source": [
    "main()"
   ]
  },
  {
   "cell_type": "code",
   "execution_count": null,
   "id": "bd4da41c-003e-49ae-b4d4-4bbad8bb7fbb",
   "metadata": {},
   "outputs": [],
   "source": []
  }
 ],
 "metadata": {
  "kernelspec": {
   "display_name": "Python 3 (ipykernel)",
   "language": "python",
   "name": "python3"
  },
  "language_info": {
   "codemirror_mode": {
    "name": "ipython",
    "version": 3
   },
   "file_extension": ".py",
   "mimetype": "text/x-python",
   "name": "python",
   "nbconvert_exporter": "python",
   "pygments_lexer": "ipython3",
   "version": "3.11.7"
  }
 },
 "nbformat": 4,
 "nbformat_minor": 5
}
