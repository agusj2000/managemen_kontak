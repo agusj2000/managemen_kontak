{
 "cells": [
  {
   "cell_type": "markdown",
   "id": "5ea57f18-8df4-4e20-a8fb-f08f5bcd64ad",
   "metadata": {},
   "source": [
    "### Bayou Data\n",
    "##### By: Risdan Kristori\n",
    "##### Kursus Python Lengkap Berbahasa Indonesia"
   ]
  },
  {
   "cell_type": "markdown",
   "id": "184b9382-d93a-4531-9cfd-f5c4283b10a9",
   "metadata": {},
   "source": [
    "# Pengulangan for"
   ]
  },
  {
   "cell_type": "markdown",
   "id": "9fc5f43a-57b0-4184-9061-bcd7d8f2645a",
   "metadata": {},
   "source": [
    "## 1. Sintak pengulangan for"
   ]
  },
  {
   "cell_type": "code",
   "execution_count": 25,
   "id": "cfca1980-aebd-40b4-bd63-380f32d61fd3",
   "metadata": {},
   "outputs": [
    {
     "name": "stdout",
     "output_type": "stream",
     "text": [
      "1\n",
      "2\n",
      "3\n"
     ]
    }
   ],
   "source": [
    "var = [1,2,3]\n",
    "\n",
    "for item in var:\n",
    "    print(item)"
   ]
  },
  {
   "cell_type": "code",
   "execution_count": 28,
   "id": "37c963e1-60bd-486b-a557-fdb589da5a8b",
   "metadata": {},
   "outputs": [
    {
     "name": "stdout",
     "output_type": "stream",
     "text": [
      "karakter H\n",
      "karakter A\n",
      "karakter L\n",
      "karakter O\n",
      "karakter  \n",
      "karakter S\n",
      "karakter E\n",
      "karakter M\n",
      "karakter U\n",
      "karakter A\n"
     ]
    }
   ],
   "source": [
    "var2 = \"HALO SEMUA\"\n",
    "for i in var2:\n",
    "    print(f'karakter {i}')"
   ]
  },
  {
   "cell_type": "code",
   "execution_count": 29,
   "id": "8189b539-e2d6-43c2-b319-03170ea82b11",
   "metadata": {},
   "outputs": [
    {
     "name": "stdout",
     "output_type": "stream",
     "text": [
      "karakter a\n",
      "karakter b\n"
     ]
    }
   ],
   "source": [
    "var3 = (\"a\", \"b\")\n",
    "for i in var3:\n",
    "    print(f'karakter {i}')"
   ]
  },
  {
   "cell_type": "code",
   "execution_count": 30,
   "id": "bcdbb220-5ac0-4f87-b2c8-70a5e798ebdb",
   "metadata": {},
   "outputs": [
    {
     "name": "stdout",
     "output_type": "stream",
     "text": [
      "1 adalah bilangan positif\n",
      "-2 adalah bilangan negatif\n",
      "3 adalah bilangan positif\n",
      "-4 adalah bilangan negatif\n",
      "5 adalah bilangan positif\n",
      "-6 adalah bilangan negatif\n",
      "-7 adalah bilangan negatif\n",
      "8 adalah bilangan positif\n",
      "9 adalah bilangan positif\n",
      "10 adalah bilangan positif\n"
     ]
    }
   ],
   "source": [
    "var = [1,-2,3,-4,5,-6,-7,8,9,10]\n",
    "\n",
    "for item in var:\n",
    "    if item>0:\n",
    "        print(f'{item} adalah bilangan positif')\n",
    "    else:\n",
    "        print(f'{item} adalah bilangan negatif')"
   ]
  },
  {
   "cell_type": "code",
   "execution_count": 31,
   "id": "297e994f-abb5-45e3-a91e-e62efeaabba7",
   "metadata": {},
   "outputs": [
    {
     "data": {
      "text/plain": [
       "[1, -2, 3, -4, 5, -6, -7, 8, 9, 10]"
      ]
     },
     "execution_count": 31,
     "metadata": {},
     "output_type": "execute_result"
    }
   ],
   "source": [
    "var"
   ]
  },
  {
   "cell_type": "code",
   "execution_count": 32,
   "id": "356603c4-12ed-471d-b941-bf06745de954",
   "metadata": {},
   "outputs": [
    {
     "name": "stdout",
     "output_type": "stream",
     "text": [
      "1\n",
      "-1\n",
      "2\n",
      "-2\n",
      "3\n",
      "-3\n",
      "-10\n",
      "-2\n",
      "7\n",
      "17\n",
      "17\n"
     ]
    }
   ],
   "source": [
    "jumlah = 0\n",
    "for item in var:\n",
    "    jumlah += item\n",
    "    print(jumlah)\n",
    "\n",
    "print(jumlah)"
   ]
  },
  {
   "cell_type": "code",
   "execution_count": 33,
   "id": "8fdaa483-4af5-433f-95c3-f3e1d0da9ed6",
   "metadata": {},
   "outputs": [
    {
     "name": "stdout",
     "output_type": "stream",
     "text": [
      "HEI\n",
      "HEI\n",
      "HEI\n",
      "HEI\n",
      "HEI\n",
      "HEI\n",
      "HEI\n",
      "HEI\n",
      "HEI\n",
      "HEI\n"
     ]
    }
   ],
   "source": [
    "for _ in var:\n",
    "    print(\"HEI\")"
   ]
  },
  {
   "cell_type": "code",
   "execution_count": 34,
   "id": "85fd423c-e313-49b5-9666-3282ace6aa6f",
   "metadata": {},
   "outputs": [],
   "source": [
    "var = [(1,2), (3,4)]"
   ]
  },
  {
   "cell_type": "code",
   "execution_count": 38,
   "id": "e9fd1fc6-6c9f-4dbf-b485-c4d999326356",
   "metadata": {},
   "outputs": [
    {
     "name": "stdout",
     "output_type": "stream",
     "text": [
      "2\n",
      "4\n"
     ]
    }
   ],
   "source": [
    "#Tuple unpacking\n",
    "for a,b in var:\n",
    "    # print(a)\n",
    "    print(b)"
   ]
  },
  {
   "cell_type": "code",
   "execution_count": 39,
   "id": "463a036c-0314-4187-bc56-96a93502aeb8",
   "metadata": {},
   "outputs": [],
   "source": [
    "var = {1: \"a\", 2: \"b\"}"
   ]
  },
  {
   "cell_type": "code",
   "execution_count": 45,
   "id": "7577adc7-0630-4402-bd96-cd2d5764a2bd",
   "metadata": {},
   "outputs": [
    {
     "name": "stdout",
     "output_type": "stream",
     "text": [
      "key 1\n",
      "value a\n",
      "key 2\n",
      "value b\n"
     ]
    }
   ],
   "source": [
    "for (a,b) in var.items():\n",
    "    print(f'key {a}')\n",
    "    print(f'value {b}')"
   ]
  },
  {
   "cell_type": "markdown",
   "id": "ca4e8070-f439-4e75-842f-699fc15ddb9c",
   "metadata": {},
   "source": [
    "## 2. Pengulangan for dengang built-in function enumerate(), zip() dan range()"
   ]
  },
  {
   "cell_type": "code",
   "execution_count": 48,
   "id": "14ddd6ab-2b82-4779-bdcb-cce5d58f5a0f",
   "metadata": {},
   "outputs": [
    {
     "name": "stdout",
     "output_type": "stream",
     "text": [
      "item ke-1 adalaha a\n",
      "item ke-2 adalaha b\n",
      "item ke-3 adalaha c\n"
     ]
    }
   ],
   "source": [
    "var = [\"a\", \"b\", \"c\"]\n",
    "\n",
    "for i, item in enumerate(var):\n",
    "    print(f'item ke-{i+1} adalaha {item}')"
   ]
  },
  {
   "cell_type": "code",
   "execution_count": 49,
   "id": "61ecf43d-1765-4009-b722-c88dfaf1008b",
   "metadata": {},
   "outputs": [],
   "source": [
    "var2 = [1,2,3]"
   ]
  },
  {
   "cell_type": "code",
   "execution_count": 51,
   "id": "2a315f06-4b4a-4016-8e72-ab83785537e1",
   "metadata": {},
   "outputs": [
    {
     "name": "stdout",
     "output_type": "stream",
     "text": [
      "a dan 1\n",
      "b dan 2\n",
      "c dan 3\n"
     ]
    }
   ],
   "source": [
    "for a, b in zip(var, var2):\n",
    "    print(f'{a} dan {b}')"
   ]
  },
  {
   "cell_type": "code",
   "execution_count": 54,
   "id": "664f6e15-4351-44f3-9cb2-b41e2068047a",
   "metadata": {},
   "outputs": [
    {
     "name": "stdout",
     "output_type": "stream",
     "text": [
      "2\n",
      "3\n",
      "4\n",
      "5\n",
      "6\n",
      "7\n",
      "8\n",
      "9\n"
     ]
    }
   ],
   "source": [
    "#range(start, end, step)\n",
    "for item in range(2,10):\n",
    "    print(item)"
   ]
  },
  {
   "cell_type": "code",
   "execution_count": 57,
   "id": "cc42e03d-6488-457b-9c2b-db2ff2cdb82d",
   "metadata": {},
   "outputs": [],
   "source": [
    "var = []\n",
    "for item in range(100):\n",
    "    var.append(item)"
   ]
  },
  {
   "cell_type": "code",
   "execution_count": 58,
   "id": "b473ccbc-1061-46c2-8901-fe648991fb99",
   "metadata": {},
   "outputs": [
    {
     "data": {
      "text/plain": [
       "[0,\n",
       " 1,\n",
       " 2,\n",
       " 3,\n",
       " 4,\n",
       " 5,\n",
       " 6,\n",
       " 7,\n",
       " 8,\n",
       " 9,\n",
       " 10,\n",
       " 11,\n",
       " 12,\n",
       " 13,\n",
       " 14,\n",
       " 15,\n",
       " 16,\n",
       " 17,\n",
       " 18,\n",
       " 19,\n",
       " 20,\n",
       " 21,\n",
       " 22,\n",
       " 23,\n",
       " 24,\n",
       " 25,\n",
       " 26,\n",
       " 27,\n",
       " 28,\n",
       " 29,\n",
       " 30,\n",
       " 31,\n",
       " 32,\n",
       " 33,\n",
       " 34,\n",
       " 35,\n",
       " 36,\n",
       " 37,\n",
       " 38,\n",
       " 39,\n",
       " 40,\n",
       " 41,\n",
       " 42,\n",
       " 43,\n",
       " 44,\n",
       " 45,\n",
       " 46,\n",
       " 47,\n",
       " 48,\n",
       " 49,\n",
       " 50,\n",
       " 51,\n",
       " 52,\n",
       " 53,\n",
       " 54,\n",
       " 55,\n",
       " 56,\n",
       " 57,\n",
       " 58,\n",
       " 59,\n",
       " 60,\n",
       " 61,\n",
       " 62,\n",
       " 63,\n",
       " 64,\n",
       " 65,\n",
       " 66,\n",
       " 67,\n",
       " 68,\n",
       " 69,\n",
       " 70,\n",
       " 71,\n",
       " 72,\n",
       " 73,\n",
       " 74,\n",
       " 75,\n",
       " 76,\n",
       " 77,\n",
       " 78,\n",
       " 79,\n",
       " 80,\n",
       " 81,\n",
       " 82,\n",
       " 83,\n",
       " 84,\n",
       " 85,\n",
       " 86,\n",
       " 87,\n",
       " 88,\n",
       " 89,\n",
       " 90,\n",
       " 91,\n",
       " 92,\n",
       " 93,\n",
       " 94,\n",
       " 95,\n",
       " 96,\n",
       " 97,\n",
       " 98,\n",
       " 99]"
      ]
     },
     "execution_count": 58,
     "metadata": {},
     "output_type": "execute_result"
    }
   ],
   "source": [
    "var"
   ]
  },
  {
   "cell_type": "code",
   "execution_count": null,
   "id": "a8532892-7ca8-429e-9f99-355edf3e02c8",
   "metadata": {},
   "outputs": [],
   "source": []
  }
 ],
 "metadata": {
  "kernelspec": {
   "display_name": "Python 3 (ipykernel)",
   "language": "python",
   "name": "python3"
  },
  "language_info": {
   "codemirror_mode": {
    "name": "ipython",
    "version": 3
   },
   "file_extension": ".py",
   "mimetype": "text/x-python",
   "name": "python",
   "nbconvert_exporter": "python",
   "pygments_lexer": "ipython3",
   "version": "3.11.7"
  }
 },
 "nbformat": 4,
 "nbformat_minor": 5
}
