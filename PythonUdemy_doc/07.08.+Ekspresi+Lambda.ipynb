{
 "cells": [
  {
   "cell_type": "markdown",
   "id": "0552fc3d-dff5-4139-9669-cec3bde607e9",
   "metadata": {},
   "source": [
    "### Bayou Data\n",
    "##### By: Risdan Kristori\n",
    "##### Kursus Python Lengkap Berbahasa Indonesia"
   ]
  },
  {
   "cell_type": "markdown",
   "id": "b6d7754d-9a8b-44bc-8593-6dbf54dbddf2",
   "metadata": {},
   "source": [
    "# Lambda Expression"
   ]
  },
  {
   "cell_type": "markdown",
   "id": "228d936c-74e6-4200-a481-fbac698cbca0",
   "metadata": {},
   "source": [
    "## 1. Sintak "
   ]
  },
  {
   "cell_type": "code",
   "execution_count": 4,
   "id": "178fd88f-76ef-4f05-b84f-a084d063e0b0",
   "metadata": {},
   "outputs": [],
   "source": [
    "def kali_dua(var):\n",
    "    var_baru = []\n",
    "    for item in var:\n",
    "        var_baru.append(item*2)\n",
    "    return var_baru"
   ]
  },
  {
   "cell_type": "code",
   "execution_count": 5,
   "id": "d0147cf6-c907-48be-b769-f8a79230be25",
   "metadata": {},
   "outputs": [],
   "source": [
    "num = [1,2,3,4,5]"
   ]
  },
  {
   "cell_type": "code",
   "execution_count": 6,
   "id": "4b431a7e-0f7e-4486-907d-d8e049cae109",
   "metadata": {},
   "outputs": [
    {
     "data": {
      "text/plain": [
       "[2, 4, 6, 8, 10]"
      ]
     },
     "execution_count": 6,
     "metadata": {},
     "output_type": "execute_result"
    }
   ],
   "source": [
    "kali_dua(num)"
   ]
  },
  {
   "cell_type": "code",
   "execution_count": 8,
   "id": "075b04dc-46b5-46ee-9b6d-38e7e6fc98b7",
   "metadata": {},
   "outputs": [],
   "source": [
    "kalidua_lambda = lambda x : x*2"
   ]
  },
  {
   "cell_type": "markdown",
   "id": "8b271ffe-9b40-40dc-a04d-c87d07608b0d",
   "metadata": {},
   "source": [
    "## 2. Built-in Function map()"
   ]
  },
  {
   "cell_type": "code",
   "execution_count": 9,
   "id": "d9154f0a-081b-4a7d-95c2-737f6c4e04a0",
   "metadata": {},
   "outputs": [
    {
     "data": {
      "text/plain": [
       "<map at 0x2220f08d540>"
      ]
     },
     "execution_count": 9,
     "metadata": {},
     "output_type": "execute_result"
    }
   ],
   "source": [
    "map(kalidua_lambda, num)"
   ]
  },
  {
   "cell_type": "code",
   "execution_count": 10,
   "id": "dd730cef-36b7-4965-89b8-202523ef7237",
   "metadata": {},
   "outputs": [
    {
     "name": "stdout",
     "output_type": "stream",
     "text": [
      "2\n",
      "4\n",
      "6\n",
      "8\n",
      "10\n"
     ]
    }
   ],
   "source": [
    "for item in map(kalidua_lambda, num):\n",
    "    print(item)"
   ]
  },
  {
   "cell_type": "code",
   "execution_count": 11,
   "id": "c8178362-0883-45b7-acc2-87917573693c",
   "metadata": {},
   "outputs": [
    {
     "data": {
      "text/plain": [
       "[2, 4, 6, 8, 10]"
      ]
     },
     "execution_count": 11,
     "metadata": {},
     "output_type": "execute_result"
    }
   ],
   "source": [
    "list(map(kalidua_lambda, num))"
   ]
  },
  {
   "cell_type": "code",
   "execution_count": 14,
   "id": "9fa6669f-8251-4650-b5c1-913d3810cb63",
   "metadata": {},
   "outputs": [
    {
     "data": {
      "text/plain": [
       "[2, 4, 6, 8, 10]"
      ]
     },
     "execution_count": 14,
     "metadata": {},
     "output_type": "execute_result"
    }
   ],
   "source": [
    "list(map(lambda x: x*2, num)) #satu baris"
   ]
  },
  {
   "cell_type": "code",
   "execution_count": 15,
   "id": "15f15b4a-d413-4279-923e-f9af0693f692",
   "metadata": {},
   "outputs": [
    {
     "data": {
      "text/plain": [
       "[3, 6, 9, 12, 15]"
      ]
     },
     "execution_count": 15,
     "metadata": {},
     "output_type": "execute_result"
    }
   ],
   "source": [
    "list(map(lambda x: x*3, num)) #satu baris"
   ]
  },
  {
   "cell_type": "code",
   "execution_count": 16,
   "id": "2b210405-680d-4b31-9f83-ae20d8fa3360",
   "metadata": {},
   "outputs": [
    {
     "data": {
      "text/plain": [
       "(3, 6, 9, 12, 15)"
      ]
     },
     "execution_count": 16,
     "metadata": {},
     "output_type": "execute_result"
    }
   ],
   "source": [
    "tuple(map(lambda x: x*3, num)) #satu baris"
   ]
  },
  {
   "cell_type": "markdown",
   "id": "946c5098-8042-4337-ac4c-ace305995a20",
   "metadata": {},
   "source": [
    "## 3. Built-in Function filter()"
   ]
  },
  {
   "cell_type": "code",
   "execution_count": 21,
   "id": "3614855d-432a-4078-afd4-cc3c31eb22d6",
   "metadata": {},
   "outputs": [
    {
     "data": {
      "text/plain": [
       "[1, 2, 3, 4, 5]"
      ]
     },
     "execution_count": 21,
     "metadata": {},
     "output_type": "execute_result"
    }
   ],
   "source": [
    "num"
   ]
  },
  {
   "cell_type": "code",
   "execution_count": 23,
   "id": "b42c611d-45b1-4dde-9b56-f10fdd41abde",
   "metadata": {},
   "outputs": [
    {
     "data": {
      "text/plain": [
       "[2, 4]"
      ]
     },
     "execution_count": 23,
     "metadata": {},
     "output_type": "execute_result"
    }
   ],
   "source": [
    "list(filter(lambda x : x%2==0 , num))"
   ]
  },
  {
   "cell_type": "code",
   "execution_count": 24,
   "id": "d606a0b0-8813-47f9-848c-6910df272a20",
   "metadata": {},
   "outputs": [
    {
     "data": {
      "text/plain": [
       "[1, 3, 5]"
      ]
     },
     "execution_count": 24,
     "metadata": {},
     "output_type": "execute_result"
    }
   ],
   "source": [
    "list(filter(lambda x : x%2==1 , num))"
   ]
  },
  {
   "cell_type": "markdown",
   "id": "df58b6c8-bb58-4134-b917-c6bd753ec0bc",
   "metadata": {},
   "source": [
    "## 4. Built-in Function sorted()"
   ]
  },
  {
   "cell_type": "code",
   "execution_count": 25,
   "id": "50657978-525b-4762-8724-0f3f2f16cb2e",
   "metadata": {},
   "outputs": [],
   "source": [
    "var = [\n",
    "    (\"Alex\", 27),\n",
    "    (\"Hesti\", 17),\n",
    "    (\"Hairul\", 18),\n",
    "]"
   ]
  },
  {
   "cell_type": "code",
   "execution_count": 28,
   "id": "f349c3fe-ad74-47c2-bc60-c66446cae555",
   "metadata": {},
   "outputs": [
    {
     "data": {
      "text/plain": [
       "[('Hesti', 17), ('Hairul', 18), ('Alex', 27)]"
      ]
     },
     "execution_count": 28,
     "metadata": {},
     "output_type": "execute_result"
    }
   ],
   "source": [
    "sorted(var, key = lambda x: x[1])"
   ]
  },
  {
   "cell_type": "code",
   "execution_count": null,
   "id": "01ef737d-b74e-40a7-b0c0-9c9e7e652803",
   "metadata": {},
   "outputs": [],
   "source": []
  }
 ],
 "metadata": {
  "kernelspec": {
   "display_name": "Python 3 (ipykernel)",
   "language": "python",
   "name": "python3"
  },
  "language_info": {
   "codemirror_mode": {
    "name": "ipython",
    "version": 3
   },
   "file_extension": ".py",
   "mimetype": "text/x-python",
   "name": "python",
   "nbconvert_exporter": "python",
   "pygments_lexer": "ipython3",
   "version": "3.11.7"
  }
 },
 "nbformat": 4,
 "nbformat_minor": 5
}
