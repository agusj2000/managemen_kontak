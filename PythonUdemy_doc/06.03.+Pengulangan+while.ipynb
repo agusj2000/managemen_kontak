{
 "cells": [
  {
   "cell_type": "markdown",
   "id": "1f71e58e-f6ce-48ac-84c0-1bd855785d6b",
   "metadata": {},
   "source": [
    "### Bayou Data\n",
    "##### By: Risdan Kristori\n",
    "##### Kursus Python Lengkap Berbahasa Indonesia"
   ]
  },
  {
   "cell_type": "markdown",
   "id": "184b9382-d93a-4531-9cfd-f5c4283b10a9",
   "metadata": {},
   "source": [
    "# 1. Pengulangan while"
   ]
  },
  {
   "cell_type": "code",
   "execution_count": 1,
   "id": "73d59cfa-5b6f-4ffa-943d-3f6416fa4abb",
   "metadata": {},
   "outputs": [
    {
     "name": "stdout",
     "output_type": "stream",
     "text": [
      "hei\n",
      "hei\n",
      "hei\n",
      "hei\n",
      "hei\n"
     ]
    }
   ],
   "source": [
    "x = 5\n",
    "while x>0:\n",
    "    print(\"hei\")\n",
    "    x -= 1"
   ]
  },
  {
   "cell_type": "code",
   "execution_count": 2,
   "id": "1d329b12-b815-4ef4-bac8-f79ba435c82a",
   "metadata": {},
   "outputs": [
    {
     "name": "stdout",
     "output_type": "stream",
     "text": [
      "hei\n",
      "hei\n",
      "hei\n",
      "hei\n",
      "hei\n",
      "selesai\n"
     ]
    }
   ],
   "source": [
    "x = 5\n",
    "while x>0:\n",
    "    print(\"hei\")\n",
    "    x -= 1\n",
    "else:\n",
    "    print(\"selesai\")"
   ]
  },
  {
   "cell_type": "markdown",
   "id": "db439bda-74e4-4f56-b951-714a2e1abd1b",
   "metadata": {},
   "source": [
    "# 2. Loop Control Statment"
   ]
  },
  {
   "cell_type": "markdown",
   "id": "92a556f3-b40e-4a49-9228-b6ea1ba15569",
   "metadata": {},
   "source": [
    "## 2.1 Pass"
   ]
  },
  {
   "cell_type": "code",
   "execution_count": 5,
   "id": "e2f0f3ae-83bf-4a0f-aa9f-72dbd19b46a7",
   "metadata": {},
   "outputs": [],
   "source": [
    "var = [1,2,3,4,5]\n",
    "for i in var:\n",
    "    pass\n",
    "    #kosong"
   ]
  },
  {
   "cell_type": "code",
   "execution_count": 6,
   "id": "0795259f-9eec-4526-b7e1-a20b9b6f4db7",
   "metadata": {},
   "outputs": [
    {
     "name": "stdout",
     "output_type": "stream",
     "text": [
      "1\n",
      "3\n",
      "4\n",
      "5\n"
     ]
    }
   ],
   "source": [
    "for i in var:\n",
    "    if i == 2:\n",
    "        pass\n",
    "    else:\n",
    "        print(i)"
   ]
  },
  {
   "cell_type": "markdown",
   "id": "975f546a-20c1-4f50-b6ab-fb9abdbb25d2",
   "metadata": {},
   "source": [
    "## 2.2 Continue"
   ]
  },
  {
   "cell_type": "code",
   "execution_count": 7,
   "id": "8f0d381c-af2c-4270-8e0b-90d542b2cc91",
   "metadata": {},
   "outputs": [
    {
     "name": "stdout",
     "output_type": "stream",
     "text": [
      "1\n",
      "3\n",
      "4\n",
      "5\n"
     ]
    }
   ],
   "source": [
    "for i in var:\n",
    "    if i == 2:\n",
    "        continue\n",
    "    print(i)"
   ]
  },
  {
   "cell_type": "markdown",
   "id": "5b76cd09-63be-43f9-944f-367b3c0a7269",
   "metadata": {},
   "source": [
    "## 2.3 Break"
   ]
  },
  {
   "cell_type": "code",
   "execution_count": 8,
   "id": "e1aa7a5b-a5bf-415a-89b2-fb3d6f684bcb",
   "metadata": {},
   "outputs": [
    {
     "name": "stdout",
     "output_type": "stream",
     "text": [
      "1\n"
     ]
    }
   ],
   "source": [
    "for i in var:\n",
    "    if i == 2:\n",
    "        break\n",
    "    print(i)"
   ]
  },
  {
   "cell_type": "code",
   "execution_count": 9,
   "id": "b3749349-e6ca-44d7-b2a4-50d37b98d583",
   "metadata": {},
   "outputs": [
    {
     "name": "stdout",
     "output_type": "stream",
     "text": [
      "hei\n",
      "hei\n",
      "hei\n",
      "hei\n",
      "hei\n"
     ]
    }
   ],
   "source": [
    "x = 5\n",
    "while True:\n",
    "    print(\"hei\")\n",
    "    x -= 1\n",
    "    if x == 0:\n",
    "        break"
   ]
  },
  {
   "cell_type": "code",
   "execution_count": null,
   "id": "acee09f6-15a1-4f31-8732-ef5497ba9818",
   "metadata": {},
   "outputs": [],
   "source": []
  }
 ],
 "metadata": {
  "kernelspec": {
   "display_name": "Python 3 (ipykernel)",
   "language": "python",
   "name": "python3"
  },
  "language_info": {
   "codemirror_mode": {
    "name": "ipython",
    "version": 3
   },
   "file_extension": ".py",
   "mimetype": "text/x-python",
   "name": "python",
   "nbconvert_exporter": "python",
   "pygments_lexer": "ipython3",
   "version": "3.11.7"
  }
 },
 "nbformat": 4,
 "nbformat_minor": 5
}
