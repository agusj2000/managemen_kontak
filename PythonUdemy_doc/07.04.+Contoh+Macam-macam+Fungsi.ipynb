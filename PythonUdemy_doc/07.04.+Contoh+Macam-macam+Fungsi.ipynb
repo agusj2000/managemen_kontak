{
 "cells": [
  {
   "cell_type": "markdown",
   "id": "913aa7da-3ac1-4eb6-9317-0478f66b1b8a",
   "metadata": {},
   "source": [
    "### Bayou Data\n",
    "##### By: Risdan Kristori\n",
    "##### Kursus Python Lengkap Berbahasa Indonesia"
   ]
  },
  {
   "cell_type": "markdown",
   "id": "b6d7754d-9a8b-44bc-8593-6dbf54dbddf2",
   "metadata": {},
   "source": [
    "# Contoh Macam-macam Fungsi"
   ]
  },
  {
   "cell_type": "markdown",
   "id": "2aa19486-f7f3-4025-8a1f-00055cfaa665",
   "metadata": {},
   "source": [
    "## 1. Fungsi dengan Operator"
   ]
  },
  {
   "cell_type": "code",
   "execution_count": 1,
   "id": "4508dc3e-1344-45d1-a02d-e788360525e0",
   "metadata": {},
   "outputs": [],
   "source": [
    "def apakah_genap(angka):\n",
    "    hasil = angka%2 == 0\n",
    "    return hasil"
   ]
  },
  {
   "cell_type": "code",
   "execution_count": 4,
   "id": "e2a2d786-9974-4214-9760-5b39472c6728",
   "metadata": {},
   "outputs": [],
   "source": [
    "def apakah_genap(angka):\n",
    "    return angka%2 == 0"
   ]
  },
  {
   "cell_type": "code",
   "execution_count": 6,
   "id": "3331a5c7-13db-4a82-8b0f-79da7f12cba9",
   "metadata": {},
   "outputs": [
    {
     "data": {
      "text/plain": [
       "False"
      ]
     },
     "execution_count": 6,
     "metadata": {},
     "output_type": "execute_result"
    }
   ],
   "source": [
    "apakah_genap(3)"
   ]
  },
  {
   "cell_type": "code",
   "execution_count": 7,
   "id": "dc673a80-2e28-4964-8af8-bd5d2ba6b881",
   "metadata": {},
   "outputs": [],
   "source": [
    "def bisa_membuat_sim(umur):\n",
    "    return umur>= 17"
   ]
  },
  {
   "cell_type": "code",
   "execution_count": 9,
   "id": "75e51b52-c55d-4c28-a44f-f08310d912da",
   "metadata": {},
   "outputs": [
    {
     "data": {
      "text/plain": [
       "True"
      ]
     },
     "execution_count": 9,
     "metadata": {},
     "output_type": "execute_result"
    }
   ],
   "source": [
    "bisa_membuat_sim(18)"
   ]
  },
  {
   "cell_type": "markdown",
   "id": "05055336-af69-4d87-ac14-4004a158a61a",
   "metadata": {},
   "source": [
    "## 2. Fungsi dengan Pernyataan Kondisional"
   ]
  },
  {
   "cell_type": "code",
   "execution_count": 10,
   "id": "0f7a256e-6f4c-45a4-b0b2-0bcfe3bec871",
   "metadata": {},
   "outputs": [],
   "source": [
    "def ganjil_genap(angka):\n",
    "    if angka%2==0:\n",
    "        print(f'{angka} adalah bilangan genap')\n",
    "    else:\n",
    "        print(f'{angka} adalah bilangan ganjil')"
   ]
  },
  {
   "cell_type": "code",
   "execution_count": 12,
   "id": "7cda1444-e088-46e5-9ddb-45e7a21a4bff",
   "metadata": {},
   "outputs": [
    {
     "name": "stdout",
     "output_type": "stream",
     "text": [
      "12 adalah bilangan genap\n"
     ]
    }
   ],
   "source": [
    "ganjil_genap(12)"
   ]
  },
  {
   "cell_type": "code",
   "execution_count": 13,
   "id": "e81f5e89-8a6b-4c6d-8ad7-bf7dcb55c815",
   "metadata": {},
   "outputs": [],
   "source": [
    "def gaji_baru(gaji_lama, performa):\n",
    "    gaji_sekarang = 0\n",
    "    if performa >= 8:\n",
    "        gaji_sekarang = gaji_lama*1.07\n",
    "    elif performa >=6:\n",
    "        gaji_sekarang = gaji_lama*1.04\n",
    "    else:\n",
    "        gaji_sekarang = gaji_lama\n",
    "    return gaji_sekarang"
   ]
  },
  {
   "cell_type": "code",
   "execution_count": 14,
   "id": "5fd478f0-c5a8-4adc-911d-c759f448ac0d",
   "metadata": {},
   "outputs": [
    {
     "data": {
      "text/plain": [
       "5000000"
      ]
     },
     "execution_count": 14,
     "metadata": {},
     "output_type": "execute_result"
    }
   ],
   "source": [
    "gaji_baru(5000000, 5)"
   ]
  },
  {
   "cell_type": "code",
   "execution_count": 15,
   "id": "dd2829d7-cc81-46fc-b3c5-1a36c0dd35cc",
   "metadata": {},
   "outputs": [
    {
     "data": {
      "text/plain": [
       "5200000.0"
      ]
     },
     "execution_count": 15,
     "metadata": {},
     "output_type": "execute_result"
    }
   ],
   "source": [
    "gaji_baru(5000000, 7)"
   ]
  },
  {
   "cell_type": "code",
   "execution_count": 16,
   "id": "fc2ebcac-aec0-445e-8ffd-99e8d760097b",
   "metadata": {},
   "outputs": [
    {
     "data": {
      "text/plain": [
       "5350000.0"
      ]
     },
     "execution_count": 16,
     "metadata": {},
     "output_type": "execute_result"
    }
   ],
   "source": [
    "gaji_baru(5000000, 10)"
   ]
  },
  {
   "cell_type": "markdown",
   "id": "3e2360cf-815f-4daf-a71f-da17a30a92ee",
   "metadata": {},
   "source": [
    "## 3. Fungsi dengan Pengulangan"
   ]
  },
  {
   "cell_type": "code",
   "execution_count": 17,
   "id": "6a117802-3f35-45a1-922c-81ee4d696b94",
   "metadata": {},
   "outputs": [],
   "source": [
    "def hitung_vokal(var):\n",
    "    total = 0\n",
    "    for item in var:\n",
    "        if item in 'aiueoAIUEO':\n",
    "            total += 1\n",
    "    return total"
   ]
  },
  {
   "cell_type": "code",
   "execution_count": 18,
   "id": "1ddf8b36-3872-4cdc-8d98-26772057120f",
   "metadata": {},
   "outputs": [
    {
     "data": {
      "text/plain": [
       "3"
      ]
     },
     "execution_count": 18,
     "metadata": {},
     "output_type": "execute_result"
    }
   ],
   "source": [
    "hitung_vokal('kemana')"
   ]
  },
  {
   "cell_type": "code",
   "execution_count": 19,
   "id": "2d0d0985-cecc-433a-8b34-cb4190edb219",
   "metadata": {},
   "outputs": [
    {
     "data": {
      "text/plain": [
       "6"
      ]
     },
     "execution_count": 19,
     "metadata": {},
     "output_type": "execute_result"
    }
   ],
   "source": [
    "hitung_vokal('hari ini cerah')"
   ]
  },
  {
   "cell_type": "markdown",
   "id": "9551d930-3fb4-4258-910f-8dfb2b3a64aa",
   "metadata": {},
   "source": [
    "## 4. Fungsi di dalam Fungsi"
   ]
  },
  {
   "cell_type": "code",
   "execution_count": 20,
   "id": "67f68078-90e0-4037-9bf5-dce56f34fac1",
   "metadata": {},
   "outputs": [],
   "source": [
    "def luas_persegipanjang(p, l):\n",
    "\n",
    "    def cek_p(p):\n",
    "        return p>0\n",
    "    def cek_l(l):\n",
    "        return l>0\n",
    "\n",
    "    if cek_p(p) and cek_l(l):\n",
    "        return p*l\n",
    "    else:\n",
    "        print(\"panjang atau lebar yang dimasukkan salah\")"
   ]
  },
  {
   "cell_type": "code",
   "execution_count": 21,
   "id": "50d87b12-b5fb-44c1-ae57-125b99fb05e0",
   "metadata": {},
   "outputs": [
    {
     "data": {
      "text/plain": [
       "6"
      ]
     },
     "execution_count": 21,
     "metadata": {},
     "output_type": "execute_result"
    }
   ],
   "source": [
    "luas_persegipanjang(2,3)"
   ]
  },
  {
   "cell_type": "code",
   "execution_count": 22,
   "id": "0aa29ed1-e3bc-4f9f-bbfb-28752bbc873f",
   "metadata": {},
   "outputs": [
    {
     "name": "stdout",
     "output_type": "stream",
     "text": [
      "panjang atau lebar yang dimasukkan salah\n"
     ]
    }
   ],
   "source": [
    "luas_persegipanjang(-2,3)"
   ]
  },
  {
   "cell_type": "markdown",
   "id": "92a326eb-3863-4fb5-9263-b5afb83d02fc",
   "metadata": {},
   "source": [
    "## 5. Fungsi Rekursif"
   ]
  },
  {
   "cell_type": "code",
   "execution_count": 23,
   "id": "185d1896-96c9-42dd-8724-184ec2967722",
   "metadata": {},
   "outputs": [],
   "source": [
    "# 4! = 4*3*2*1\n",
    "# 6! = 6*5*4..."
   ]
  },
  {
   "cell_type": "code",
   "execution_count": 24,
   "id": "1ca8007a-b893-4c45-b057-8843f0f3ecc4",
   "metadata": {},
   "outputs": [],
   "source": [
    "def factorial(num):\n",
    "    if num == 0:\n",
    "        return 1\n",
    "    else:\n",
    "        return num*factorial(num-1)"
   ]
  },
  {
   "cell_type": "code",
   "execution_count": 25,
   "id": "547ec8b2-de35-42d6-85db-281d641d3031",
   "metadata": {},
   "outputs": [
    {
     "data": {
      "text/plain": [
       "6"
      ]
     },
     "execution_count": 25,
     "metadata": {},
     "output_type": "execute_result"
    }
   ],
   "source": [
    "factorial(3)"
   ]
  },
  {
   "cell_type": "code",
   "execution_count": null,
   "id": "2e09fb66-9dc2-465b-876e-8057edd3ee57",
   "metadata": {},
   "outputs": [],
   "source": [
    "3*2*1"
   ]
  }
 ],
 "metadata": {
  "kernelspec": {
   "display_name": "Python 3 (ipykernel)",
   "language": "python",
   "name": "python3"
  },
  "language_info": {
   "codemirror_mode": {
    "name": "ipython",
    "version": 3
   },
   "file_extension": ".py",
   "mimetype": "text/x-python",
   "name": "python",
   "nbconvert_exporter": "python",
   "pygments_lexer": "ipython3",
   "version": "3.11.7"
  }
 },
 "nbformat": 4,
 "nbformat_minor": 5
}
