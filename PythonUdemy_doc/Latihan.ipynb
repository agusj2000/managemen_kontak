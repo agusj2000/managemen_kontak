{
 "cells": [
  {
   "cell_type": "code",
   "execution_count": 1,
   "id": "c2840319-2380-47a6-8113-ae384937c799",
   "metadata": {},
   "outputs": [],
   "source": [
    "var = 100"
   ]
  },
  {
   "cell_type": "code",
   "execution_count": 2,
   "id": "55e6715b-b9d2-442e-8cbf-a2648cdd5f0a",
   "metadata": {},
   "outputs": [
    {
     "data": {
      "text/plain": [
       "100"
      ]
     },
     "execution_count": 2,
     "metadata": {},
     "output_type": "execute_result"
    }
   ],
   "source": [
    "var\n"
   ]
  },
  {
   "cell_type": "code",
   "execution_count": 4,
   "id": "14e2f119-7c29-4d8c-b41e-5909d80921eb",
   "metadata": {},
   "outputs": [],
   "source": [
    "nama = \"Joko\"\n"
   ]
  },
  {
   "cell_type": "code",
   "execution_count": 5,
   "id": "94dcc20c-5c36-403f-b387-ca9bd41fc34c",
   "metadata": {},
   "outputs": [
    {
     "data": {
      "text/plain": [
       "str"
      ]
     },
     "execution_count": 5,
     "metadata": {},
     "output_type": "execute_result"
    }
   ],
   "source": [
    "type(nama)"
   ]
  },
  {
   "cell_type": "code",
   "execution_count": 6,
   "id": "addc97de-95fe-48aa-adc9-b3510f301359",
   "metadata": {},
   "outputs": [],
   "source": [
    "umur = 20"
   ]
  },
  {
   "cell_type": "code",
   "execution_count": 7,
   "id": "6d63e404-be37-467c-bd9c-96ae6a30270e",
   "metadata": {},
   "outputs": [
    {
     "data": {
      "text/plain": [
       "int"
      ]
     },
     "execution_count": 7,
     "metadata": {},
     "output_type": "execute_result"
    }
   ],
   "source": [
    "type(umur)"
   ]
  },
  {
   "cell_type": "code",
   "execution_count": 8,
   "id": "2f1c40bd-faf7-4a90-9f2d-3e285d72a9da",
   "metadata": {},
   "outputs": [],
   "source": [
    "nama, umur = \"coki\", 25"
   ]
  },
  {
   "cell_type": "code",
   "execution_count": 9,
   "id": "1513d3c5-a8de-4023-aa22-6441cea697cc",
   "metadata": {},
   "outputs": [
    {
     "data": {
      "text/plain": [
       "'coki'"
      ]
     },
     "execution_count": 9,
     "metadata": {},
     "output_type": "execute_result"
    }
   ],
   "source": [
    "nama"
   ]
  },
  {
   "cell_type": "code",
   "execution_count": 10,
   "id": "cd8d968b-cd01-45d6-9da5-0413389b64c3",
   "metadata": {},
   "outputs": [
    {
     "data": {
      "text/plain": [
       "25"
      ]
     },
     "execution_count": 10,
     "metadata": {},
     "output_type": "execute_result"
    }
   ],
   "source": [
    "umur"
   ]
  },
  {
   "cell_type": "code",
   "execution_count": 12,
   "id": "c5690122-ecec-409a-89b8-33aefdf802ed",
   "metadata": {},
   "outputs": [],
   "source": [
    "var, var, var = 10, 20, 30"
   ]
  },
  {
   "cell_type": "code",
   "execution_count": 13,
   "id": "e38263a6-cb75-4960-9bf0-fa1e9480c03f",
   "metadata": {},
   "outputs": [
    {
     "data": {
      "text/plain": [
       "30"
      ]
     },
     "execution_count": 13,
     "metadata": {},
     "output_type": "execute_result"
    }
   ],
   "source": [
    "var"
   ]
  },
  {
   "cell_type": "code",
   "execution_count": 14,
   "id": "5d285d8a-eb44-4be7-8a61-f06a7e49fdbf",
   "metadata": {},
   "outputs": [],
   "source": [
    "d=\"4\"\n"
   ]
  },
  {
   "cell_type": "code",
   "execution_count": 15,
   "id": "474c3855-dc32-4882-b6a1-2258f1eec381",
   "metadata": {},
   "outputs": [],
   "source": [
    "c=2\n"
   ]
  },
  {
   "cell_type": "code",
   "execution_count": 17,
   "id": "73670b9c-7663-438a-bd7a-cd3ab6364c73",
   "metadata": {},
   "outputs": [
    {
     "data": {
      "text/plain": [
       "str"
      ]
     },
     "execution_count": 17,
     "metadata": {},
     "output_type": "execute_result"
    }
   ],
   "source": [
    "type(d)\n"
   ]
  },
  {
   "cell_type": "code",
   "execution_count": 18,
   "id": "10ba85ed-ec3e-410b-9434-558671ea4e59",
   "metadata": {},
   "outputs": [
    {
     "data": {
      "text/plain": [
       "4"
      ]
     },
     "execution_count": 18,
     "metadata": {},
     "output_type": "execute_result"
    }
   ],
   "source": [
    "int(d)"
   ]
  },
  {
   "cell_type": "code",
   "execution_count": 20,
   "id": "a37f5956-0f5f-453b-9412-801ab909de26",
   "metadata": {},
   "outputs": [
    {
     "data": {
      "text/plain": [
       "str"
      ]
     },
     "execution_count": 20,
     "metadata": {},
     "output_type": "execute_result"
    }
   ],
   "source": [
    "type(d)\n"
   ]
  },
  {
   "cell_type": "code",
   "execution_count": 21,
   "id": "86c0557a-0952-4555-80ca-6c2a4d69fcf7",
   "metadata": {},
   "outputs": [],
   "source": [
    "d=int(d)\n"
   ]
  },
  {
   "cell_type": "code",
   "execution_count": 22,
   "id": "128e4e0e-ce79-49e2-bfc5-da40e3f80ead",
   "metadata": {},
   "outputs": [
    {
     "data": {
      "text/plain": [
       "4"
      ]
     },
     "execution_count": 22,
     "metadata": {},
     "output_type": "execute_result"
    }
   ],
   "source": [
    "d"
   ]
  },
  {
   "cell_type": "code",
   "execution_count": 23,
   "id": "4551abac-5578-4fb4-b972-98c2d268c908",
   "metadata": {},
   "outputs": [
    {
     "data": {
      "text/plain": [
       "int"
      ]
     },
     "execution_count": 23,
     "metadata": {},
     "output_type": "execute_result"
    }
   ],
   "source": [
    "type(d)\n"
   ]
  },
  {
   "cell_type": "code",
   "execution_count": 24,
   "id": "16f3fecb-417a-44fb-be8a-15c38962305a",
   "metadata": {},
   "outputs": [
    {
     "data": {
      "text/plain": [
       "6"
      ]
     },
     "execution_count": 24,
     "metadata": {},
     "output_type": "execute_result"
    }
   ],
   "source": [
    "c+d"
   ]
  },
  {
   "cell_type": "code",
   "execution_count": 25,
   "id": "fa31f304-3ea7-4b1b-8e39-3c64f8bb8d25",
   "metadata": {},
   "outputs": [],
   "source": [
    "complex=3+5"
   ]
  },
  {
   "cell_type": "code",
   "execution_count": 26,
   "id": "1b9d1b1d-f2ee-44ef-a5b8-8ac1f5086cc5",
   "metadata": {},
   "outputs": [
    {
     "data": {
      "text/plain": [
       "8"
      ]
     },
     "execution_count": 26,
     "metadata": {},
     "output_type": "execute_result"
    }
   ],
   "source": [
    "complex"
   ]
  },
  {
   "cell_type": "code",
   "execution_count": 29,
   "id": "3c12c8bb-aa53-45d3-9c0d-6310b8b9e78a",
   "metadata": {},
   "outputs": [
    {
     "data": {
      "text/plain": [
       "3.14"
      ]
     },
     "execution_count": 29,
     "metadata": {},
     "output_type": "execute_result"
    }
   ],
   "source": [
    "float(\"3.14\")"
   ]
  },
  {
   "cell_type": "code",
   "execution_count": 31,
   "id": "6e70d07a-f0e8-48b8-a88f-e1fff499940e",
   "metadata": {},
   "outputs": [],
   "source": [
    "c=3j"
   ]
  },
  {
   "cell_type": "code",
   "execution_count": 32,
   "id": "bccd5063-516a-47a2-b1df-e6082558dcea",
   "metadata": {},
   "outputs": [
    {
     "data": {
      "text/plain": [
       "complex"
      ]
     },
     "execution_count": 32,
     "metadata": {},
     "output_type": "execute_result"
    }
   ],
   "source": [
    "type(c)"
   ]
  },
  {
   "cell_type": "code",
   "execution_count": 33,
   "id": "d9276ef9-29d3-4b1a-b0ce-5d9306c44040",
   "metadata": {},
   "outputs": [
    {
     "data": {
      "text/plain": [
       "int"
      ]
     },
     "execution_count": 33,
     "metadata": {},
     "output_type": "execute_result"
    }
   ],
   "source": [
    "type(4)"
   ]
  },
  {
   "cell_type": "code",
   "execution_count": 36,
   "id": "3e2837a9-fad6-47e8-a020-703a129505c3",
   "metadata": {},
   "outputs": [
    {
     "data": {
      "text/plain": [
       "complex"
      ]
     },
     "execution_count": 36,
     "metadata": {},
     "output_type": "execute_result"
    }
   ],
   "source": [
    "type(c)"
   ]
  },
  {
   "cell_type": "code",
   "execution_count": 37,
   "id": "6afa21eb-5cb1-4001-97e3-687cc62b5b27",
   "metadata": {},
   "outputs": [
    {
     "data": {
      "text/plain": [
       "int"
      ]
     },
     "execution_count": 37,
     "metadata": {},
     "output_type": "execute_result"
    }
   ],
   "source": [
    "type(4)"
   ]
  },
  {
   "cell_type": "code",
   "execution_count": 38,
   "id": "aeaca27f-0654-4671-abc6-0de693fddea8",
   "metadata": {},
   "outputs": [
    {
     "data": {
      "text/plain": [
       "complex"
      ]
     },
     "execution_count": 38,
     "metadata": {},
     "output_type": "execute_result"
    }
   ],
   "source": [
    "type(c)"
   ]
  },
  {
   "cell_type": "code",
   "execution_count": 39,
   "id": "278ef970-0037-4238-8d71-1ce4d319d662",
   "metadata": {},
   "outputs": [
    {
     "data": {
      "text/plain": [
       "int"
      ]
     },
     "execution_count": 39,
     "metadata": {},
     "output_type": "execute_result"
    }
   ],
   "source": [
    "type(4)"
   ]
  },
  {
   "cell_type": "code",
   "execution_count": 40,
   "id": "b3a3a82a-76a6-471e-b46b-9126406a0194",
   "metadata": {},
   "outputs": [
    {
     "data": {
      "text/plain": [
       "complex"
      ]
     },
     "execution_count": 40,
     "metadata": {},
     "output_type": "execute_result"
    }
   ],
   "source": [
    "type(c)"
   ]
  },
  {
   "cell_type": "code",
   "execution_count": 41,
   "id": "63c394d9-8830-4657-a29c-d2e97900ed2f",
   "metadata": {},
   "outputs": [],
   "source": [
    "d=\"4\""
   ]
  },
  {
   "cell_type": "code",
   "execution_count": 43,
   "id": "c320b827-9a45-4308-be1d-be5a7305d663",
   "metadata": {},
   "outputs": [
    {
     "data": {
      "text/plain": [
       "4"
      ]
     },
     "execution_count": 43,
     "metadata": {},
     "output_type": "execute_result"
    }
   ],
   "source": [
    "int(d)"
   ]
  },
  {
   "cell_type": "code",
   "execution_count": 48,
   "id": "9f91f438-76da-4cd7-b7e0-2f8887875949",
   "metadata": {},
   "outputs": [
    {
     "data": {
      "text/plain": [
       "int"
      ]
     },
     "execution_count": 48,
     "metadata": {},
     "output_type": "execute_result"
    }
   ],
   "source": [
    "type(4)"
   ]
  },
  {
   "cell_type": "code",
   "execution_count": 50,
   "id": "ae926988-11ac-4c0a-bbb0-aacd7cc92dca",
   "metadata": {},
   "outputs": [],
   "source": [
    "d = int(4)"
   ]
  },
  {
   "cell_type": "code",
   "execution_count": 52,
   "id": "1aae9b78-8f4c-4d6d-8e3b-17489112e924",
   "metadata": {},
   "outputs": [
    {
     "data": {
      "text/plain": [
       "int"
      ]
     },
     "execution_count": 52,
     "metadata": {},
     "output_type": "execute_result"
    }
   ],
   "source": [
    "type(d)"
   ]
  },
  {
   "cell_type": "code",
   "execution_count": 54,
   "id": "91697ac7-be3c-43ec-a532-5ccd63280980",
   "metadata": {},
   "outputs": [],
   "source": [
    "a=11\n"
   ]
  },
  {
   "cell_type": "code",
   "execution_count": 55,
   "id": "f125b793-1070-459b-8f9b-2404d69f899c",
   "metadata": {},
   "outputs": [
    {
     "data": {
      "text/plain": [
       "15"
      ]
     },
     "execution_count": 55,
     "metadata": {},
     "output_type": "execute_result"
    }
   ],
   "source": [
    "a+d"
   ]
  },
  {
   "cell_type": "code",
   "execution_count": 56,
   "id": "f01c778c-23ed-4378-b96b-e66586ab864d",
   "metadata": {},
   "outputs": [
    {
     "data": {
      "text/plain": [
       "3.14"
      ]
     },
     "execution_count": 56,
     "metadata": {},
     "output_type": "execute_result"
    }
   ],
   "source": [
    "float(\"3.14\")"
   ]
  },
  {
   "cell_type": "code",
   "execution_count": 58,
   "id": "4ad9063e-08d0-40cf-87be-9da9a23c44bc",
   "metadata": {},
   "outputs": [
    {
     "data": {
      "text/plain": [
       "int"
      ]
     },
     "execution_count": 58,
     "metadata": {},
     "output_type": "execute_result"
    }
   ],
   "source": [
    "type(4)\n"
   ]
  },
  {
   "cell_type": "code",
   "execution_count": 60,
   "id": "6db217d0-7320-4349-a850-fff4e6015df4",
   "metadata": {},
   "outputs": [
    {
     "data": {
      "text/plain": [
       "complex"
      ]
     },
     "execution_count": 60,
     "metadata": {},
     "output_type": "execute_result"
    }
   ],
   "source": [
    "type(c)"
   ]
  },
  {
   "cell_type": "code",
   "execution_count": 61,
   "id": "328aed0c-c9ac-40d9-b0d8-6c96dd81b773",
   "metadata": {},
   "outputs": [],
   "source": [
    "d = \"4\""
   ]
  },
  {
   "cell_type": "code",
   "execution_count": 62,
   "id": "3465527d-cbac-43f8-8fbc-43cb60b3d916",
   "metadata": {},
   "outputs": [],
   "source": [
    "a= 13"
   ]
  },
  {
   "cell_type": "code",
   "execution_count": 64,
   "id": "43c0c511-98d0-4bbd-baf5-1ce614db726e",
   "metadata": {},
   "outputs": [
    {
     "data": {
      "text/plain": [
       "4"
      ]
     },
     "execution_count": 64,
     "metadata": {},
     "output_type": "execute_result"
    }
   ],
   "source": [
    "int(d)"
   ]
  },
  {
   "cell_type": "code",
   "execution_count": 65,
   "id": "7107ed11-bb3f-46aa-8bc7-256f52974762",
   "metadata": {},
   "outputs": [],
   "source": [
    "d=int(d)"
   ]
  },
  {
   "cell_type": "code",
   "execution_count": 66,
   "id": "a080e6d0-a9fc-45c1-8f8c-d6b87021fc57",
   "metadata": {},
   "outputs": [
    {
     "data": {
      "text/plain": [
       "4"
      ]
     },
     "execution_count": 66,
     "metadata": {},
     "output_type": "execute_result"
    }
   ],
   "source": [
    "d"
   ]
  },
  {
   "cell_type": "code",
   "execution_count": 67,
   "id": "604c4d15-79e3-493f-971e-6ad337f9e917",
   "metadata": {},
   "outputs": [
    {
     "data": {
      "text/plain": [
       "17"
      ]
     },
     "execution_count": 67,
     "metadata": {},
     "output_type": "execute_result"
    }
   ],
   "source": [
    "a+d"
   ]
  },
  {
   "cell_type": "code",
   "execution_count": 68,
   "id": "2fc3b1af-142e-4ce6-97e5-3614e6f15a0f",
   "metadata": {},
   "outputs": [
    {
     "data": {
      "text/plain": [
       "3.14"
      ]
     },
     "execution_count": 68,
     "metadata": {},
     "output_type": "execute_result"
    }
   ],
   "source": [
    "float(\"3.14\")"
   ]
  },
  {
   "cell_type": "code",
   "execution_count": 78,
   "id": "bab6b33d-7c98-4e4a-ac28-adef5e580074",
   "metadata": {},
   "outputs": [
    {
     "data": {
      "text/plain": [
       "(4+7j)"
      ]
     },
     "execution_count": 78,
     "metadata": {},
     "output_type": "execute_result"
    }
   ],
   "source": [
    "4+7j"
   ]
  },
  {
   "cell_type": "code",
   "execution_count": 79,
   "id": "30071547-fad2-4f39-b038-26e8eb951ccb",
   "metadata": {},
   "outputs": [
    {
     "data": {
      "text/plain": [
       "8j"
      ]
     },
     "execution_count": 79,
     "metadata": {},
     "output_type": "execute_result"
    }
   ],
   "source": [
    "8j"
   ]
  },
  {
   "cell_type": "code",
   "execution_count": 80,
   "id": "a960a01e-abae-4258-bcde-5b475c73d5ec",
   "metadata": {},
   "outputs": [],
   "source": [
    "a,b,c = 4, 2.5, 3j"
   ]
  },
  {
   "cell_type": "code",
   "execution_count": 81,
   "id": "4f0fd3ba-bca5-442e-aae6-b89f00cad3ce",
   "metadata": {},
   "outputs": [
    {
     "data": {
      "text/plain": [
       "(2.5+3j)"
      ]
     },
     "execution_count": 81,
     "metadata": {},
     "output_type": "execute_result"
    }
   ],
   "source": [
    "b+c"
   ]
  },
  {
   "cell_type": "code",
   "execution_count": 82,
   "id": "84dd5c58-7b5e-4a66-be6f-ae6977830b32",
   "metadata": {},
   "outputs": [
    {
     "data": {
      "text/plain": [
       "1"
      ]
     },
     "execution_count": 82,
     "metadata": {},
     "output_type": "execute_result"
    }
   ],
   "source": [
    "5%2"
   ]
  },
  {
   "cell_type": "code",
   "execution_count": 83,
   "id": "3932319a-f4da-41f4-a4f7-c5f0eb47f6e4",
   "metadata": {},
   "outputs": [
    {
     "data": {
      "text/plain": [
       "2"
      ]
     },
     "execution_count": 83,
     "metadata": {},
     "output_type": "execute_result"
    }
   ],
   "source": [
    "5%3"
   ]
  },
  {
   "cell_type": "code",
   "execution_count": 85,
   "id": "d563cdaf-eb03-4302-a99a-9af7fe31fa78",
   "metadata": {},
   "outputs": [
    {
     "data": {
      "text/plain": [
       "int"
      ]
     },
     "execution_count": 85,
     "metadata": {},
     "output_type": "execute_result"
    }
   ],
   "source": [
    "type(4)"
   ]
  },
  {
   "cell_type": "code",
   "execution_count": 87,
   "id": "a1aa3408-fa77-4156-b83b-634a53cba345",
   "metadata": {},
   "outputs": [
    {
     "data": {
      "text/plain": [
       "complex"
      ]
     },
     "execution_count": 87,
     "metadata": {},
     "output_type": "execute_result"
    }
   ],
   "source": [
    "type(c)"
   ]
  },
  {
   "cell_type": "code",
   "execution_count": 89,
   "id": "981eab77-861d-4edd-9fc6-417d419eb020",
   "metadata": {},
   "outputs": [],
   "source": [
    "d = \"4\""
   ]
  },
  {
   "cell_type": "code",
   "execution_count": 90,
   "id": "6ebd99e7-6fe1-4df3-9977-ac1d28a819ac",
   "metadata": {},
   "outputs": [
    {
     "data": {
      "text/plain": [
       "4"
      ]
     },
     "execution_count": 90,
     "metadata": {},
     "output_type": "execute_result"
    }
   ],
   "source": [
    "int(d)"
   ]
  },
  {
   "cell_type": "code",
   "execution_count": 91,
   "id": "62385c8b-c4c6-4a44-93a2-6f7905443a1a",
   "metadata": {},
   "outputs": [
    {
     "data": {
      "text/plain": [
       "int"
      ]
     },
     "execution_count": 91,
     "metadata": {},
     "output_type": "execute_result"
    }
   ],
   "source": [
    "type(4)"
   ]
  },
  {
   "cell_type": "code",
   "execution_count": 93,
   "id": "0d79a0b3-b75e-400d-884a-bd34b8427930",
   "metadata": {},
   "outputs": [
    {
     "data": {
      "text/plain": [
       "4"
      ]
     },
     "execution_count": 93,
     "metadata": {},
     "output_type": "execute_result"
    }
   ],
   "source": [
    "a\n"
   ]
  },
  {
   "cell_type": "code",
   "execution_count": 94,
   "id": "bace3cbc-8ac3-4220-b7d7-fb847ff35b80",
   "metadata": {},
   "outputs": [
    {
     "data": {
      "text/plain": [
       "'4'"
      ]
     },
     "execution_count": 94,
     "metadata": {},
     "output_type": "execute_result"
    }
   ],
   "source": [
    "d"
   ]
  },
  {
   "cell_type": "code",
   "execution_count": 95,
   "id": "f2cfdeb3-fc92-4d3d-b701-17d925c07b7f",
   "metadata": {},
   "outputs": [
    {
     "data": {
      "text/plain": [
       "4"
      ]
     },
     "execution_count": 95,
     "metadata": {},
     "output_type": "execute_result"
    }
   ],
   "source": [
    "int(d)\n"
   ]
  },
  {
   "cell_type": "code",
   "execution_count": 96,
   "id": "0430e425-213c-4166-9521-2c821a9bf04d",
   "metadata": {},
   "outputs": [],
   "source": [
    "d=int(d)"
   ]
  },
  {
   "cell_type": "code",
   "execution_count": 97,
   "id": "a39fba7e-16a2-469c-a970-5a2f6f9e065e",
   "metadata": {},
   "outputs": [
    {
     "data": {
      "text/plain": [
       "4"
      ]
     },
     "execution_count": 97,
     "metadata": {},
     "output_type": "execute_result"
    }
   ],
   "source": [
    "d\n"
   ]
  },
  {
   "cell_type": "code",
   "execution_count": 98,
   "id": "36e56ed3-0fa4-4e1f-8b81-7bb7f6d2a302",
   "metadata": {},
   "outputs": [
    {
     "data": {
      "text/plain": [
       "8"
      ]
     },
     "execution_count": 98,
     "metadata": {},
     "output_type": "execute_result"
    }
   ],
   "source": [
    "a+d"
   ]
  },
  {
   "cell_type": "code",
   "execution_count": 1,
   "id": "76e0ade6-9775-474b-a4da-36c468fa8abd",
   "metadata": {},
   "outputs": [
    {
     "data": {
      "text/plain": [
       "3.4"
      ]
     },
     "execution_count": 1,
     "metadata": {},
     "output_type": "execute_result"
    }
   ],
   "source": [
    "float(\"3.4\")\n"
   ]
  },
  {
   "cell_type": "code",
   "execution_count": 3,
   "id": "79aac582-f205-4425-8da2-edddbc44a8f7",
   "metadata": {},
   "outputs": [],
   "source": [
    "a = 4"
   ]
  },
  {
   "cell_type": "code",
   "execution_count": 4,
   "id": "42879513-509c-4c8f-a2f8-4dbcc934cd8d",
   "metadata": {},
   "outputs": [
    {
     "data": {
      "text/plain": [
       "4"
      ]
     },
     "execution_count": 4,
     "metadata": {},
     "output_type": "execute_result"
    }
   ],
   "source": [
    "a\n"
   ]
  },
  {
   "cell_type": "code",
   "execution_count": 6,
   "id": "15783ecf-d3da-4e28-97f2-989834ccd58e",
   "metadata": {},
   "outputs": [],
   "source": [
    "a,b,c = 4, 2.5, 3j"
   ]
  },
  {
   "cell_type": "code",
   "execution_count": 7,
   "id": "fc6809c0-f982-4004-adaa-e4b8e4d1947a",
   "metadata": {},
   "outputs": [
    {
     "data": {
      "text/plain": [
       "4"
      ]
     },
     "execution_count": 7,
     "metadata": {},
     "output_type": "execute_result"
    }
   ],
   "source": [
    "a\n"
   ]
  },
  {
   "cell_type": "code",
   "execution_count": 8,
   "id": "8c8743e8-820d-4827-9607-e54c10e5d4d8",
   "metadata": {},
   "outputs": [
    {
     "data": {
      "text/plain": [
       "2.5"
      ]
     },
     "execution_count": 8,
     "metadata": {},
     "output_type": "execute_result"
    }
   ],
   "source": [
    "b"
   ]
  },
  {
   "cell_type": "code",
   "execution_count": 9,
   "id": "4e503d52-929b-44de-b866-136f133c729b",
   "metadata": {},
   "outputs": [
    {
     "data": {
      "text/plain": [
       "3j"
      ]
     },
     "execution_count": 9,
     "metadata": {},
     "output_type": "execute_result"
    }
   ],
   "source": [
    "c"
   ]
  },
  {
   "cell_type": "code",
   "execution_count": 10,
   "id": "ca37be09-aa5b-4249-af27-1e3c42ee53a0",
   "metadata": {},
   "outputs": [
    {
     "data": {
      "text/plain": [
       "int"
      ]
     },
     "execution_count": 10,
     "metadata": {},
     "output_type": "execute_result"
    }
   ],
   "source": [
    "type(4)\n"
   ]
  },
  {
   "cell_type": "code",
   "execution_count": 11,
   "id": "8b9a96fc-a2f4-4f1d-a8a2-41bb89c964af",
   "metadata": {},
   "outputs": [
    {
     "data": {
      "text/plain": [
       "3j"
      ]
     },
     "execution_count": 11,
     "metadata": {},
     "output_type": "execute_result"
    }
   ],
   "source": [
    "c"
   ]
  },
  {
   "cell_type": "code",
   "execution_count": 12,
   "id": "6f56531b-9887-4617-bc96-39d4e7c21702",
   "metadata": {},
   "outputs": [
    {
     "data": {
      "text/plain": [
       "complex"
      ]
     },
     "execution_count": 12,
     "metadata": {},
     "output_type": "execute_result"
    }
   ],
   "source": [
    "type(3J)"
   ]
  },
  {
   "cell_type": "code",
   "execution_count": 13,
   "id": "2cf76953-7e5b-44ef-8e54-f4258d2ece00",
   "metadata": {},
   "outputs": [
    {
     "data": {
      "text/plain": [
       "complex"
      ]
     },
     "execution_count": 13,
     "metadata": {},
     "output_type": "execute_result"
    }
   ],
   "source": [
    "type(c)"
   ]
  },
  {
   "cell_type": "code",
   "execution_count": 16,
   "id": "2b813835-3563-45bd-a7f9-d226207d8c26",
   "metadata": {},
   "outputs": [],
   "source": [
    "a = 4"
   ]
  },
  {
   "cell_type": "code",
   "execution_count": 17,
   "id": "2bf42bde-5aff-4983-961a-c594580d7b15",
   "metadata": {},
   "outputs": [],
   "source": [
    "d =\"4\""
   ]
  },
  {
   "cell_type": "code",
   "execution_count": 20,
   "id": "4a3d1413-d814-4ee0-8380-65f1bc862a2c",
   "metadata": {},
   "outputs": [
    {
     "data": {
      "text/plain": [
       "str"
      ]
     },
     "execution_count": 20,
     "metadata": {},
     "output_type": "execute_result"
    }
   ],
   "source": [
    "type(d)"
   ]
  },
  {
   "cell_type": "code",
   "execution_count": 24,
   "id": "763253a2-335e-4c8e-907c-1c31e240ddd3",
   "metadata": {},
   "outputs": [
    {
     "data": {
      "text/plain": [
       "4"
      ]
     },
     "execution_count": 24,
     "metadata": {},
     "output_type": "execute_result"
    }
   ],
   "source": [
    "int(d)"
   ]
  },
  {
   "cell_type": "code",
   "execution_count": 26,
   "id": "f1685157-5d2b-44e2-a9a6-a3f17c3bc20e",
   "metadata": {},
   "outputs": [],
   "source": [
    "d= int()"
   ]
  },
  {
   "cell_type": "code",
   "execution_count": 27,
   "id": "a390a650-5a5a-45f6-b5dd-20096db6528e",
   "metadata": {},
   "outputs": [
    {
     "data": {
      "text/plain": [
       "int"
      ]
     },
     "execution_count": 27,
     "metadata": {},
     "output_type": "execute_result"
    }
   ],
   "source": [
    "type(d)"
   ]
  },
  {
   "cell_type": "code",
   "execution_count": 28,
   "id": "2e7b1653-213b-493c-8940-f1661fb77946",
   "metadata": {},
   "outputs": [
    {
     "data": {
      "text/plain": [
       "(2+4j)"
      ]
     },
     "execution_count": 28,
     "metadata": {},
     "output_type": "execute_result"
    }
   ],
   "source": [
    "complex(2,4)"
   ]
  },
  {
   "cell_type": "code",
   "execution_count": 29,
   "id": "c08804d5-b0fb-47be-87ae-b75dd20b0e85",
   "metadata": {},
   "outputs": [
    {
     "data": {
      "text/plain": [
       "(4+5j)"
      ]
     },
     "execution_count": 29,
     "metadata": {},
     "output_type": "execute_result"
    }
   ],
   "source": [
    "complex(4,5)"
   ]
  },
  {
   "cell_type": "code",
   "execution_count": 39,
   "id": "0095e9a2-6415-446c-90c4-9bb2d86b4ba8",
   "metadata": {},
   "outputs": [
    {
     "data": {
      "text/plain": [
       "False"
      ]
     },
     "execution_count": 39,
     "metadata": {},
     "output_type": "execute_result"
    }
   ],
   "source": [
    "bool(0)\n"
   ]
  },
  {
   "cell_type": "code",
   "execution_count": 40,
   "id": "15b95e9b-4143-4db7-afb0-434434e8b12a",
   "metadata": {},
   "outputs": [],
   "source": [
    "var = \"Phyton\""
   ]
  },
  {
   "cell_type": "code",
   "execution_count": 49,
   "id": "50eb0696-48ed-4d7d-958c-d98de6130caf",
   "metadata": {},
   "outputs": [
    {
     "data": {
      "text/plain": [
       "'Phy'"
      ]
     },
     "execution_count": 49,
     "metadata": {},
     "output_type": "execute_result"
    }
   ],
   "source": [
    "var[0:3]"
   ]
  },
  {
   "cell_type": "markdown",
   "id": "80695a50-d769-4dbf-909e-72a736e97549",
   "metadata": {},
   "source": [
    "var[ :3}\n"
   ]
  },
  {
   "cell_type": "code",
   "execution_count": 50,
   "id": "035af95d-ebf2-4628-91df-1e2470dd7d35",
   "metadata": {},
   "outputs": [
    {
     "data": {
      "text/plain": [
       "'Phyton'"
      ]
     },
     "execution_count": 50,
     "metadata": {},
     "output_type": "execute_result"
    }
   ],
   "source": [
    "var[::]"
   ]
  },
  {
   "cell_type": "code",
   "execution_count": 51,
   "id": "102add6a-888a-4167-bd6c-d86fc3f521f2",
   "metadata": {},
   "outputs": [
    {
     "data": {
      "text/plain": [
       "'notyhP'"
      ]
     },
     "execution_count": 51,
     "metadata": {},
     "output_type": "execute_result"
    }
   ],
   "source": [
    "var[::-1]\n"
   ]
  },
  {
   "cell_type": "code",
   "execution_count": 52,
   "id": "09194175-3959-4995-916b-525a881163a0",
   "metadata": {},
   "outputs": [],
   "source": [
    "var2 =\"Mantap\""
   ]
  },
  {
   "cell_type": "code",
   "execution_count": 53,
   "id": "f7aa062a-cf12-4c13-a97c-a7cd5f91bfef",
   "metadata": {},
   "outputs": [
    {
     "data": {
      "text/plain": [
       "'MantapCoy'"
      ]
     },
     "execution_count": 53,
     "metadata": {},
     "output_type": "execute_result"
    }
   ],
   "source": [
    "var2+ \"Coy\""
   ]
  },
  {
   "cell_type": "code",
   "execution_count": 54,
   "id": "7c3f1b5b-ecd7-4f0e-8146-07027e3399af",
   "metadata": {},
   "outputs": [
    {
     "data": {
      "text/plain": [
       "'MantapMantapMantapMantapMantapMantapMantapMantapMantapMantap'"
      ]
     },
     "execution_count": 54,
     "metadata": {},
     "output_type": "execute_result"
    }
   ],
   "source": [
    "var2*10"
   ]
  },
  {
   "cell_type": "code",
   "execution_count": 55,
   "id": "82dd5504-f27b-4622-9df7-eeae55e0c3db",
   "metadata": {},
   "outputs": [],
   "source": [
    "var = 'ikan air tawar'"
   ]
  },
  {
   "cell_type": "code",
   "execution_count": 56,
   "id": "92921ae6-6170-45b9-925c-f82a7eb19f0b",
   "metadata": {},
   "outputs": [
    {
     "data": {
      "text/plain": [
       "'ikan air tawa'"
      ]
     },
     "execution_count": 56,
     "metadata": {},
     "output_type": "execute_result"
    }
   ],
   "source": [
    "var[:-1]"
   ]
  },
  {
   "cell_type": "code",
   "execution_count": 57,
   "id": "0b06c061-6366-40d4-ad1a-f752e337b551",
   "metadata": {},
   "outputs": [],
   "source": [
    "var = \"ini adalah contoh STRING\""
   ]
  },
  {
   "cell_type": "code",
   "execution_count": 58,
   "id": "a21c3459-f782-412f-9b6d-2183d8a85ef4",
   "metadata": {},
   "outputs": [
    {
     "data": {
      "text/plain": [
       "'INI ADALAH CONTOH STRING'"
      ]
     },
     "execution_count": 58,
     "metadata": {},
     "output_type": "execute_result"
    }
   ],
   "source": [
    "var.upper()"
   ]
  },
  {
   "cell_type": "code",
   "execution_count": 59,
   "id": "336ea30d-62f2-49c7-8fef-cf3205c2effe",
   "metadata": {},
   "outputs": [
    {
     "data": {
      "text/plain": [
       "'Ini adalah contoh string'"
      ]
     },
     "execution_count": 59,
     "metadata": {},
     "output_type": "execute_result"
    }
   ],
   "source": [
    "var.capitalize()"
   ]
  },
  {
   "cell_type": "code",
   "execution_count": 60,
   "id": "61a5fd51-4f8b-42dc-a24b-361a51900603",
   "metadata": {},
   "outputs": [
    {
     "data": {
      "text/plain": [
       "<function str.find>"
      ]
     },
     "execution_count": 60,
     "metadata": {},
     "output_type": "execute_result"
    }
   ],
   "source": [
    "var.find\n"
   ]
  },
  {
   "cell_type": "code",
   "execution_count": 61,
   "id": "b5485369-3e2c-494e-b2ea-8eac7011c725",
   "metadata": {},
   "outputs": [
    {
     "data": {
      "text/plain": [
       "<function str.count>"
      ]
     },
     "execution_count": 61,
     "metadata": {},
     "output_type": "execute_result"
    }
   ],
   "source": [
    "var.count"
   ]
  },
  {
   "cell_type": "code",
   "execution_count": 62,
   "id": "f90553d1-8851-4bce-a4b5-f83a1def749f",
   "metadata": {},
   "outputs": [
    {
     "data": {
      "text/plain": [
       "'ini adalah contoh string'"
      ]
     },
     "execution_count": 62,
     "metadata": {},
     "output_type": "execute_result"
    }
   ],
   "source": [
    "var.lower()"
   ]
  },
  {
   "cell_type": "code",
   "execution_count": 67,
   "id": "8085b7fe-01f1-4671-ab95-985b60b094f2",
   "metadata": {},
   "outputs": [
    {
     "data": {
      "text/plain": [
       "'INI ADALAH CONTOH STRING'"
      ]
     },
     "execution_count": 67,
     "metadata": {},
     "output_type": "execute_result"
    }
   ],
   "source": [
    "var.upper()"
   ]
  },
  {
   "cell_type": "code",
   "execution_count": 68,
   "id": "37ebe1e1-f2f9-42f8-acb3-df901a42e09a",
   "metadata": {},
   "outputs": [
    {
     "data": {
      "text/plain": [
       "10"
      ]
     },
     "execution_count": 68,
     "metadata": {},
     "output_type": "execute_result"
    }
   ],
   "source": [
    "len(\"testtststs\")"
   ]
  },
  {
   "cell_type": "code",
   "execution_count": 6,
   "id": "f721286c-d444-43f5-830d-66cd423cb949",
   "metadata": {},
   "outputs": [
    {
     "name": "stdout",
     "output_type": "stream",
     "text": [
      "Hallo \n",
      " Semua\n",
      "Hallo \t Semua\n"
     ]
    }
   ],
   "source": [
    "print(\"Hallo \\n Semua\")\n",
    "print(\"Hallo \\t Semua\")"
   ]
  },
  {
   "cell_type": "code",
   "execution_count": 13,
   "id": "45313ff7-2317-4235-afc5-3aed525e5b1d",
   "metadata": {},
   "outputs": [],
   "source": [
    "nama = \"Andi\"\n",
    "ipk = 3.1234567"
   ]
  },
  {
   "cell_type": "raw",
   "id": "207d7595-574a-4ebe-bd97-6ef6f1f1f35d",
   "metadata": {},
   "source": [
    "print(\"nama dia adalah %s\"%(nama))"
   ]
  },
  {
   "cell_type": "code",
   "execution_count": 12,
   "id": "260b0142-eb27-4790-ace4-cdde1d6b28dd",
   "metadata": {},
   "outputs": [
    {
     "name": "stdout",
     "output_type": "stream",
     "text": [
      "nama dia adalah Andi\n"
     ]
    }
   ],
   "source": [
    "print(\"nama dia adalah %s\"%(nama))"
   ]
  },
  {
   "cell_type": "code",
   "execution_count": 14,
   "id": "1789f9bf-893a-4ca2-9501-6766fc27b3af",
   "metadata": {},
   "outputs": [
    {
     "name": "stdout",
     "output_type": "stream",
     "text": [
      "nama dia adalah 'Andi'\n"
     ]
    }
   ],
   "source": [
    "print(\"nama dia adalah %r\"%(nama))"
   ]
  },
  {
   "cell_type": "code",
   "execution_count": 15,
   "id": "9274db6f-af3e-4b5a-9302-a48dd2043f6f",
   "metadata": {},
   "outputs": [
    {
     "name": "stdout",
     "output_type": "stream",
     "text": [
      "Andi memiliki nilai IPK 3\n"
     ]
    }
   ],
   "source": [
    "print(\"%s memiliki nilai IPK %d\"%(nama, ipk))"
   ]
  },
  {
   "cell_type": "code",
   "execution_count": 18,
   "id": "fc257729-88c5-4ea7-ac10-8a95eebd110b",
   "metadata": {},
   "outputs": [
    {
     "name": "stdout",
     "output_type": "stream",
     "text": [
      "Andi memiliki nilai IPK 3.12\n"
     ]
    }
   ],
   "source": [
    "print(\"%s memiliki nilai IPK %0.2f\"%(nama, ipk))"
   ]
  },
  {
   "cell_type": "code",
   "execution_count": 19,
   "id": "55f0d60f-6ec9-4d1d-aacb-647d8e30fa3d",
   "metadata": {},
   "outputs": [],
   "source": [
    "nama = \"Andi\"\n",
    "ipk = 3.1234567"
   ]
  },
  {
   "cell_type": "code",
   "execution_count": 24,
   "id": "99afdbcb-9a42-4995-b139-d2f573f47869",
   "metadata": {},
   "outputs": [
    {
     "name": "stdout",
     "output_type": "stream",
     "text": [
      "Andi memiliki nilai IPK 3.123\n"
     ]
    }
   ],
   "source": [
    "print(f'{nama} memiliki nilai IPK {ipk:1.3f}')"
   ]
  },
  {
   "cell_type": "code",
   "execution_count": 25,
   "id": "1acecbac-ddb2-4fb7-97ef-0346217e7f5b",
   "metadata": {},
   "outputs": [
    {
     "name": "stdout",
     "output_type": "stream",
     "text": [
      "hobi jack adalah bermain biola\n"
     ]
    }
   ],
   "source": [
    "nama = 'jack'\n",
    "hobi1 = 'bermain bola'\n",
    "hobi2 = 'bermain biola'\n",
    "print(\"hobi {0} adalah {2}\".format(nama, hobi1, hobi2))"
   ]
  },
  {
   "cell_type": "code",
   "execution_count": 26,
   "id": "3d60c084-cb1e-421f-9795-bb5b67819b6f",
   "metadata": {},
   "outputs": [],
   "source": [
    "nama = 'jack'\n",
    "hobi1 = 'bermain bola'\n",
    "hobi2 = 'bermain biola'"
   ]
  },
  {
   "cell_type": "code",
   "execution_count": 30,
   "id": "344556c9-b35b-44e2-a681-db9950c41914",
   "metadata": {},
   "outputs": [
    {
     "name": "stdout",
     "output_type": "stream",
     "text": [
      "hobi jack adalah bermain bola\n"
     ]
    }
   ],
   "source": [
    "print(f'hobi {nama} adalah {hobi1}')"
   ]
  },
  {
   "cell_type": "code",
   "execution_count": 31,
   "id": "ca33cf03-b7ad-47ca-9383-54cf606d316a",
   "metadata": {},
   "outputs": [
    {
     "data": {
      "text/plain": [
       "[1, [1, 2], 3, 4]"
      ]
     },
     "execution_count": 31,
     "metadata": {},
     "output_type": "execute_result"
    }
   ],
   "source": [
    "[1, [1,2], 3, 4]"
   ]
  },
  {
   "cell_type": "code",
   "execution_count": 34,
   "id": "1ded771b-82d9-4389-91aa-ae3c0170e95c",
   "metadata": {},
   "outputs": [],
   "source": [
    "a=[1,2,3]"
   ]
  },
  {
   "cell_type": "code",
   "execution_count": 35,
   "id": "8e089643-f1c4-45aa-9ac3-8d0cca80f51d",
   "metadata": {},
   "outputs": [],
   "source": [
    "b=[4,5,6]"
   ]
  },
  {
   "cell_type": "code",
   "execution_count": 37,
   "id": "2d5b40ca-26bd-4dae-8057-1a07ed6fe4ba",
   "metadata": {},
   "outputs": [
    {
     "data": {
      "text/plain": [
       "3"
      ]
     },
     "execution_count": 37,
     "metadata": {},
     "output_type": "execute_result"
    }
   ],
   "source": [
    "a[2]"
   ]
  },
  {
   "cell_type": "code",
   "execution_count": 38,
   "id": "2ce9d8b1-fcb0-444c-88a8-60553e29634e",
   "metadata": {},
   "outputs": [],
   "source": [
    "a[0]=\"Satu\""
   ]
  },
  {
   "cell_type": "code",
   "execution_count": 39,
   "id": "1a19a836-fc34-461b-9491-4739d4d3dfb0",
   "metadata": {},
   "outputs": [
    {
     "data": {
      "text/plain": [
       "['Satu', 2, 3]"
      ]
     },
     "execution_count": 39,
     "metadata": {},
     "output_type": "execute_result"
    }
   ],
   "source": [
    "a"
   ]
  },
  {
   "cell_type": "code",
   "execution_count": 40,
   "id": "377ccfba-63c7-4b5d-ba16-eed7bb44833a",
   "metadata": {},
   "outputs": [
    {
     "data": {
      "text/plain": [
       "[1, 2]"
      ]
     },
     "execution_count": 40,
     "metadata": {},
     "output_type": "execute_result"
    }
   ],
   "source": [
    "b=(1,2)\n",
    "list(b)"
   ]
  },
  {
   "cell_type": "code",
   "execution_count": 41,
   "id": "3d825363-82bc-447f-acaa-1fc6d25b7cbf",
   "metadata": {},
   "outputs": [
    {
     "data": {
      "text/plain": [
       "['H', 'a', 'i']"
      ]
     },
     "execution_count": 41,
     "metadata": {},
     "output_type": "execute_result"
    }
   ],
   "source": [
    "c= \"Hai\"\n",
    "list(c)\n"
   ]
  },
  {
   "cell_type": "code",
   "execution_count": 42,
   "id": "4e258b23-9af5-4669-8708-fb1ea23dbe98",
   "metadata": {},
   "outputs": [],
   "source": [
    "d=[1,2,3,45,6,7,8,9]"
   ]
  },
  {
   "cell_type": "code",
   "execution_count": 43,
   "id": "cb6d0897-249e-4bd0-bea8-0a048db32e77",
   "metadata": {},
   "outputs": [
    {
     "data": {
      "text/plain": [
       "[1, 2, 3, 45, 6, 7, 8, 9]"
      ]
     },
     "execution_count": 43,
     "metadata": {},
     "output_type": "execute_result"
    }
   ],
   "source": [
    "d\n"
   ]
  },
  {
   "cell_type": "code",
   "execution_count": 44,
   "id": "30f2fc17-2748-40cd-af19-aa39cb1be60e",
   "metadata": {},
   "outputs": [
    {
     "data": {
      "text/plain": [
       "45"
      ]
     },
     "execution_count": 44,
     "metadata": {},
     "output_type": "execute_result"
    }
   ],
   "source": [
    "max(d)"
   ]
  },
  {
   "cell_type": "code",
   "execution_count": 45,
   "id": "0eae5cd9-a30a-443a-bbfb-d45aebd42782",
   "metadata": {},
   "outputs": [
    {
     "data": {
      "text/plain": [
       "1"
      ]
     },
     "execution_count": 45,
     "metadata": {},
     "output_type": "execute_result"
    }
   ],
   "source": [
    "min(d)"
   ]
  },
  {
   "cell_type": "code",
   "execution_count": 46,
   "id": "a5523d1b-780d-46f1-a230-88ad046fa78d",
   "metadata": {},
   "outputs": [
    {
     "data": {
      "text/plain": [
       "list"
      ]
     },
     "execution_count": 46,
     "metadata": {},
     "output_type": "execute_result"
    }
   ],
   "source": [
    "type(d)"
   ]
  },
  {
   "cell_type": "code",
   "execution_count": 48,
   "id": "7b1093b8-b43d-4219-9312-e3573323e8e5",
   "metadata": {},
   "outputs": [
    {
     "data": {
      "text/plain": [
       "8"
      ]
     },
     "execution_count": 48,
     "metadata": {},
     "output_type": "execute_result"
    }
   ],
   "source": [
    "len(d)\n"
   ]
  },
  {
   "cell_type": "code",
   "execution_count": 49,
   "id": "d0717850-5988-4eb9-87d0-d63b4dcafc58",
   "metadata": {},
   "outputs": [
    {
     "name": "stdout",
     "output_type": "stream",
     "text": [
      "[1, 2, 3, 45, 6, 7, 8, 9]\n"
     ]
    }
   ],
   "source": [
    "print(d)"
   ]
  },
  {
   "cell_type": "code",
   "execution_count": 53,
   "id": "7bfce3e3-c81f-4fe1-8a34-9871dac1719c",
   "metadata": {},
   "outputs": [
    {
     "data": {
      "text/plain": [
       "(1, 'TiGA', [4])"
      ]
     },
     "execution_count": 53,
     "metadata": {},
     "output_type": "execute_result"
    }
   ],
   "source": [
    "(1,\"TiGA\",[4])"
   ]
  },
  {
   "cell_type": "code",
   "execution_count": 52,
   "id": "bb80e53f-50b7-4c00-ba9d-d02132184f46",
   "metadata": {},
   "outputs": [
    {
     "data": {
      "text/plain": [
       "int"
      ]
     },
     "execution_count": 52,
     "metadata": {},
     "output_type": "execute_result"
    }
   ],
   "source": [
    "type(1)"
   ]
  },
  {
   "cell_type": "code",
   "execution_count": 54,
   "id": "618cf66c-4e60-4260-b7f6-f2e48e7c5fde",
   "metadata": {},
   "outputs": [],
   "source": [
    "a=(1,2,3,4,5,6,7)"
   ]
  },
  {
   "cell_type": "code",
   "execution_count": 55,
   "id": "0eb230b9-5f91-4759-9b83-a755ac47ad43",
   "metadata": {},
   "outputs": [
    {
     "data": {
      "text/plain": [
       "(1, 2, 3, 4, 5, 6, 7)"
      ]
     },
     "execution_count": 55,
     "metadata": {},
     "output_type": "execute_result"
    }
   ],
   "source": [
    "a\n"
   ]
  },
  {
   "cell_type": "code",
   "execution_count": 57,
   "id": "5b81d718-55a2-4547-893b-2a2951e53a19",
   "metadata": {},
   "outputs": [
    {
     "data": {
      "text/plain": [
       "(1, 2, 3, 4, 5, 6, 7)"
      ]
     },
     "execution_count": 57,
     "metadata": {},
     "output_type": "execute_result"
    }
   ],
   "source": [
    "a"
   ]
  },
  {
   "cell_type": "code",
   "execution_count": 60,
   "id": "e7092f94-8e04-4753-9d70-4a7a1099fd31",
   "metadata": {},
   "outputs": [],
   "source": [
    "a=(1,2,3,4,5,6,7,8,9)"
   ]
  },
  {
   "cell_type": "code",
   "execution_count": 61,
   "id": "e1d84afd-c8a9-447b-b865-2c19124f303a",
   "metadata": {},
   "outputs": [
    {
     "data": {
      "text/plain": [
       "(1, 2, 3, 4, 5, 6, 7, 8, 9)"
      ]
     },
     "execution_count": 61,
     "metadata": {},
     "output_type": "execute_result"
    }
   ],
   "source": [
    "a"
   ]
  },
  {
   "cell_type": "code",
   "execution_count": 66,
   "id": "cc12d787-fc7b-4689-b9f6-9b082a791b55",
   "metadata": {},
   "outputs": [
    {
     "data": {
      "text/plain": [
       "(1, 2, 3, 4, 5, 6, 7, 8, 9)"
      ]
     },
     "execution_count": 66,
     "metadata": {},
     "output_type": "execute_result"
    }
   ],
   "source": [
    "a\n"
   ]
  },
  {
   "cell_type": "markdown",
   "id": "fc417e7a-e8ac-468e-8abe-5ad9b32e5a70",
   "metadata": {},
   "source": [
    "a[1:4] "
   ]
  },
  {
   "cell_type": "code",
   "execution_count": 67,
   "id": "976a6649-9e3c-4030-830f-64b07e9ca6c2",
   "metadata": {},
   "outputs": [
    {
     "data": {
      "text/plain": [
       "(3, 4)"
      ]
     },
     "execution_count": 67,
     "metadata": {},
     "output_type": "execute_result"
    }
   ],
   "source": [
    "a[2:4]"
   ]
  },
  {
   "cell_type": "code",
   "execution_count": 68,
   "id": "f49bb997-7430-4ef2-bdcb-95feaf8246a3",
   "metadata": {},
   "outputs": [],
   "source": [
    "b=(6,7,8,9,0)\n"
   ]
  },
  {
   "cell_type": "code",
   "execution_count": 69,
   "id": "5b246918-ef35-4e07-b9fc-7f7c1ee3b470",
   "metadata": {
    "scrolled": true
   },
   "outputs": [
    {
     "data": {
      "text/plain": [
       "(1, 2, 3, 4, 5, 6, 7, 8, 9, 6, 7, 8, 9, 0)"
      ]
     },
     "execution_count": 69,
     "metadata": {},
     "output_type": "execute_result"
    }
   ],
   "source": [
    "a+b"
   ]
  },
  {
   "cell_type": "code",
   "execution_count": 74,
   "id": "554f6945-3d5f-4564-a21e-e23942be16f1",
   "metadata": {},
   "outputs": [],
   "source": [
    "a=(1,2,3,4, 5, 6, 7, 8, 9, 6, 7, 8, 9, 0)"
   ]
  },
  {
   "cell_type": "code",
   "execution_count": 75,
   "id": "084a917e-dd7a-4f3c-b3b1-767d0afd068c",
   "metadata": {},
   "outputs": [
    {
     "data": {
      "text/plain": [
       "2"
      ]
     },
     "execution_count": 75,
     "metadata": {},
     "output_type": "execute_result"
    }
   ],
   "source": [
    "a.count(8)"
   ]
  },
  {
   "cell_type": "code",
   "execution_count": 76,
   "id": "23e1d9f2-b7c4-42df-8357-3d859e718cba",
   "metadata": {},
   "outputs": [],
   "source": [
    "d=[1,2,3,4]"
   ]
  },
  {
   "cell_type": "code",
   "execution_count": 77,
   "id": "8a97c658-91b0-4fde-b09e-11c629abde28",
   "metadata": {},
   "outputs": [
    {
     "data": {
      "text/plain": [
       "(1, 2, 3, 4)"
      ]
     },
     "execution_count": 77,
     "metadata": {},
     "output_type": "execute_result"
    }
   ],
   "source": [
    "tuple(d)"
   ]
  },
  {
   "cell_type": "code",
   "execution_count": 79,
   "id": "92dd3850-5565-4844-a37d-ebd7c9aca1b7",
   "metadata": {},
   "outputs": [
    {
     "data": {
      "text/plain": [
       "str"
      ]
     },
     "execution_count": 79,
     "metadata": {},
     "output_type": "execute_result"
    }
   ],
   "source": [
    "type(c)"
   ]
  },
  {
   "cell_type": "code",
   "execution_count": 81,
   "id": "f9158da0-248d-4149-86fc-1f35b57b6aa0",
   "metadata": {},
   "outputs": [],
   "source": [
    "c=(1,2,3,4)\n"
   ]
  },
  {
   "cell_type": "code",
   "execution_count": 82,
   "id": "6c839810-9c36-49a4-b7f0-8590a3063079",
   "metadata": {},
   "outputs": [
    {
     "data": {
      "text/plain": [
       "tuple"
      ]
     },
     "execution_count": 82,
     "metadata": {},
     "output_type": "execute_result"
    }
   ],
   "source": [
    "type(c)"
   ]
  },
  {
   "cell_type": "code",
   "execution_count": 3,
   "id": "adb6def0-3d77-4355-a93d-7f5fd57554e9",
   "metadata": {},
   "outputs": [],
   "source": [
    "b={1,2,3,4,5,6,7}\n",
    "c={5,6,7,8,9,11,12,13}"
   ]
  },
  {
   "cell_type": "code",
   "execution_count": 4,
   "id": "27433f0c-6e59-4583-b891-e1e97262c462",
   "metadata": {},
   "outputs": [
    {
     "data": {
      "text/plain": [
       "{1, 2, 3, 4, 5, 6, 7, 8, 9, 11, 12, 13}"
      ]
     },
     "execution_count": 4,
     "metadata": {},
     "output_type": "execute_result"
    }
   ],
   "source": [
    "b.union (c)"
   ]
  },
  {
   "cell_type": "code",
   "execution_count": 5,
   "id": "9bc2eedd-ac03-4793-9369-027710abc4f6",
   "metadata": {},
   "outputs": [
    {
     "data": {
      "text/plain": [
       "{1, 2, 3, 4, 5, 6, 7, 8, 9, 11, 12, 13}"
      ]
     },
     "execution_count": 5,
     "metadata": {},
     "output_type": "execute_result"
    }
   ],
   "source": [
    "b|c"
   ]
  },
  {
   "cell_type": "code",
   "execution_count": 6,
   "id": "042a49fa-719f-4aa1-b434-8db53cc8207d",
   "metadata": {},
   "outputs": [
    {
     "data": {
      "text/plain": [
       "{5, 6, 7}"
      ]
     },
     "execution_count": 6,
     "metadata": {},
     "output_type": "execute_result"
    }
   ],
   "source": [
    "b.intersection(c)"
   ]
  },
  {
   "cell_type": "code",
   "execution_count": 7,
   "id": "e92469ff-d143-4af0-8f97-5764dbd8be51",
   "metadata": {},
   "outputs": [
    {
     "data": {
      "text/plain": [
       "{5, 6, 7}"
      ]
     },
     "execution_count": 7,
     "metadata": {},
     "output_type": "execute_result"
    }
   ],
   "source": [
    "b&c"
   ]
  },
  {
   "cell_type": "code",
   "execution_count": 10,
   "id": "f5cfa3da-4766-4af1-ad75-de513ea181d3",
   "metadata": {},
   "outputs": [
    {
     "data": {
      "text/plain": [
       "{8, 9, 11, 12, 13}"
      ]
     },
     "execution_count": 10,
     "metadata": {},
     "output_type": "execute_result"
    }
   ],
   "source": [
    "c.difference(b)"
   ]
  },
  {
   "cell_type": "code",
   "execution_count": 11,
   "id": "5d4b34f4-61a3-46a2-a26e-1bc9a1592dbb",
   "metadata": {},
   "outputs": [
    {
     "data": {
      "text/plain": [
       "{1, 2, 3, 4}"
      ]
     },
     "execution_count": 11,
     "metadata": {},
     "output_type": "execute_result"
    }
   ],
   "source": [
    "b-c"
   ]
  },
  {
   "cell_type": "code",
   "execution_count": 12,
   "id": "65b3ff42-8283-4a31-bc15-f783b2e2661d",
   "metadata": {},
   "outputs": [
    {
     "data": {
      "text/plain": [
       "{8, 9, 11, 12, 13}"
      ]
     },
     "execution_count": 12,
     "metadata": {},
     "output_type": "execute_result"
    }
   ],
   "source": [
    "c-b"
   ]
  },
  {
   "cell_type": "code",
   "execution_count": 13,
   "id": "752219e4-80ec-4fa7-ae1b-6caa8dd20409",
   "metadata": {},
   "outputs": [
    {
     "data": {
      "text/plain": [
       "{1, 2, 3, 4, 8, 9, 11, 12, 13}"
      ]
     },
     "execution_count": 13,
     "metadata": {},
     "output_type": "execute_result"
    }
   ],
   "source": [
    "b.symmetric_difference(c)"
   ]
  },
  {
   "cell_type": "code",
   "execution_count": 14,
   "id": "cb597308-6b6f-416a-bf37-cf90b8c545d6",
   "metadata": {},
   "outputs": [
    {
     "data": {
      "text/plain": [
       "{1, 2, 3, 4, 8, 9, 11, 12, 13}"
      ]
     },
     "execution_count": 14,
     "metadata": {},
     "output_type": "execute_result"
    }
   ],
   "source": [
    "b^c"
   ]
  },
  {
   "cell_type": "code",
   "execution_count": 15,
   "id": "9d2fb949-d7ef-4993-a1db-579a3c8f9c60",
   "metadata": {},
   "outputs": [],
   "source": [
    "datakaryawan={\"nama\":[\"dika\",\"indra\",\"ansar\"],\"umur\":[20,19,32],\"jabatan\":[\"mandor\",\"helper\",\"operator\"]}"
   ]
  },
  {
   "cell_type": "code",
   "execution_count": 16,
   "id": "addd284d-8f48-49a5-ab7a-1c2caa9a7300",
   "metadata": {},
   "outputs": [
    {
     "data": {
      "text/plain": [
       "[20, 19, 32]"
      ]
     },
     "execution_count": 16,
     "metadata": {},
     "output_type": "execute_result"
    }
   ],
   "source": [
    "datakaryawan[\"umur\"]"
   ]
  },
  {
   "cell_type": "code",
   "execution_count": 17,
   "id": "48be3fe4-76f0-4547-a241-d0a8b5b7fa8f",
   "metadata": {},
   "outputs": [
    {
     "data": {
      "text/plain": [
       "['dika', 'indra', 'ansar']"
      ]
     },
     "execution_count": 17,
     "metadata": {},
     "output_type": "execute_result"
    }
   ],
   "source": [
    "datakaryawan[\"nama\"]"
   ]
  },
  {
   "cell_type": "code",
   "execution_count": 21,
   "id": "4371edc5-ebc5-4058-8f98-9960204318d1",
   "metadata": {},
   "outputs": [
    {
     "data": {
      "text/plain": [
       "{1: 'b'}"
      ]
     },
     "execution_count": 21,
     "metadata": {},
     "output_type": "execute_result"
    }
   ],
   "source": [
    "{1:\"a\", 1:\"b\"}"
   ]
  },
  {
   "cell_type": "code",
   "execution_count": 22,
   "id": "b17a276a-7d28-40f8-b1a1-af9735be77cf",
   "metadata": {},
   "outputs": [],
   "source": [
    "a = {1:\"a\", 1:\"b\"}"
   ]
  },
  {
   "cell_type": "code",
   "execution_count": 23,
   "id": "fcb2a77a-ef16-4389-925a-5743a963c829",
   "metadata": {},
   "outputs": [],
   "source": [
    "a[1]=\"e\""
   ]
  },
  {
   "cell_type": "code",
   "execution_count": 24,
   "id": "d5f7011f-f6ec-4a03-ad3b-25f416872d6a",
   "metadata": {},
   "outputs": [
    {
     "data": {
      "text/plain": [
       "{1: 'e'}"
      ]
     },
     "execution_count": 24,
     "metadata": {},
     "output_type": "execute_result"
    }
   ],
   "source": [
    "a\n"
   ]
  },
  {
   "cell_type": "code",
   "execution_count": 27,
   "id": "5ba9d8db-7320-42c2-b9f9-93241ec7e2ff",
   "metadata": {},
   "outputs": [],
   "source": [
    "a = {1:\"a\", 2:\"b\"}"
   ]
  },
  {
   "cell_type": "code",
   "execution_count": 28,
   "id": "7a550d99-a216-4693-aaed-1a653dfa80f4",
   "metadata": {},
   "outputs": [
    {
     "data": {
      "text/plain": [
       "{1: 'a', 2: 'b'}"
      ]
     },
     "execution_count": 28,
     "metadata": {},
     "output_type": "execute_result"
    }
   ],
   "source": [
    "a\n",
    "\n"
   ]
  },
  {
   "cell_type": "code",
   "execution_count": 29,
   "id": "0d9bb083-9ac8-40a8-b253-93755e30ab5c",
   "metadata": {},
   "outputs": [],
   "source": [
    "a[1]=\"z\""
   ]
  },
  {
   "cell_type": "code",
   "execution_count": 30,
   "id": "1c59b0a6-a741-4212-ae2f-4da4c580292a",
   "metadata": {},
   "outputs": [
    {
     "data": {
      "text/plain": [
       "{1: 'z', 2: 'b'}"
      ]
     },
     "execution_count": 30,
     "metadata": {},
     "output_type": "execute_result"
    }
   ],
   "source": [
    "a"
   ]
  },
  {
   "cell_type": "code",
   "execution_count": 37,
   "id": "8ddf12e7-75ca-4853-bfa9-db2028d37cf5",
   "metadata": {},
   "outputs": [
    {
     "data": {
      "text/plain": [
       "dict_values([['dika', 'indra', 'ansar'], [20, 19, 32], ['mandor', 'helper', 'operator']])"
      ]
     },
     "execution_count": 37,
     "metadata": {},
     "output_type": "execute_result"
    }
   ],
   "source": [
    "datakaryawan.values()"
   ]
  },
  {
   "cell_type": "code",
   "execution_count": 38,
   "id": "80c70dfd-1eaa-4c88-817a-8720870fea64",
   "metadata": {},
   "outputs": [],
   "source": [
    "a=[1,2,3]\n"
   ]
  },
  {
   "cell_type": "code",
   "execution_count": 39,
   "id": "cff6c78d-8f47-4b74-aaf2-c7cd243f9112",
   "metadata": {},
   "outputs": [
    {
     "data": {
      "text/plain": [
       "list"
      ]
     },
     "execution_count": 39,
     "metadata": {},
     "output_type": "execute_result"
    }
   ],
   "source": [
    "type(a)"
   ]
  },
  {
   "cell_type": "code",
   "execution_count": 40,
   "id": "1671d29a-b986-4fd5-b480-646fb17959ce",
   "metadata": {},
   "outputs": [],
   "source": [
    "a = 10"
   ]
  },
  {
   "cell_type": "code",
   "execution_count": 41,
   "id": "d9c87e18-408a-4e66-a346-dbc35be29378",
   "metadata": {},
   "outputs": [],
   "source": [
    "a %= 3"
   ]
  },
  {
   "cell_type": "code",
   "execution_count": 42,
   "id": "1921e225-5760-416d-8b46-56df358ec6b1",
   "metadata": {},
   "outputs": [
    {
     "data": {
      "text/plain": [
       "1"
      ]
     },
     "execution_count": 42,
     "metadata": {},
     "output_type": "execute_result"
    }
   ],
   "source": [
    "a"
   ]
  },
  {
   "cell_type": "code",
   "execution_count": 2,
   "id": "3474a9d1-b7a4-44b3-99c7-6c3f02bb4e64",
   "metadata": {},
   "outputs": [],
   "source": [
    "kondisi = False\n",
    "if kondisi:\n",
    "    print(\"Mantap Cui\")"
   ]
  },
  {
   "cell_type": "code",
   "execution_count": 16,
   "id": "c772f4e7-a6f6-42ae-97cc-71eca229bc2b",
   "metadata": {},
   "outputs": [
    {
     "name": "stdout",
     "output_type": "stream",
     "text": [
      "Berhasil\n"
     ]
    }
   ],
   "source": [
    "if -1:\n",
    "    print(\"Berhasil\")"
   ]
  },
  {
   "cell_type": "code",
   "execution_count": 29,
   "id": "c403da15-fae5-4cdd-a76b-da932b219ff2",
   "metadata": {},
   "outputs": [
    {
     "name": "stdout",
     "output_type": "stream",
     "text": [
      "Berhasil 2\n"
     ]
    }
   ],
   "source": [
    "a = 10\n",
    "b = 500\n",
    "if a>b:\n",
    "    print(\"Mantap Cui\")\n",
    "else:\n",
    "    print(\"Berhasil 2\")"
   ]
  },
  {
   "cell_type": "code",
   "execution_count": 35,
   "id": "ff418114-48fa-4d94-b972-846ff3ae6774",
   "metadata": {},
   "outputs": [
    {
     "name": "stdout",
     "output_type": "stream",
     "text": [
      "-2 adalah bilangan negatif\n"
     ]
    }
   ],
   "source": [
    "x=-2\n",
    "if x>0:\n",
    "    print(f'{x} adalah bilangan positif')\n",
    "    if x<10:\n",
    "        print(f'{x} adalah bilangan positif antara 0-10')\n",
    "elif x==0:\n",
    "    print(f'{x} adalah bilangan nol')\n",
    "else:\n",
    "    print(f'{x} adalah bilangan negatif')"
   ]
  },
  {
   "cell_type": "markdown",
   "id": "abe8dd65-4b1b-4885-ac79-02db4b9ebc4d",
   "metadata": {},
   "source": [
    "pengulangan For"
   ]
  },
  {
   "cell_type": "code",
   "execution_count": 2,
   "id": "1db084a3-7920-4705-8435-f32091ec8829",
   "metadata": {},
   "outputs": [
    {
     "name": "stdout",
     "output_type": "stream",
     "text": [
      "1\n",
      "2\n",
      "3\n"
     ]
    }
   ],
   "source": [
    "var = [1,2,3]\n",
    "for item in var:\n",
    "    print(item)"
   ]
  },
  {
   "cell_type": "code",
   "execution_count": 3,
   "id": "47bcdbe5-72de-4bf1-a5ee-4f9b9d5aad68",
   "metadata": {},
   "outputs": [
    {
     "name": "stdout",
     "output_type": "stream",
     "text": [
      "karakter H\n",
      "karakter A\n",
      "karakter L\n",
      "karakter O\n",
      "karakter  \n",
      "karakter S\n",
      "karakter E\n",
      "karakter M\n",
      "karakter U\n",
      "karakter A\n"
     ]
    }
   ],
   "source": [
    "var2 = \"HALO SEMUA\"\n",
    "for i in var2:\n",
    "    print(f'karakter {i}')"
   ]
  },
  {
   "cell_type": "code",
   "execution_count": 4,
   "id": "5fdd75a7-da07-4c95-8ddc-f53161e6f32d",
   "metadata": {},
   "outputs": [
    {
     "name": "stdout",
     "output_type": "stream",
     "text": [
      "karakter a\n",
      "karakter b\n"
     ]
    }
   ],
   "source": [
    "var3 = (\"a\", \"b\") #tuple\n",
    "for i in var3:\n",
    "    print(f'karakter {i}')"
   ]
  },
  {
   "cell_type": "code",
   "execution_count": 6,
   "id": "e2e17291-2c33-46b8-b788-7a6fe688b618",
   "metadata": {},
   "outputs": [
    {
     "name": "stdout",
     "output_type": "stream",
     "text": [
      "(item) adalah bilangan Positif\n",
      "(item) adalah bilangan Negatif\n",
      "(item) adalah bilangan Positif\n",
      "(item) adalah bilangan Positif\n",
      "(item) adalah bilangan Negatif\n",
      "(item) adalah bilangan Negatif\n",
      "(item) adalah bilangan Negatif\n",
      "(item) adalah bilangan Positif\n",
      "(item) adalah bilangan Positif\n",
      "(item) adalah bilangan Positif\n"
     ]
    }
   ],
   "source": [
    "var = [1,-2,3,4,-5,-6,-7,8,9,10]\n",
    "for item in var:\n",
    "    if item>0:\n",
    "        print(f'(item) adalah bilangan Positif')\n",
    "    else:\n",
    "        print(f'(item) adalah bilangan Negatif')"
   ]
  },
  {
   "cell_type": "code",
   "execution_count": 8,
   "id": "ff2245ce-e560-4e7d-9857-d3a940d27e61",
   "metadata": {},
   "outputs": [
    {
     "data": {
      "text/plain": [
       "[1, -2, 3, 4, -5, -6, -7, 8, 9, 10]"
      ]
     },
     "execution_count": 8,
     "metadata": {},
     "output_type": "execute_result"
    }
   ],
   "source": [
    "var"
   ]
  },
  {
   "cell_type": "code",
   "execution_count": 10,
   "id": "6b3ea9f0-d158-49d9-af0c-eac0e1f2a109",
   "metadata": {},
   "outputs": [
    {
     "name": "stdout",
     "output_type": "stream",
     "text": [
      "1\n",
      "-1\n",
      "2\n",
      "6\n",
      "1\n",
      "-5\n",
      "-12\n",
      "-4\n",
      "5\n",
      "15\n"
     ]
    }
   ],
   "source": [
    "jumlah = 0\n",
    "for i in var:\n",
    "    jumlah += i\n",
    "    print(jumlah)"
   ]
  },
  {
   "cell_type": "code",
   "execution_count": 13,
   "id": "395ce557-7815-486a-b376-65c4aadf2e23",
   "metadata": {},
   "outputs": [
    {
     "name": "stdout",
     "output_type": "stream",
     "text": [
      "HEI\n",
      "HEI\n",
      "HEI\n",
      "HEI\n",
      "HEI\n",
      "HEI\n",
      "HEI\n",
      "HEI\n",
      "HEI\n",
      "HEI\n"
     ]
    }
   ],
   "source": [
    "for w in var:\n",
    "    print(\"HEI\")\n",
    "    "
   ]
  },
  {
   "cell_type": "code",
   "execution_count": 21,
   "id": "ece1737d-fff3-4368-8085-a3d338604957",
   "metadata": {},
   "outputs": [
    {
     "name": "stdout",
     "output_type": "stream",
     "text": [
      "2\n",
      "4\n"
     ]
    }
   ],
   "source": [
    "#tuple unpacking\n",
    "var = [(1,2), (3,4)]\n",
    "for a,b in var:\n",
    "    #print(a)\n",
    "    print(b)\n",
    "    "
   ]
  },
  {
   "cell_type": "code",
   "execution_count": 26,
   "id": "d5f45b8f-5dcb-4981-8abf-7353d7b91c27",
   "metadata": {},
   "outputs": [
    {
     "name": "stdout",
     "output_type": "stream",
     "text": [
      "key 1\n",
      "value a\n",
      "key 2\n",
      "value b\n"
     ]
    }
   ],
   "source": [
    "var = {1: \"a\", 2:\"b\"}\n",
    "\n",
    "for (a,b) in var.items():\n",
    "    print(f'key {a}')\n",
    "    print(f'value {b}')"
   ]
  },
  {
   "cell_type": "markdown",
   "id": "452cba41-cf15-4f2c-8c79-604cb78237b5",
   "metadata": {},
   "source": [
    "WHILE"
   ]
  },
  {
   "cell_type": "code",
   "execution_count": 2,
   "id": "211429af-b5e6-4eb9-8b6c-38cb89de087c",
   "metadata": {},
   "outputs": [
    {
     "name": "stdout",
     "output_type": "stream",
     "text": [
      "Hi\n",
      "Hi\n",
      "Hi\n",
      "Hi\n",
      "Hi\n",
      "STOP\n"
     ]
    }
   ],
   "source": [
    "x = 5\n",
    "while x>0:\n",
    "    print(\"Hi\")\n",
    "    x -= 1\n",
    "else:\n",
    "    print(\"STOP\")"
   ]
  },
  {
   "cell_type": "markdown",
   "id": "cfdfb6a6-edd2-4ca3-b590-d5388f4f30f3",
   "metadata": {},
   "source": [
    "Loop control statement \n",
    "PASS"
   ]
  },
  {
   "cell_type": "code",
   "execution_count": 6,
   "id": "9c634ac3-e386-4f62-be3f-025e24eedcd4",
   "metadata": {},
   "outputs": [],
   "source": [
    "var =[1,2,3,4,5]\n",
    "for i in var:\n",
    "    pass  #avoid error massege"
   ]
  },
  {
   "cell_type": "markdown",
   "id": "361fbf94-67f2-46a1-87dd-cf9d26eeb631",
   "metadata": {},
   "source": [
    "Continue"
   ]
  },
  {
   "cell_type": "code",
   "execution_count": 11,
   "id": "21a0d5d7-ca1f-4f40-b614-f80b756f018a",
   "metadata": {},
   "outputs": [
    {
     "name": "stdout",
     "output_type": "stream",
     "text": [
      "3\n",
      "4\n",
      "5\n"
     ]
    }
   ],
   "source": [
    "for i in var:\n",
    "    if i <= 2:\n",
    "        pass\n",
    "    else:\n",
    "        print(i)\n",
    "    "
   ]
  },
  {
   "cell_type": "markdown",
   "id": "2faab2f9-06ce-4112-9fd2-96d25c2fd840",
   "metadata": {},
   "source": [
    "List Comprehensions"
   ]
  },
  {
   "cell_type": "code",
   "execution_count": 12,
   "id": "7920e69c-aacf-4890-9f22-edd9f33b1f51",
   "metadata": {},
   "outputs": [
    {
     "data": {
      "text/plain": [
       "['S', 'E', 'L', 'A', 'M', 'A', 'T']"
      ]
     },
     "execution_count": 12,
     "metadata": {},
     "output_type": "execute_result"
    }
   ],
   "source": [
    "var = \"SELAMAT\"\n",
    "list_var = [i for i in var]\n",
    "list_var"
   ]
  },
  {
   "cell_type": "code",
   "execution_count": 15,
   "id": "3d786119-32bb-47bd-8755-208d7bd240d9",
   "metadata": {},
   "outputs": [
    {
     "data": {
      "text/plain": [
       "[3, 6, 9, 12, 15]"
      ]
     },
     "execution_count": 15,
     "metadata": {},
     "output_type": "execute_result"
    }
   ],
   "source": [
    "var = [1,2,3,4,5]\n",
    "list_var = [kali*3 for kali in var]\n",
    "list_var"
   ]
  },
  {
   "cell_type": "code",
   "execution_count": 21,
   "id": "46f0669e-c1c3-4ac4-ae6a-12761590eee6",
   "metadata": {},
   "outputs": [
    {
     "data": {
      "text/plain": [
       "[1, 2, 3, 4, 5, 6, 7, 8, 9, 10]"
      ]
     },
     "execution_count": 21,
     "metadata": {},
     "output_type": "execute_result"
    }
   ],
   "source": [
    "list_var = [i for i in range(1,11)] #hitung sampai  s/d10\n",
    "list_var"
   ]
  },
  {
   "cell_type": "code",
   "execution_count": 22,
   "id": "4879934d-1312-479a-aa7d-0278f949a9ca",
   "metadata": {},
   "outputs": [
    {
     "data": {
      "text/plain": [
       "[1, 3, 5, 7, 9, 11, 13, 15, 17, 19]"
      ]
     },
     "execution_count": 22,
     "metadata": {},
     "output_type": "execute_result"
    }
   ],
   "source": [
    "list_var = [i for i in range(1,21) if i%2==1] #hitung sampai  s/d10\n",
    "list_var"
   ]
  },
  {
   "cell_type": "code",
   "execution_count": 23,
   "id": "ecbc4a5f-ad01-4889-805a-b2b1f63cc5e5",
   "metadata": {},
   "outputs": [
    {
     "data": {
      "text/plain": [
       "['A', 'A']"
      ]
     },
     "execution_count": 23,
     "metadata": {},
     "output_type": "execute_result"
    }
   ],
   "source": [
    "var = \"SELAMAT\"\n",
    "list_var = [i for i in var if i ==\"A\"]\n",
    "list_var"
   ]
  },
  {
   "cell_type": "code",
   "execution_count": 30,
   "id": "19c85dea-cc99-43b1-9ca5-19676c4114b1",
   "metadata": {},
   "outputs": [
    {
     "data": {
      "text/plain": [
       "[130, 40, 260, 80, 390, 120]"
      ]
     },
     "execution_count": 30,
     "metadata": {},
     "output_type": "execute_result"
    }
   ],
   "source": [
    "#Multivariabel\n",
    "var = [1,2,3]\n",
    "var2 = [130,40]\n",
    "\n",
    "var3 = [x*y for x in var for y in var2]\n",
    "var3"
   ]
  },
  {
   "cell_type": "code",
   "execution_count": 31,
   "id": "4c1546f7-091d-4cbe-bd4c-eddf297ba58b",
   "metadata": {},
   "outputs": [
    {
     "data": {
      "text/plain": [
       "[10, 20, 30, 40]"
      ]
     },
     "execution_count": 31,
     "metadata": {},
     "output_type": "execute_result"
    }
   ],
   "source": [
    "var = [item for item in range(10,50,10)]\n",
    "var"
   ]
  },
  {
   "cell_type": "code",
   "execution_count": null,
   "id": "92f79071-92bb-4e1e-85a2-4ad196128a9f",
   "metadata": {},
   "outputs": [],
   "source": []
  }
 ],
 "metadata": {
  "kernelspec": {
   "display_name": "Python 3 (ipykernel)",
   "language": "python",
   "name": "python3"
  },
  "language_info": {
   "codemirror_mode": {
    "name": "ipython",
    "version": 3
   },
   "file_extension": ".py",
   "mimetype": "text/x-python",
   "name": "python",
   "nbconvert_exporter": "python",
   "pygments_lexer": "ipython3",
   "version": "3.11.3"
  }
 },
 "nbformat": 4,
 "nbformat_minor": 5
}
