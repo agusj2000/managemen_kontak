{
 "cells": [
  {
   "cell_type": "code",
   "execution_count": 1,
   "id": "c2840319-2380-47a6-8113-ae384937c799",
   "metadata": {},
   "outputs": [],
   "source": [
    "var = 100"
   ]
  },
  {
   "cell_type": "code",
   "execution_count": 2,
   "id": "55e6715b-b9d2-442e-8cbf-a2648cdd5f0a",
   "metadata": {},
   "outputs": [
    {
     "data": {
      "text/plain": [
       "100"
      ]
     },
     "execution_count": 2,
     "metadata": {},
     "output_type": "execute_result"
    }
   ],
   "source": [
    "var\n"
   ]
  },
  {
   "cell_type": "code",
   "execution_count": 3,
   "id": "d438559e-ec51-45ff-973b-84841e2a0953",
   "metadata": {},
   "outputs": [
    {
     "ename": "NameError",
     "evalue": "name 'Var' is not defined",
     "output_type": "error",
     "traceback": [
      "\u001b[1;31m---------------------------------------------------------------------------\u001b[0m",
      "\u001b[1;31mNameError\u001b[0m                                 Traceback (most recent call last)",
      "Cell \u001b[1;32mIn[3], line 1\u001b[0m\n\u001b[1;32m----> 1\u001b[0m \u001b[43mVar\u001b[49m\n",
      "\u001b[1;31mNameError\u001b[0m: name 'Var' is not defined"
     ]
    }
   ],
   "source": [
    "Var"
   ]
  },
  {
   "cell_type": "code",
   "execution_count": 4,
   "id": "14e2f119-7c29-4d8c-b41e-5909d80921eb",
   "metadata": {},
   "outputs": [],
   "source": [
    "nama = \"Joko\"\n"
   ]
  },
  {
   "cell_type": "code",
   "execution_count": 5,
   "id": "94dcc20c-5c36-403f-b387-ca9bd41fc34c",
   "metadata": {},
   "outputs": [
    {
     "data": {
      "text/plain": [
       "str"
      ]
     },
     "execution_count": 5,
     "metadata": {},
     "output_type": "execute_result"
    }
   ],
   "source": [
    "type(nama)"
   ]
  },
  {
   "cell_type": "code",
   "execution_count": 6,
   "id": "addc97de-95fe-48aa-adc9-b3510f301359",
   "metadata": {},
   "outputs": [],
   "source": [
    "umur = 20"
   ]
  },
  {
   "cell_type": "code",
   "execution_count": 7,
   "id": "6d63e404-be37-467c-bd9c-96ae6a30270e",
   "metadata": {},
   "outputs": [
    {
     "data": {
      "text/plain": [
       "int"
      ]
     },
     "execution_count": 7,
     "metadata": {},
     "output_type": "execute_result"
    }
   ],
   "source": [
    "type(umur)"
   ]
  },
  {
   "cell_type": "code",
   "execution_count": 8,
   "id": "2f1c40bd-faf7-4a90-9f2d-3e285d72a9da",
   "metadata": {},
   "outputs": [],
   "source": [
    "nama, umur = \"coki\", 25"
   ]
  },
  {
   "cell_type": "code",
   "execution_count": 9,
   "id": "1513d3c5-a8de-4023-aa22-6441cea697cc",
   "metadata": {},
   "outputs": [
    {
     "data": {
      "text/plain": [
       "'coki'"
      ]
     },
     "execution_count": 9,
     "metadata": {},
     "output_type": "execute_result"
    }
   ],
   "source": [
    "nama"
   ]
  },
  {
   "cell_type": "code",
   "execution_count": 10,
   "id": "cd8d968b-cd01-45d6-9da5-0413389b64c3",
   "metadata": {},
   "outputs": [
    {
     "data": {
      "text/plain": [
       "25"
      ]
     },
     "execution_count": 10,
     "metadata": {},
     "output_type": "execute_result"
    }
   ],
   "source": [
    "umur"
   ]
  },
  {
   "cell_type": "code",
   "execution_count": 12,
   "id": "c5690122-ecec-409a-89b8-33aefdf802ed",
   "metadata": {},
   "outputs": [],
   "source": [
    "var, var, var = 10, 20, 30"
   ]
  },
  {
   "cell_type": "code",
   "execution_count": 13,
   "id": "e38263a6-cb75-4960-9bf0-fa1e9480c03f",
   "metadata": {},
   "outputs": [
    {
     "data": {
      "text/plain": [
       "30"
      ]
     },
     "execution_count": 13,
     "metadata": {},
     "output_type": "execute_result"
    }
   ],
   "source": [
    "var"
   ]
  },
  {
   "cell_type": "code",
   "execution_count": 14,
   "id": "5d285d8a-eb44-4be7-8a61-f06a7e49fdbf",
   "metadata": {},
   "outputs": [],
   "source": [
    "d=\"4\"\n"
   ]
  },
  {
   "cell_type": "code",
   "execution_count": 15,
   "id": "474c3855-dc32-4882-b6a1-2258f1eec381",
   "metadata": {},
   "outputs": [],
   "source": [
    "c=2\n"
   ]
  },
  {
   "cell_type": "code",
   "execution_count": 16,
   "id": "63a9cbb7-1fd9-4781-9a83-9d8d46184e02",
   "metadata": {},
   "outputs": [
    {
     "ename": "TypeError",
     "evalue": "unsupported operand type(s) for +: 'int' and 'str'",
     "output_type": "error",
     "traceback": [
      "\u001b[1;31m---------------------------------------------------------------------------\u001b[0m",
      "\u001b[1;31mTypeError\u001b[0m                                 Traceback (most recent call last)",
      "Cell \u001b[1;32mIn[16], line 1\u001b[0m\n\u001b[1;32m----> 1\u001b[0m \u001b[43mc\u001b[49m\u001b[38;5;241;43m+\u001b[39;49m\u001b[43md\u001b[49m\n",
      "\u001b[1;31mTypeError\u001b[0m: unsupported operand type(s) for +: 'int' and 'str'"
     ]
    }
   ],
   "source": [
    "c+d"
   ]
  },
  {
   "cell_type": "code",
   "execution_count": 17,
   "id": "73670b9c-7663-438a-bd7a-cd3ab6364c73",
   "metadata": {},
   "outputs": [
    {
     "data": {
      "text/plain": [
       "str"
      ]
     },
     "execution_count": 17,
     "metadata": {},
     "output_type": "execute_result"
    }
   ],
   "source": [
    "type(d)\n"
   ]
  },
  {
   "cell_type": "code",
   "execution_count": 18,
   "id": "10ba85ed-ec3e-410b-9434-558671ea4e59",
   "metadata": {},
   "outputs": [
    {
     "data": {
      "text/plain": [
       "4"
      ]
     },
     "execution_count": 18,
     "metadata": {},
     "output_type": "execute_result"
    }
   ],
   "source": [
    "int(d)"
   ]
  },
  {
   "cell_type": "code",
   "execution_count": 19,
   "id": "9e51c7dc-a611-4fad-aa5a-8ced407f2d1f",
   "metadata": {},
   "outputs": [
    {
     "ename": "TypeError",
     "evalue": "unsupported operand type(s) for +: 'int' and 'str'",
     "output_type": "error",
     "traceback": [
      "\u001b[1;31m---------------------------------------------------------------------------\u001b[0m",
      "\u001b[1;31mTypeError\u001b[0m                                 Traceback (most recent call last)",
      "Cell \u001b[1;32mIn[19], line 1\u001b[0m\n\u001b[1;32m----> 1\u001b[0m \u001b[43mc\u001b[49m\u001b[38;5;241;43m+\u001b[39;49m\u001b[43md\u001b[49m\n",
      "\u001b[1;31mTypeError\u001b[0m: unsupported operand type(s) for +: 'int' and 'str'"
     ]
    }
   ],
   "source": [
    "c+d"
   ]
  },
  {
   "cell_type": "code",
   "execution_count": 20,
   "id": "a37f5956-0f5f-453b-9412-801ab909de26",
   "metadata": {},
   "outputs": [
    {
     "data": {
      "text/plain": [
       "str"
      ]
     },
     "execution_count": 20,
     "metadata": {},
     "output_type": "execute_result"
    }
   ],
   "source": [
    "type(d)\n"
   ]
  },
  {
   "cell_type": "code",
   "execution_count": 21,
   "id": "86c0557a-0952-4555-80ca-6c2a4d69fcf7",
   "metadata": {},
   "outputs": [],
   "source": [
    "d=int(d)\n"
   ]
  },
  {
   "cell_type": "code",
   "execution_count": 22,
   "id": "128e4e0e-ce79-49e2-bfc5-da40e3f80ead",
   "metadata": {},
   "outputs": [
    {
     "data": {
      "text/plain": [
       "4"
      ]
     },
     "execution_count": 22,
     "metadata": {},
     "output_type": "execute_result"
    }
   ],
   "source": [
    "d"
   ]
  },
  {
   "cell_type": "code",
   "execution_count": 23,
   "id": "4551abac-5578-4fb4-b972-98c2d268c908",
   "metadata": {},
   "outputs": [
    {
     "data": {
      "text/plain": [
       "int"
      ]
     },
     "execution_count": 23,
     "metadata": {},
     "output_type": "execute_result"
    }
   ],
   "source": [
    "type(d)\n"
   ]
  },
  {
   "cell_type": "code",
   "execution_count": 24,
   "id": "16f3fecb-417a-44fb-be8a-15c38962305a",
   "metadata": {},
   "outputs": [
    {
     "data": {
      "text/plain": [
       "6"
      ]
     },
     "execution_count": 24,
     "metadata": {},
     "output_type": "execute_result"
    }
   ],
   "source": [
    "c+d"
   ]
  },
  {
   "cell_type": "code",
   "execution_count": 25,
   "id": "fa31f304-3ea7-4b1b-8e39-3c64f8bb8d25",
   "metadata": {},
   "outputs": [],
   "source": [
    "complex=3+5"
   ]
  },
  {
   "cell_type": "code",
   "execution_count": 26,
   "id": "1b9d1b1d-f2ee-44ef-a5b8-8ac1f5086cc5",
   "metadata": {},
   "outputs": [
    {
     "data": {
      "text/plain": [
       "8"
      ]
     },
     "execution_count": 26,
     "metadata": {},
     "output_type": "execute_result"
    }
   ],
   "source": [
    "complex"
   ]
  },
  {
   "cell_type": "code",
   "execution_count": 27,
   "id": "f424c707-ce0c-452f-bcf6-289c06168a93",
   "metadata": {},
   "outputs": [
    {
     "ename": "TypeError",
     "evalue": "'int' object is not callable",
     "output_type": "error",
     "traceback": [
      "\u001b[1;31m---------------------------------------------------------------------------\u001b[0m",
      "\u001b[1;31mTypeError\u001b[0m                                 Traceback (most recent call last)",
      "Cell \u001b[1;32mIn[27], line 1\u001b[0m\n\u001b[1;32m----> 1\u001b[0m \u001b[38;5;28;43mcomplex\u001b[39;49m\u001b[43m(\u001b[49m\u001b[38;5;241;43m3\u001b[39;49m\u001b[43m,\u001b[49m\u001b[38;5;241;43m5\u001b[39;49m\u001b[43m)\u001b[49m\n",
      "\u001b[1;31mTypeError\u001b[0m: 'int' object is not callable"
     ]
    }
   ],
   "source": [
    "complex(3,5)\n"
   ]
  },
  {
   "cell_type": "code",
   "execution_count": 28,
   "id": "d0fead2d-1c19-4e69-a44a-da494154f644",
   "metadata": {},
   "outputs": [
    {
     "ename": "TypeError",
     "evalue": "'int' object is not callable",
     "output_type": "error",
     "traceback": [
      "\u001b[1;31m---------------------------------------------------------------------------\u001b[0m",
      "\u001b[1;31mTypeError\u001b[0m                                 Traceback (most recent call last)",
      "Cell \u001b[1;32mIn[28], line 1\u001b[0m\n\u001b[1;32m----> 1\u001b[0m \u001b[38;5;28;43mcomplex\u001b[39;49m\u001b[43m(\u001b[49m\u001b[38;5;241;43m2\u001b[39;49m\u001b[43m,\u001b[49m\u001b[38;5;241;43m4\u001b[39;49m\u001b[43m)\u001b[49m\n",
      "\u001b[1;31mTypeError\u001b[0m: 'int' object is not callable"
     ]
    }
   ],
   "source": [
    "complex(2,4)"
   ]
  },
  {
   "cell_type": "code",
   "execution_count": 29,
   "id": "3c12c8bb-aa53-45d3-9c0d-6310b8b9e78a",
   "metadata": {},
   "outputs": [
    {
     "data": {
      "text/plain": [
       "3.14"
      ]
     },
     "execution_count": 29,
     "metadata": {},
     "output_type": "execute_result"
    }
   ],
   "source": [
    "float(\"3.14\")"
   ]
  },
  {
   "cell_type": "code",
   "execution_count": 30,
   "id": "fdbcd4aa-ba13-4703-8ea5-810ac973dd50",
   "metadata": {},
   "outputs": [
    {
     "ename": "TypeError",
     "evalue": "'int' object is not callable",
     "output_type": "error",
     "traceback": [
      "\u001b[1;31m---------------------------------------------------------------------------\u001b[0m",
      "\u001b[1;31mTypeError\u001b[0m                                 Traceback (most recent call last)",
      "Cell \u001b[1;32mIn[30], line 1\u001b[0m\n\u001b[1;32m----> 1\u001b[0m \u001b[38;5;28;43mcomplex\u001b[39;49m\u001b[43m(\u001b[49m\u001b[38;5;241;43m2\u001b[39;49m\u001b[43m,\u001b[49m\u001b[38;5;241;43m4\u001b[39;49m\u001b[43m)\u001b[49m\n",
      "\u001b[1;31mTypeError\u001b[0m: 'int' object is not callable"
     ]
    }
   ],
   "source": [
    "complex(2,4)"
   ]
  },
  {
   "cell_type": "code",
   "execution_count": 31,
   "id": "6e70d07a-f0e8-48b8-a88f-e1fff499940e",
   "metadata": {},
   "outputs": [],
   "source": [
    "c=3j"
   ]
  },
  {
   "cell_type": "code",
   "execution_count": 32,
   "id": "bccd5063-516a-47a2-b1df-e6082558dcea",
   "metadata": {},
   "outputs": [
    {
     "data": {
      "text/plain": [
       "complex"
      ]
     },
     "execution_count": 32,
     "metadata": {},
     "output_type": "execute_result"
    }
   ],
   "source": [
    "type(c)"
   ]
  },
  {
   "cell_type": "code",
   "execution_count": 33,
   "id": "d9276ef9-29d3-4b1a-b0ce-5d9306c44040",
   "metadata": {},
   "outputs": [
    {
     "data": {
      "text/plain": [
       "int"
      ]
     },
     "execution_count": 33,
     "metadata": {},
     "output_type": "execute_result"
    }
   ],
   "source": [
    "type(4)"
   ]
  },
  {
   "cell_type": "code",
   "execution_count": 36,
   "id": "3e2837a9-fad6-47e8-a020-703a129505c3",
   "metadata": {},
   "outputs": [
    {
     "data": {
      "text/plain": [
       "complex"
      ]
     },
     "execution_count": 36,
     "metadata": {},
     "output_type": "execute_result"
    }
   ],
   "source": [
    "type(c)"
   ]
  },
  {
   "cell_type": "code",
   "execution_count": 37,
   "id": "6afa21eb-5cb1-4001-97e3-687cc62b5b27",
   "metadata": {},
   "outputs": [
    {
     "data": {
      "text/plain": [
       "int"
      ]
     },
     "execution_count": 37,
     "metadata": {},
     "output_type": "execute_result"
    }
   ],
   "source": [
    "type(4)"
   ]
  },
  {
   "cell_type": "code",
   "execution_count": 38,
   "id": "aeaca27f-0654-4671-abc6-0de693fddea8",
   "metadata": {},
   "outputs": [
    {
     "data": {
      "text/plain": [
       "complex"
      ]
     },
     "execution_count": 38,
     "metadata": {},
     "output_type": "execute_result"
    }
   ],
   "source": [
    "type(c)"
   ]
  },
  {
   "cell_type": "code",
   "execution_count": 39,
   "id": "278ef970-0037-4238-8d71-1ce4d319d662",
   "metadata": {},
   "outputs": [
    {
     "data": {
      "text/plain": [
       "int"
      ]
     },
     "execution_count": 39,
     "metadata": {},
     "output_type": "execute_result"
    }
   ],
   "source": [
    "type(4)"
   ]
  },
  {
   "cell_type": "code",
   "execution_count": 40,
   "id": "b3a3a82a-76a6-471e-b46b-9126406a0194",
   "metadata": {},
   "outputs": [
    {
     "data": {
      "text/plain": [
       "complex"
      ]
     },
     "execution_count": 40,
     "metadata": {},
     "output_type": "execute_result"
    }
   ],
   "source": [
    "type(c)"
   ]
  },
  {
   "cell_type": "code",
   "execution_count": 41,
   "id": "63c394d9-8830-4657-a29c-d2e97900ed2f",
   "metadata": {},
   "outputs": [],
   "source": [
    "d=\"4\""
   ]
  },
  {
   "cell_type": "code",
   "execution_count": 42,
   "id": "91b46a48-d292-4a3c-8c65-5bf4dd91c022",
   "metadata": {},
   "outputs": [
    {
     "ename": "NameError",
     "evalue": "name 'a' is not defined",
     "output_type": "error",
     "traceback": [
      "\u001b[1;31m---------------------------------------------------------------------------\u001b[0m",
      "\u001b[1;31mNameError\u001b[0m                                 Traceback (most recent call last)",
      "Cell \u001b[1;32mIn[42], line 1\u001b[0m\n\u001b[1;32m----> 1\u001b[0m \u001b[43ma\u001b[49m\u001b[38;5;241m+\u001b[39md\n",
      "\u001b[1;31mNameError\u001b[0m: name 'a' is not defined"
     ]
    }
   ],
   "source": [
    "a+d"
   ]
  },
  {
   "cell_type": "code",
   "execution_count": 43,
   "id": "c320b827-9a45-4308-be1d-be5a7305d663",
   "metadata": {},
   "outputs": [
    {
     "data": {
      "text/plain": [
       "4"
      ]
     },
     "execution_count": 43,
     "metadata": {},
     "output_type": "execute_result"
    }
   ],
   "source": [
    "int(d)"
   ]
  },
  {
   "cell_type": "code",
   "execution_count": 48,
   "id": "9f91f438-76da-4cd7-b7e0-2f8887875949",
   "metadata": {},
   "outputs": [
    {
     "data": {
      "text/plain": [
       "int"
      ]
     },
     "execution_count": 48,
     "metadata": {},
     "output_type": "execute_result"
    }
   ],
   "source": [
    "type(4)"
   ]
  },
  {
   "cell_type": "code",
   "execution_count": 50,
   "id": "ae926988-11ac-4c0a-bbb0-aacd7cc92dca",
   "metadata": {},
   "outputs": [],
   "source": [
    "d = int(4)"
   ]
  },
  {
   "cell_type": "code",
   "execution_count": 52,
   "id": "1aae9b78-8f4c-4d6d-8e3b-17489112e924",
   "metadata": {},
   "outputs": [
    {
     "data": {
      "text/plain": [
       "int"
      ]
     },
     "execution_count": 52,
     "metadata": {},
     "output_type": "execute_result"
    }
   ],
   "source": [
    "type(d)"
   ]
  },
  {
   "cell_type": "code",
   "execution_count": 53,
   "id": "3bf3ba3d-9cf4-4018-8274-97a638682d44",
   "metadata": {},
   "outputs": [
    {
     "ename": "NameError",
     "evalue": "name 'a' is not defined",
     "output_type": "error",
     "traceback": [
      "\u001b[1;31m---------------------------------------------------------------------------\u001b[0m",
      "\u001b[1;31mNameError\u001b[0m                                 Traceback (most recent call last)",
      "Cell \u001b[1;32mIn[53], line 1\u001b[0m\n\u001b[1;32m----> 1\u001b[0m \u001b[43ma\u001b[49m\u001b[38;5;241m+\u001b[39md\n",
      "\u001b[1;31mNameError\u001b[0m: name 'a' is not defined"
     ]
    }
   ],
   "source": [
    "a+d"
   ]
  },
  {
   "cell_type": "code",
   "execution_count": 54,
   "id": "91697ac7-be3c-43ec-a532-5ccd63280980",
   "metadata": {},
   "outputs": [],
   "source": [
    "a=11\n"
   ]
  },
  {
   "cell_type": "code",
   "execution_count": 55,
   "id": "f125b793-1070-459b-8f9b-2404d69f899c",
   "metadata": {},
   "outputs": [
    {
     "data": {
      "text/plain": [
       "15"
      ]
     },
     "execution_count": 55,
     "metadata": {},
     "output_type": "execute_result"
    }
   ],
   "source": [
    "a+d"
   ]
  },
  {
   "cell_type": "code",
   "execution_count": 56,
   "id": "f01c778c-23ed-4378-b96b-e66586ab864d",
   "metadata": {},
   "outputs": [
    {
     "data": {
      "text/plain": [
       "3.14"
      ]
     },
     "execution_count": 56,
     "metadata": {},
     "output_type": "execute_result"
    }
   ],
   "source": [
    "float(\"3.14\")"
   ]
  },
  {
   "cell_type": "code",
   "execution_count": 57,
   "id": "6022b249-493e-4b87-bf64-56e1c1996d4f",
   "metadata": {},
   "outputs": [
    {
     "ename": "TypeError",
     "evalue": "'int' object is not callable",
     "output_type": "error",
     "traceback": [
      "\u001b[1;31m---------------------------------------------------------------------------\u001b[0m",
      "\u001b[1;31mTypeError\u001b[0m                                 Traceback (most recent call last)",
      "Cell \u001b[1;32mIn[57], line 1\u001b[0m\n\u001b[1;32m----> 1\u001b[0m \u001b[38;5;28;43mcomplex\u001b[39;49m\u001b[43m(\u001b[49m\u001b[38;5;241;43m2\u001b[39;49m\u001b[43m,\u001b[49m\u001b[38;5;241;43m4\u001b[39;49m\u001b[43m)\u001b[49m\n",
      "\u001b[1;31mTypeError\u001b[0m: 'int' object is not callable"
     ]
    }
   ],
   "source": [
    "complex(2,4)"
   ]
  },
  {
   "cell_type": "code",
   "execution_count": 58,
   "id": "4ad9063e-08d0-40cf-87be-9da9a23c44bc",
   "metadata": {},
   "outputs": [
    {
     "data": {
      "text/plain": [
       "int"
      ]
     },
     "execution_count": 58,
     "metadata": {},
     "output_type": "execute_result"
    }
   ],
   "source": [
    "type(4)\n"
   ]
  },
  {
   "cell_type": "code",
   "execution_count": 60,
   "id": "6db217d0-7320-4349-a850-fff4e6015df4",
   "metadata": {},
   "outputs": [
    {
     "data": {
      "text/plain": [
       "complex"
      ]
     },
     "execution_count": 60,
     "metadata": {},
     "output_type": "execute_result"
    }
   ],
   "source": [
    "type(c)"
   ]
  },
  {
   "cell_type": "code",
   "execution_count": 61,
   "id": "328aed0c-c9ac-40d9-b0d8-6c96dd81b773",
   "metadata": {},
   "outputs": [],
   "source": [
    "d = \"4\""
   ]
  },
  {
   "cell_type": "code",
   "execution_count": 62,
   "id": "3465527d-cbac-43f8-8fbc-43cb60b3d916",
   "metadata": {},
   "outputs": [],
   "source": [
    "a= 13"
   ]
  },
  {
   "cell_type": "code",
   "execution_count": 63,
   "id": "7cd22688-2ab6-4622-886a-4bb023b0713b",
   "metadata": {},
   "outputs": [
    {
     "ename": "TypeError",
     "evalue": "unsupported operand type(s) for +: 'int' and 'str'",
     "output_type": "error",
     "traceback": [
      "\u001b[1;31m---------------------------------------------------------------------------\u001b[0m",
      "\u001b[1;31mTypeError\u001b[0m                                 Traceback (most recent call last)",
      "Cell \u001b[1;32mIn[63], line 1\u001b[0m\n\u001b[1;32m----> 1\u001b[0m \u001b[43ma\u001b[49m\u001b[38;5;241;43m+\u001b[39;49m\u001b[43md\u001b[49m\n",
      "\u001b[1;31mTypeError\u001b[0m: unsupported operand type(s) for +: 'int' and 'str'"
     ]
    }
   ],
   "source": [
    "a+d"
   ]
  },
  {
   "cell_type": "code",
   "execution_count": 64,
   "id": "43c0c511-98d0-4bbd-baf5-1ce614db726e",
   "metadata": {},
   "outputs": [
    {
     "data": {
      "text/plain": [
       "4"
      ]
     },
     "execution_count": 64,
     "metadata": {},
     "output_type": "execute_result"
    }
   ],
   "source": [
    "int(d)"
   ]
  },
  {
   "cell_type": "code",
   "execution_count": 65,
   "id": "7107ed11-bb3f-46aa-8bc7-256f52974762",
   "metadata": {},
   "outputs": [],
   "source": [
    "d=int(d)"
   ]
  },
  {
   "cell_type": "code",
   "execution_count": 66,
   "id": "a080e6d0-a9fc-45c1-8f8c-d6b87021fc57",
   "metadata": {},
   "outputs": [
    {
     "data": {
      "text/plain": [
       "4"
      ]
     },
     "execution_count": 66,
     "metadata": {},
     "output_type": "execute_result"
    }
   ],
   "source": [
    "d"
   ]
  },
  {
   "cell_type": "code",
   "execution_count": 67,
   "id": "604c4d15-79e3-493f-971e-6ad337f9e917",
   "metadata": {},
   "outputs": [
    {
     "data": {
      "text/plain": [
       "17"
      ]
     },
     "execution_count": 67,
     "metadata": {},
     "output_type": "execute_result"
    }
   ],
   "source": [
    "a+d"
   ]
  },
  {
   "cell_type": "code",
   "execution_count": 68,
   "id": "2fc3b1af-142e-4ce6-97e5-3614e6f15a0f",
   "metadata": {},
   "outputs": [
    {
     "data": {
      "text/plain": [
       "3.14"
      ]
     },
     "execution_count": 68,
     "metadata": {},
     "output_type": "execute_result"
    }
   ],
   "source": [
    "float(\"3.14\")"
   ]
  },
  {
   "cell_type": "code",
   "execution_count": 76,
   "id": "9af7c486-6f85-49c5-8ca9-88a6d00b34b3",
   "metadata": {},
   "outputs": [
    {
     "ename": "TypeError",
     "evalue": "'int' object is not callable",
     "output_type": "error",
     "traceback": [
      "\u001b[1;31m---------------------------------------------------------------------------\u001b[0m",
      "\u001b[1;31mTypeError\u001b[0m                                 Traceback (most recent call last)",
      "Cell \u001b[1;32mIn[76], line 1\u001b[0m\n\u001b[1;32m----> 1\u001b[0m c \u001b[38;5;241m=\u001b[39m \u001b[38;5;28;43mcomplex\u001b[39;49m\u001b[43m(\u001b[49m\u001b[38;5;241;43m2\u001b[39;49m\u001b[43m,\u001b[49m\u001b[43m \u001b[49m\u001b[38;5;241;43m4\u001b[39;49m\u001b[43m)\u001b[49m\n\u001b[0;32m      2\u001b[0m \u001b[38;5;28mprint\u001b[39m(c)\n",
      "\u001b[1;31mTypeError\u001b[0m: 'int' object is not callable"
     ]
    }
   ],
   "source": [
    "c = complex(2, 4)\n",
    "print(c)\n",
    "\n"
   ]
  },
  {
   "cell_type": "code",
   "execution_count": 75,
   "id": "d525398f-0555-4a01-9247-90d6248f796e",
   "metadata": {},
   "outputs": [
    {
     "ename": "NameError",
     "evalue": "name 'real' is not defined",
     "output_type": "error",
     "traceback": [
      "\u001b[1;31m---------------------------------------------------------------------------\u001b[0m",
      "\u001b[1;31mNameError\u001b[0m                                 Traceback (most recent call last)",
      "Cell \u001b[1;32mIn[75], line 1\u001b[0m\n\u001b[1;32m----> 1\u001b[0m \u001b[38;5;28mcomplex\u001b[39m(\u001b[43mreal\u001b[49m, imag)\n",
      "\u001b[1;31mNameError\u001b[0m: name 'real' is not defined"
     ]
    }
   ],
   "source": [
    "complex(real, imag)\n"
   ]
  },
  {
   "cell_type": "code",
   "execution_count": 77,
   "id": "d5e1a22c-2415-4d6c-b158-c58a86f7a646",
   "metadata": {},
   "outputs": [
    {
     "ename": "TypeError",
     "evalue": "'int' object is not callable",
     "output_type": "error",
     "traceback": [
      "\u001b[1;31m---------------------------------------------------------------------------\u001b[0m",
      "\u001b[1;31mTypeError\u001b[0m                                 Traceback (most recent call last)",
      "Cell \u001b[1;32mIn[77], line 1\u001b[0m\n\u001b[1;32m----> 1\u001b[0m c \u001b[38;5;241m=\u001b[39m \u001b[38;5;28;43mcomplex\u001b[39;49m\u001b[43m(\u001b[49m\u001b[38;5;241;43m2\u001b[39;49m\u001b[43m,\u001b[49m\u001b[43m \u001b[49m\u001b[38;5;241;43m4\u001b[39;49m\u001b[43m)\u001b[49m\n\u001b[0;32m      2\u001b[0m \u001b[38;5;28mprint\u001b[39m(c)\n",
      "\u001b[1;31mTypeError\u001b[0m: 'int' object is not callable"
     ]
    }
   ],
   "source": [
    "c = complex(2, 4)\n",
    "print(c)\n"
   ]
  },
  {
   "cell_type": "code",
   "execution_count": 78,
   "id": "bab6b33d-7c98-4e4a-ac28-adef5e580074",
   "metadata": {},
   "outputs": [
    {
     "data": {
      "text/plain": [
       "(4+7j)"
      ]
     },
     "execution_count": 78,
     "metadata": {},
     "output_type": "execute_result"
    }
   ],
   "source": [
    "4+7j"
   ]
  },
  {
   "cell_type": "code",
   "execution_count": 79,
   "id": "30071547-fad2-4f39-b038-26e8eb951ccb",
   "metadata": {},
   "outputs": [
    {
     "data": {
      "text/plain": [
       "8j"
      ]
     },
     "execution_count": 79,
     "metadata": {},
     "output_type": "execute_result"
    }
   ],
   "source": [
    "8j"
   ]
  },
  {
   "cell_type": "code",
   "execution_count": 80,
   "id": "a960a01e-abae-4258-bcde-5b475c73d5ec",
   "metadata": {},
   "outputs": [],
   "source": [
    "a,b,c = 4, 2.5, 3j"
   ]
  },
  {
   "cell_type": "code",
   "execution_count": 81,
   "id": "4f0fd3ba-bca5-442e-aae6-b89f00cad3ce",
   "metadata": {},
   "outputs": [
    {
     "data": {
      "text/plain": [
       "(2.5+3j)"
      ]
     },
     "execution_count": 81,
     "metadata": {},
     "output_type": "execute_result"
    }
   ],
   "source": [
    "b+c"
   ]
  },
  {
   "cell_type": "code",
   "execution_count": 82,
   "id": "84dd5c58-7b5e-4a66-be6f-ae6977830b32",
   "metadata": {},
   "outputs": [
    {
     "data": {
      "text/plain": [
       "1"
      ]
     },
     "execution_count": 82,
     "metadata": {},
     "output_type": "execute_result"
    }
   ],
   "source": [
    "5%2"
   ]
  },
  {
   "cell_type": "code",
   "execution_count": 83,
   "id": "3932319a-f4da-41f4-a4f7-c5f0eb47f6e4",
   "metadata": {},
   "outputs": [
    {
     "data": {
      "text/plain": [
       "2"
      ]
     },
     "execution_count": 83,
     "metadata": {},
     "output_type": "execute_result"
    }
   ],
   "source": [
    "5%3"
   ]
  },
  {
   "cell_type": "code",
   "execution_count": 85,
   "id": "d563cdaf-eb03-4302-a99a-9af7fe31fa78",
   "metadata": {},
   "outputs": [
    {
     "data": {
      "text/plain": [
       "int"
      ]
     },
     "execution_count": 85,
     "metadata": {},
     "output_type": "execute_result"
    }
   ],
   "source": [
    "type(4)"
   ]
  },
  {
   "cell_type": "code",
   "execution_count": 87,
   "id": "a1aa3408-fa77-4156-b83b-634a53cba345",
   "metadata": {},
   "outputs": [
    {
     "data": {
      "text/plain": [
       "complex"
      ]
     },
     "execution_count": 87,
     "metadata": {},
     "output_type": "execute_result"
    }
   ],
   "source": [
    "type(c)"
   ]
  },
  {
   "cell_type": "code",
   "execution_count": 89,
   "id": "981eab77-861d-4edd-9fc6-417d419eb020",
   "metadata": {},
   "outputs": [],
   "source": [
    "d = \"4\""
   ]
  },
  {
   "cell_type": "code",
   "execution_count": 90,
   "id": "6ebd99e7-6fe1-4df3-9977-ac1d28a819ac",
   "metadata": {},
   "outputs": [
    {
     "data": {
      "text/plain": [
       "4"
      ]
     },
     "execution_count": 90,
     "metadata": {},
     "output_type": "execute_result"
    }
   ],
   "source": [
    "int(d)"
   ]
  },
  {
   "cell_type": "code",
   "execution_count": 91,
   "id": "62385c8b-c4c6-4a44-93a2-6f7905443a1a",
   "metadata": {},
   "outputs": [
    {
     "data": {
      "text/plain": [
       "int"
      ]
     },
     "execution_count": 91,
     "metadata": {},
     "output_type": "execute_result"
    }
   ],
   "source": [
    "type(4)"
   ]
  },
  {
   "cell_type": "code",
   "execution_count": 93,
   "id": "0d79a0b3-b75e-400d-884a-bd34b8427930",
   "metadata": {},
   "outputs": [
    {
     "data": {
      "text/plain": [
       "4"
      ]
     },
     "execution_count": 93,
     "metadata": {},
     "output_type": "execute_result"
    }
   ],
   "source": [
    "a\n"
   ]
  },
  {
   "cell_type": "code",
   "execution_count": 94,
   "id": "bace3cbc-8ac3-4220-b7d7-fb847ff35b80",
   "metadata": {},
   "outputs": [
    {
     "data": {
      "text/plain": [
       "'4'"
      ]
     },
     "execution_count": 94,
     "metadata": {},
     "output_type": "execute_result"
    }
   ],
   "source": [
    "d"
   ]
  },
  {
   "cell_type": "code",
   "execution_count": 95,
   "id": "f2cfdeb3-fc92-4d3d-b701-17d925c07b7f",
   "metadata": {},
   "outputs": [
    {
     "data": {
      "text/plain": [
       "4"
      ]
     },
     "execution_count": 95,
     "metadata": {},
     "output_type": "execute_result"
    }
   ],
   "source": [
    "int(d)\n"
   ]
  },
  {
   "cell_type": "code",
   "execution_count": 96,
   "id": "0430e425-213c-4166-9521-2c821a9bf04d",
   "metadata": {},
   "outputs": [],
   "source": [
    "d=int(d)"
   ]
  },
  {
   "cell_type": "code",
   "execution_count": 97,
   "id": "a39fba7e-16a2-469c-a970-5a2f6f9e065e",
   "metadata": {},
   "outputs": [
    {
     "data": {
      "text/plain": [
       "4"
      ]
     },
     "execution_count": 97,
     "metadata": {},
     "output_type": "execute_result"
    }
   ],
   "source": [
    "d\n"
   ]
  },
  {
   "cell_type": "code",
   "execution_count": 98,
   "id": "36e56ed3-0fa4-4e1f-8b81-7bb7f6d2a302",
   "metadata": {},
   "outputs": [
    {
     "data": {
      "text/plain": [
       "8"
      ]
     },
     "execution_count": 98,
     "metadata": {},
     "output_type": "execute_result"
    }
   ],
   "source": [
    "a+d"
   ]
  },
  {
   "cell_type": "code",
   "execution_count": 99,
   "id": "76e0ade6-9775-474b-a4da-36c468fa8abd",
   "metadata": {},
   "outputs": [
    {
     "data": {
      "text/plain": [
       "3.4"
      ]
     },
     "execution_count": 99,
     "metadata": {},
     "output_type": "execute_result"
    }
   ],
   "source": [
    "float(\"3.4\")"
   ]
  }
 ],
 "metadata": {
  "kernelspec": {
   "display_name": "Python 3 (ipykernel)",
   "language": "python",
   "name": "python3"
  },
  "language_info": {
   "codemirror_mode": {
    "name": "ipython",
    "version": 3
   },
   "file_extension": ".py",
   "mimetype": "text/x-python",
   "name": "python",
   "nbconvert_exporter": "python",
   "pygments_lexer": "ipython3",
   "version": "3.11.3"
  }
 },
 "nbformat": 4,
 "nbformat_minor": 5
}
