{
 "cells": [
  {
   "cell_type": "markdown",
   "id": "1d5d050e-3842-4f5c-bd24-f5da5af30f97",
   "metadata": {},
   "source": [
    "### Bayou Data\n",
    "##### By: Risdan Kristori\n",
    "##### Kursus Python Lengkap Berbahasa Indonesia"
   ]
  },
  {
   "attachments": {},
   "cell_type": "markdown",
   "id": "43b2d087-7396-4321-9b5c-64f8271d5ded",
   "metadata": {},
   "source": [
    "# Pernyataan Kondisional if-elif-else\n",
    "\n",
    "### Pernyataan kondisional digunakan untuk mengeksekusi kode python berdasarkan kondisi tertentu.\r\n"
   ]
  },
  {
   "cell_type": "markdown",
   "id": "3905af1a-927e-4a0d-b116-5ac256d6e1ff",
   "metadata": {},
   "source": [
    "## 1. Pernyataan **if**"
   ]
  },
  {
   "cell_type": "code",
   "execution_count": 2,
   "id": "1090e2b5-dd10-4648-aedf-91760f335d01",
   "metadata": {},
   "outputs": [],
   "source": [
    "kondisi = False\n",
    "if kondisi:\n",
    "    print(\"berhasil\")"
   ]
  },
  {
   "cell_type": "code",
   "execution_count": 4,
   "id": "f8cb72d8-6f13-403c-9f82-6243aedc67b3",
   "metadata": {},
   "outputs": [],
   "source": [
    "if 1>2:\n",
    "    print(\"benar\")"
   ]
  },
  {
   "cell_type": "code",
   "execution_count": 8,
   "id": "6694dd1b-65ee-4c48-acea-a4dd8687c792",
   "metadata": {},
   "outputs": [
    {
     "name": "stdout",
     "output_type": "stream",
     "text": [
      "100 adalah bilangan positif\n"
     ]
    }
   ],
   "source": [
    "x = 100\n",
    "if x>0:\n",
    "    print(f'{x} adalah bilangan positif')"
   ]
  },
  {
   "cell_type": "code",
   "execution_count": 13,
   "id": "4fd41e4d-ce86-4d55-8dca-2efce1fb5994",
   "metadata": {},
   "outputs": [
    {
     "name": "stdout",
     "output_type": "stream",
     "text": [
      "berhasil\n"
     ]
    }
   ],
   "source": [
    "if -1:\n",
    "    print(\"berhasil\")"
   ]
  },
  {
   "cell_type": "code",
   "execution_count": 14,
   "id": "5a0def14-3c09-4b15-bace-418b579b0d7f",
   "metadata": {},
   "outputs": [
    {
     "data": {
      "text/plain": [
       "True"
      ]
     },
     "execution_count": 14,
     "metadata": {},
     "output_type": "execute_result"
    }
   ],
   "source": [
    "bool(-1)"
   ]
  },
  {
   "cell_type": "markdown",
   "id": "a6268a96-c94d-4457-bd1e-ebc238f431b3",
   "metadata": {},
   "source": [
    "## 2. Pernyataan **if-elif**"
   ]
  },
  {
   "cell_type": "code",
   "execution_count": 18,
   "id": "de42d2fa-7c3b-4929-b089-67994639d955",
   "metadata": {},
   "outputs": [
    {
     "name": "stdout",
     "output_type": "stream",
     "text": [
      "berhasil2\n"
     ]
    }
   ],
   "source": [
    "kondisi1 = False\n",
    "kondisi2 = True\n",
    "if kondisi1:\n",
    "    print(\"berhasil\")\n",
    "elif kondisi2:\n",
    "    print(\"berhasil2\")"
   ]
  },
  {
   "cell_type": "code",
   "execution_count": 21,
   "id": "66bac0c3-d589-4c62-b76a-5b85d8a3546b",
   "metadata": {},
   "outputs": [],
   "source": [
    "x = -1\n",
    "if x>0:\n",
    "    print(f'{x} adalah bilangan positif')\n",
    "elif x==0:\n",
    "    print(f'{x} adalah bilangan nol')"
   ]
  },
  {
   "cell_type": "markdown",
   "id": "568bb55b-9595-424a-b6bc-55dee266749a",
   "metadata": {},
   "source": [
    "## 3. Pernyataan **if-else**"
   ]
  },
  {
   "cell_type": "code",
   "execution_count": 23,
   "id": "e82aad01-44b4-4e0d-b347-5f125efd8741",
   "metadata": {},
   "outputs": [
    {
     "name": "stdout",
     "output_type": "stream",
     "text": [
      "berhasil2\n"
     ]
    }
   ],
   "source": [
    "kondisi = False\n",
    "if kondisi:\n",
    "    print(\"berhasil\")\n",
    "else:\n",
    "    print(\"berhasil2\")"
   ]
  },
  {
   "cell_type": "code",
   "execution_count": 25,
   "id": "e5a09b35-1e20-4e92-aba6-44ee59eb0620",
   "metadata": {},
   "outputs": [
    {
     "name": "stdout",
     "output_type": "stream",
     "text": [
      "2 adalah bilangan positif\n"
     ]
    }
   ],
   "source": [
    "x = 2\n",
    "if x>0:\n",
    "    print(f'{x} adalah bilangan positif')\n",
    "else:\n",
    "    print(f'{x} adalah bilangan bukan positif')"
   ]
  },
  {
   "cell_type": "markdown",
   "id": "6baba0dc-abe0-4de4-87cb-ea4095d3118e",
   "metadata": {},
   "source": [
    "## 4. Pernyataan **if-elif-else**"
   ]
  },
  {
   "cell_type": "code",
   "execution_count": 29,
   "id": "4a3c01f9-93df-4d4e-b35a-d5f5e1636ddd",
   "metadata": {},
   "outputs": [
    {
     "name": "stdout",
     "output_type": "stream",
     "text": [
      "berhasil else\n"
     ]
    }
   ],
   "source": [
    "kondisi1 = False\n",
    "kondisi2 = False\n",
    "if kondisi1:\n",
    "    print(\"berhasil\")\n",
    "elif kondisi2:\n",
    "    print(\"berhasil2\")\n",
    "elif kondisi3:\n",
    "    print\n",
    "else:\n",
    "    print(\"berhasil else\")"
   ]
  },
  {
   "cell_type": "code",
   "execution_count": 32,
   "id": "685a5027-68df-469c-b8d5-b7167d4ef259",
   "metadata": {},
   "outputs": [
    {
     "name": "stdout",
     "output_type": "stream",
     "text": [
      "-1 adalah bilangan negatif\n"
     ]
    }
   ],
   "source": [
    "x = -1\n",
    "if x>0:\n",
    "    print(f'{x} adalah bilangan positif')\n",
    "elif x == 0:\n",
    "    print(f'{x} adalah bilangan nol')\n",
    "else:\n",
    "    print(f'{x} adalah bilangan negatif')"
   ]
  },
  {
   "cell_type": "markdown",
   "id": "b052f99f-35b7-4510-99fc-60c20cff860a",
   "metadata": {},
   "source": [
    "## 5. Pernyataan if di dalam if"
   ]
  },
  {
   "cell_type": "code",
   "execution_count": 36,
   "id": "90f9d7e5-038d-4d52-956b-6771f25439c3",
   "metadata": {},
   "outputs": [
    {
     "name": "stdout",
     "output_type": "stream",
     "text": [
      "11 adalah bilangan positif\n"
     ]
    }
   ],
   "source": [
    "x = 11\n",
    "if x>0:\n",
    "    print(f'{x} adalah bilangan positif')\n",
    "    if x<10:\n",
    "        print(f'{x} adalah bilangan positif antara 0-10')\n",
    "    elif\n",
    "elif x == 0:\n",
    "    print(f'{x} adalah bilangan nol')\n",
    "else:\n",
    "    print(f'{x} adalah bilangan negatif')"
   ]
  },
  {
   "cell_type": "markdown",
   "id": "44020014-3e48-4a67-a258-c1b59e99448f",
   "metadata": {},
   "source": [
    "## 6. Conditional Expression"
   ]
  },
  {
   "cell_type": "code",
   "execution_count": 37,
   "id": "5b2b1a0c-1301-4691-9e2f-c380140de93b",
   "metadata": {},
   "outputs": [
    {
     "name": "stdout",
     "output_type": "stream",
     "text": [
      "berhasil2\n"
     ]
    }
   ],
   "source": [
    "kondisi = False\n",
    "if kondisi:\n",
    "    print(\"berhasil\")\n",
    "else:\n",
    "    print(\"berhasil2\")"
   ]
  },
  {
   "cell_type": "code",
   "execution_count": 39,
   "id": "fcc64754-5e42-4c1b-9ea0-da4759a1015d",
   "metadata": {},
   "outputs": [
    {
     "name": "stdout",
     "output_type": "stream",
     "text": [
      "berhasil2\n"
     ]
    }
   ],
   "source": [
    "kondisi= False\n",
    "print(\"berhasil\") if kondisi else print(\"berhasil2\")"
   ]
  },
  {
   "cell_type": "code",
   "execution_count": null,
   "id": "383caca8-7950-4a2f-bf48-182920a0dca9",
   "metadata": {},
   "outputs": [],
   "source": []
  }
 ],
 "metadata": {
  "kernelspec": {
   "display_name": "Python 3 (ipykernel)",
   "language": "python",
   "name": "python3"
  },
  "language_info": {
   "codemirror_mode": {
    "name": "ipython",
    "version": 3
   },
   "file_extension": ".py",
   "mimetype": "text/x-python",
   "name": "python",
   "nbconvert_exporter": "python",
   "pygments_lexer": "ipython3",
   "version": "3.11.7"
  }
 },
 "nbformat": 4,
 "nbformat_minor": 5
}
