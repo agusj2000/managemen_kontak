{
 "cells": [
  {
   "cell_type": "markdown",
   "id": "7f8ca98b-3bce-43a3-873c-142d5d9b0b1b",
   "metadata": {},
   "source": [
    "### Bayou Data\n",
    "##### By: Risdan Kristori\n",
    "##### Kursus Python Lengkap Berbahasa Indonesia"
   ]
  },
  {
   "cell_type": "markdown",
   "id": "72f475d5-1243-4ee8-a942-077cc51c4835",
   "metadata": {},
   "source": [
    "# Fungsi Print()\n",
    "Fungsi print bertujuan untuk menampilkan output."
   ]
  },
  {
   "cell_type": "markdown",
   "id": "b43ec61c-608f-4b62-9ff2-7c9cca7d4ab0",
   "metadata": {},
   "source": [
    "- Contoh menggunakan fungsi print()"
   ]
  },
  {
   "cell_type": "code",
   "execution_count": 8,
   "id": "90cdc0e4-57f4-4034-beed-e0b2e7635089",
   "metadata": {},
   "outputs": [
    {
     "name": "stdout",
     "output_type": "stream",
     "text": [
      "Helo semua\n"
     ]
    }
   ],
   "source": [
    "print(\"Helo semua\")"
   ]
  },
  {
   "cell_type": "code",
   "execution_count": 11,
   "id": "232f6e49-927c-4983-af8e-550438bcc893",
   "metadata": {},
   "outputs": [
    {
     "name": "stdout",
     "output_type": "stream",
     "text": [
      "Helo semua\n",
      "Helo semua\n"
     ]
    }
   ],
   "source": [
    "print(\"Helo semua\")\n",
    "print(\"Helo semua\")"
   ]
  },
  {
   "cell_type": "markdown",
   "id": "3931511d-e634-4f75-9f67-6530a1000b1a",
   "metadata": {},
   "source": [
    "- Contoh menggunakan fungsi print() dengan escape characterter."
   ]
  },
  {
   "cell_type": "code",
   "execution_count": 13,
   "id": "8ae523fc-c13a-478a-adf5-408e2e06a174",
   "metadata": {},
   "outputs": [
    {
     "name": "stdout",
     "output_type": "stream",
     "text": [
      "Helo \n",
      "semua\n"
     ]
    }
   ],
   "source": [
    "print(\"Helo \\nsemua\")"
   ]
  },
  {
   "cell_type": "code",
   "execution_count": 14,
   "id": "ea577f4f-07e1-464f-8231-909067ab0756",
   "metadata": {},
   "outputs": [
    {
     "name": "stdout",
     "output_type": "stream",
     "text": [
      "Helo \tsemua\n"
     ]
    }
   ],
   "source": [
    "print(\"Helo \\tsemua\")"
   ]
  },
  {
   "cell_type": "markdown",
   "id": "dec6677b-e805-42e6-b526-8a73c4447bf8",
   "metadata": {},
   "source": [
    "# String Formatting\n",
    "\n",
    "Sting formatting adalah proses menggabungkan string dengan variabel atau nilai dengan format tertentu."
   ]
  },
  {
   "cell_type": "markdown",
   "id": "47c58505-4e0f-41f4-beb5-ce19c498cb32",
   "metadata": {},
   "source": [
    "## 1. Dengan menggunakan operator modulo (%)"
   ]
  },
  {
   "cell_type": "code",
   "execution_count": 2,
   "id": "56160c7b-c031-4c6d-b160-07b8f8e25004",
   "metadata": {},
   "outputs": [],
   "source": [
    "nama = \"Andi\"\n",
    "ipk = 3.1234567"
   ]
  },
  {
   "cell_type": "markdown",
   "id": "1b4eb0cd-3e62-479a-9aa8-6c14a3d2f1fc",
   "metadata": {},
   "source": [
    "### 1. Dengan menggunakan %s dan %r untuk string"
   ]
  },
  {
   "cell_type": "code",
   "execution_count": 3,
   "id": "d2028cd1-2e66-42a5-a375-eaf6e5ffa9ea",
   "metadata": {},
   "outputs": [
    {
     "name": "stdout",
     "output_type": "stream",
     "text": [
      "nama dia adalah Andi\n"
     ]
    }
   ],
   "source": [
    "print(\"nama dia adalah %s\"%(nama))"
   ]
  },
  {
   "cell_type": "code",
   "execution_count": 4,
   "id": "af6c7988-df7d-4f66-ab80-d9bca8ed67ac",
   "metadata": {},
   "outputs": [
    {
     "name": "stdout",
     "output_type": "stream",
     "text": [
      "nama dia adalah 'Andi'\n"
     ]
    }
   ],
   "source": [
    "print(\"nama dia adalah %r\"%(nama))"
   ]
  },
  {
   "cell_type": "markdown",
   "id": "86e5a277-d2c9-4bb2-9b56-8d29212a3b18",
   "metadata": {},
   "source": [
    "### 2. Dengan menggunakan %d untuk tipe data integer"
   ]
  },
  {
   "cell_type": "code",
   "execution_count": 5,
   "id": "c66225c5-6445-49e5-a202-1cb1676cc879",
   "metadata": {},
   "outputs": [
    {
     "name": "stdout",
     "output_type": "stream",
     "text": [
      "Andi memiliki nilai IPK 3\n"
     ]
    }
   ],
   "source": [
    "print(\"Andi memiliki nilai IPK %d\"%(ipk))"
   ]
  },
  {
   "cell_type": "code",
   "execution_count": 6,
   "id": "3f592ae1-8c24-4b61-a771-72e63e8213be",
   "metadata": {},
   "outputs": [
    {
     "name": "stdout",
     "output_type": "stream",
     "text": [
      "Andi memiliki nilai IPK 3\n"
     ]
    }
   ],
   "source": [
    "print(\"%s memiliki nilai IPK %d\"%(nama, ipk))"
   ]
  },
  {
   "cell_type": "markdown",
   "id": "ea089edc-301f-47bb-a4cd-3166eb777afe",
   "metadata": {},
   "source": [
    "### 3. Dengan menggunakan %width.precision f untuk tipe data float"
   ]
  },
  {
   "cell_type": "code",
   "execution_count": 7,
   "id": "98d4667c-1ff5-461f-a237-80e7531f56b4",
   "metadata": {},
   "outputs": [
    {
     "name": "stdout",
     "output_type": "stream",
     "text": [
      "Andi memiliki nilai IPK 3.123\n"
     ]
    }
   ],
   "source": [
    "print(\"%s memiliki nilai IPK %1.3f\"%(nama, ipk))"
   ]
  },
  {
   "cell_type": "code",
   "execution_count": 8,
   "id": "7a40eb1b-ae0e-437d-be05-ad0886d49b7a",
   "metadata": {},
   "outputs": [
    {
     "name": "stdout",
     "output_type": "stream",
     "text": [
      "Andi memiliki nilai IPK      3.123\n"
     ]
    }
   ],
   "source": [
    "print(\"%s memiliki nilai IPK %10.3f\"%(nama, ipk))"
   ]
  },
  {
   "cell_type": "markdown",
   "id": "76ef4961-11db-42f8-806d-23e2f18c906b",
   "metadata": {},
   "source": [
    "## 2. Dengan menggunakan .format()"
   ]
  },
  {
   "cell_type": "markdown",
   "id": "eaf06eec-90b4-4507-becb-bc7ff10c6030",
   "metadata": {},
   "source": [
    "### Contoh sintak:\n",
    "\"nilai ulangan Andi adalah {} dan Ani adalah {}\".format(nilai_andi, nilai_ani)"
   ]
  },
  {
   "cell_type": "code",
   "execution_count": 16,
   "id": "89885502-f2ca-45c1-ab06-c96fb7b125fe",
   "metadata": {},
   "outputs": [],
   "source": [
    "nilai_andi = 50.12345\n",
    "nilai_ani = 70"
   ]
  },
  {
   "cell_type": "code",
   "execution_count": 11,
   "id": "569750cb-ef08-461e-a71e-961c999588b8",
   "metadata": {},
   "outputs": [
    {
     "name": "stdout",
     "output_type": "stream",
     "text": [
      "nilai ulangan Andi adalah 50 dan Ani adalah 70\n"
     ]
    }
   ],
   "source": [
    "print(\"nilai ulangan Andi adalah {} dan Ani adalah {}\".format(nilai_andi, nilai_ani))"
   ]
  },
  {
   "cell_type": "markdown",
   "id": "ed0df3f7-b44f-4d4d-857c-a8f5067521bd",
   "metadata": {},
   "source": [
    "### 2.1 Dengan menggunakan index"
   ]
  },
  {
   "cell_type": "code",
   "execution_count": 12,
   "id": "ef7a2e51-f460-4a6a-948d-6062b49ec2a4",
   "metadata": {},
   "outputs": [
    {
     "name": "stdout",
     "output_type": "stream",
     "text": [
      "nilai ulangan Andi adalah 70 dan Ani adalah 50\n"
     ]
    }
   ],
   "source": [
    "print(\"nilai ulangan Andi adalah {1} dan Ani adalah {0}\".format(nilai_andi, nilai_ani))"
   ]
  },
  {
   "cell_type": "code",
   "execution_count": 13,
   "id": "3b9da009-0b86-4c19-be46-2a7d562cfb36",
   "metadata": {},
   "outputs": [
    {
     "name": "stdout",
     "output_type": "stream",
     "text": [
      "nilai ulangan Andi adalah 70 dan Ani adalah 70\n"
     ]
    }
   ],
   "source": [
    "print(\"nilai ulangan Andi adalah {1} dan Ani adalah {1}\".format(nilai_andi, nilai_ani))"
   ]
  },
  {
   "cell_type": "markdown",
   "id": "95bed80a-2b9f-4e59-9180-5cd68c90fe75",
   "metadata": {},
   "source": [
    "### 2.2 Dengan menggunakan keyword"
   ]
  },
  {
   "cell_type": "code",
   "execution_count": 14,
   "id": "fef13ed2-940f-41a0-ad06-77abbbafd85e",
   "metadata": {},
   "outputs": [
    {
     "name": "stdout",
     "output_type": "stream",
     "text": [
      "nilai ulangan Andi adalah 50 dan Ani adalah 50\n"
     ]
    }
   ],
   "source": [
    "print(\"nilai ulangan Andi adalah {a} dan Ani adalah {a}\".format(a = nilai_andi, b = nilai_ani))"
   ]
  },
  {
   "cell_type": "code",
   "execution_count": 15,
   "id": "d4ff75e8-04fc-45e3-9664-2f542f81ab5a",
   "metadata": {},
   "outputs": [
    {
     "name": "stdout",
     "output_type": "stream",
     "text": [
      "nilai ulangan Andi adalah 70 dan Ani adalah 70\n"
     ]
    }
   ],
   "source": [
    "print(\"nilai ulangan Andi adalah {b} dan Ani adalah {b}\".format(a = nilai_andi, b = nilai_ani))"
   ]
  },
  {
   "cell_type": "markdown",
   "id": "37740bca-7c0f-4c4d-bef7-c3210b5e4651",
   "metadata": {},
   "source": [
    "### 2.3 Dengan menggunakan sintak {value:width.precision f} untuk tipe data float"
   ]
  },
  {
   "cell_type": "code",
   "execution_count": 18,
   "id": "941b92d9-9ab6-4fc6-940a-6acf89e2089d",
   "metadata": {},
   "outputs": [
    {
     "name": "stdout",
     "output_type": "stream",
     "text": [
      "nilai ulangan Andi adalah 50.1 dan Ani adalah 70\n"
     ]
    }
   ],
   "source": [
    "print(\"nilai ulangan Andi adalah {a:3.1f} dan Ani adalah {b}\".format(a = nilai_andi, b = nilai_ani))"
   ]
  },
  {
   "cell_type": "markdown",
   "id": "910117f2-778b-461d-be64-eff6abb6acc6",
   "metadata": {},
   "source": [
    "## 3. Dengan metode f-string"
   ]
  },
  {
   "cell_type": "code",
   "execution_count": 19,
   "id": "a44a3a69-a531-492e-94e2-8b4620df4124",
   "metadata": {},
   "outputs": [],
   "source": [
    "nama = \"Andi\"\n",
    "ipk = 3.1234567"
   ]
  },
  {
   "cell_type": "markdown",
   "id": "36096b33-c0a6-4113-b542-6b592ee9d8b5",
   "metadata": {},
   "source": [
    "### 3.1 Dengan menggunakan variabel"
   ]
  },
  {
   "cell_type": "code",
   "execution_count": 20,
   "id": "f18648a7-3da9-4eca-8f83-bef0ebe4b51c",
   "metadata": {},
   "outputs": [
    {
     "name": "stdout",
     "output_type": "stream",
     "text": [
      "Andi memiliki nilai IPK 3.1234567\n"
     ]
    }
   ],
   "source": [
    "print(f'{nama} memiliki nilai IPK {ipk}')"
   ]
  },
  {
   "cell_type": "markdown",
   "id": "12aa7a8f-7eda-483b-98f8-c17c5e4d0322",
   "metadata": {},
   "source": [
    "### 3.2 Dengan menggunakan sintak {value:{width}.{precision}f} untuk tipe data float"
   ]
  },
  {
   "cell_type": "code",
   "execution_count": 22,
   "id": "895d2049-7f7a-4eb1-8c83-bbf27e31dfdd",
   "metadata": {},
   "outputs": [
    {
     "name": "stdout",
     "output_type": "stream",
     "text": [
      "Andi memiliki nilai IPK 3.123\n"
     ]
    }
   ],
   "source": [
    "print(f'{nama} memiliki nilai IPK {ipk:3.3f}')"
   ]
  },
  {
   "cell_type": "code",
   "execution_count": 23,
   "id": "1f9373e5-2d97-4cc8-a040-338675491705",
   "metadata": {},
   "outputs": [
    {
     "name": "stdout",
     "output_type": "stream",
     "text": [
      "Andi memiliki nilai IPK 3.12\n"
     ]
    }
   ],
   "source": [
    "print(f'{nama} memiliki nilai IPK {ipk:3.3}')"
   ]
  },
  {
   "cell_type": "code",
   "execution_count": null,
   "id": "6012141e-afec-44bb-8f92-596a0d429fbf",
   "metadata": {},
   "outputs": [],
   "source": []
  }
 ],
 "metadata": {
  "kernelspec": {
   "display_name": "Python 3 (ipykernel)",
   "language": "python",
   "name": "python3"
  },
  "language_info": {
   "codemirror_mode": {
    "name": "ipython",
    "version": 3
   },
   "file_extension": ".py",
   "mimetype": "text/x-python",
   "name": "python",
   "nbconvert_exporter": "python",
   "pygments_lexer": "ipython3",
   "version": "3.11.7"
  }
 },
 "nbformat": 4,
 "nbformat_minor": 5
}
