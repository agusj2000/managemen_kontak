{
 "cells": [
  {
   "cell_type": "markdown",
   "id": "6050464c-04d1-4b53-886d-4a2da368ccf8",
   "metadata": {},
   "source": [
    "### Bayou Data\n",
    "##### By: Risdan Kristori\n",
    "##### Kursus Python Lengkap Berbahasa Indonesia"
   ]
  },
  {
   "cell_type": "markdown",
   "id": "b6d7754d-9a8b-44bc-8593-6dbf54dbddf2",
   "metadata": {},
   "source": [
    "# Dasar Fungsi Bagian 1"
   ]
  },
  {
   "cell_type": "markdown",
   "id": "2aa19486-f7f3-4025-8a1f-00055cfaa665",
   "metadata": {},
   "source": [
    "## 1. Membuat Fungsi Python\n",
    "\n",
    "### Fungsi python dibuat dengan menggunakan keyword **def**"
   ]
  },
  {
   "cell_type": "code",
   "execution_count": 14,
   "id": "19ae6b9f-8fb4-4660-90fb-db1c05f2984d",
   "metadata": {},
   "outputs": [],
   "source": [
    "def halo():\n",
    "    print(\"hei\")"
   ]
  },
  {
   "cell_type": "markdown",
   "id": "05055336-af69-4d87-ac14-4004a158a61a",
   "metadata": {},
   "source": [
    "## 2. Memanggil Fungsi Python"
   ]
  },
  {
   "cell_type": "code",
   "execution_count": 2,
   "id": "17a4cae4-e9b6-46e7-8284-65f56a0839da",
   "metadata": {},
   "outputs": [
    {
     "name": "stdout",
     "output_type": "stream",
     "text": [
      "hei\n"
     ]
    }
   ],
   "source": [
    "halo()"
   ]
  },
  {
   "cell_type": "code",
   "execution_count": 4,
   "id": "d2b63d7c-47f1-46b3-bece-fc815d6dc724",
   "metadata": {},
   "outputs": [
    {
     "data": {
      "text/plain": [
       "<function __main__.halo()>"
      ]
     },
     "execution_count": 4,
     "metadata": {},
     "output_type": "execute_result"
    }
   ],
   "source": [
    "halo"
   ]
  },
  {
   "cell_type": "code",
   "execution_count": 5,
   "id": "cc950532-5460-45b1-8628-e75914a024f2",
   "metadata": {},
   "outputs": [
    {
     "name": "stdout",
     "output_type": "stream",
     "text": [
      "hei\n",
      "hei\n",
      "hei\n"
     ]
    }
   ],
   "source": [
    "halo()\n",
    "halo()\n",
    "halo()"
   ]
  },
  {
   "cell_type": "markdown",
   "id": "11eb8170-b967-475c-8916-46e1fcd24398",
   "metadata": {},
   "source": [
    "## 3. Mengenal Pernyataan **return**"
   ]
  },
  {
   "cell_type": "markdown",
   "id": "6706fa53-0fe7-49b1-887a-3822fc24a865",
   "metadata": {},
   "source": [
    "### **Return** digunakan untuk mengembalikan/mengeluarkan nilai dari fungsi."
   ]
  },
  {
   "cell_type": "code",
   "execution_count": 8,
   "id": "d2741350-f8bb-4a84-81e9-6c374deed05a",
   "metadata": {},
   "outputs": [],
   "source": [
    "def halo2():\n",
    "    return \"hei\""
   ]
  },
  {
   "cell_type": "code",
   "execution_count": 9,
   "id": "ae816827-7103-44fd-8387-364cd72bba6a",
   "metadata": {},
   "outputs": [
    {
     "data": {
      "text/plain": [
       "'hei'"
      ]
     },
     "execution_count": 9,
     "metadata": {},
     "output_type": "execute_result"
    }
   ],
   "source": [
    "halo2()"
   ]
  },
  {
   "cell_type": "code",
   "execution_count": 15,
   "id": "04f4328e-dfd1-4cfc-83f2-fd0b03f488b7",
   "metadata": {},
   "outputs": [],
   "source": [
    "var = halo2()"
   ]
  },
  {
   "cell_type": "code",
   "execution_count": 16,
   "id": "84ba33eb-8ebf-4116-83d7-424ae24078bc",
   "metadata": {},
   "outputs": [
    {
     "data": {
      "text/plain": [
       "'hei'"
      ]
     },
     "execution_count": 16,
     "metadata": {},
     "output_type": "execute_result"
    }
   ],
   "source": [
    "var"
   ]
  },
  {
   "cell_type": "code",
   "execution_count": 17,
   "id": "a4a1da78-f530-4550-add2-7f799f917e73",
   "metadata": {},
   "outputs": [
    {
     "name": "stdout",
     "output_type": "stream",
     "text": [
      "hei\n"
     ]
    }
   ],
   "source": [
    "var2 = halo()"
   ]
  },
  {
   "cell_type": "code",
   "execution_count": 18,
   "id": "79d38fd1-7da4-4715-a5de-8d85c93619b2",
   "metadata": {},
   "outputs": [],
   "source": [
    "var2"
   ]
  },
  {
   "cell_type": "code",
   "execution_count": 19,
   "id": "ec4f6ba0-9cc8-44ee-b34a-69c149fe714b",
   "metadata": {},
   "outputs": [],
   "source": [
    "def angka():\n",
    "    return 10"
   ]
  },
  {
   "cell_type": "code",
   "execution_count": 20,
   "id": "4b608160-4052-45a9-ae44-d564e9d68c5a",
   "metadata": {},
   "outputs": [
    {
     "data": {
      "text/plain": [
       "50"
      ]
     },
     "execution_count": 20,
     "metadata": {},
     "output_type": "execute_result"
    }
   ],
   "source": [
    "5*angka()"
   ]
  },
  {
   "cell_type": "markdown",
   "id": "6950ffdf-0bd1-41df-835e-fc8e5ca70dc6",
   "metadata": {},
   "source": [
    "## 4. Dokumentasi Fungsi (Docstring)\n",
    "\n",
    "### Dokumentasi fungsi berisi penjelasan tujuan fungsi, parameter dan hal-hal lain yang berkaitan dengan fungsi tersebut. Dokumentasi ini bertujuan untuk memudahkan orang lain dalam menggunakan fungsi yang kita buat."
   ]
  },
  {
   "cell_type": "code",
   "execution_count": 22,
   "id": "c0610f9e-03c7-4092-94b0-7aa9197dd4f8",
   "metadata": {},
   "outputs": [],
   "source": [
    "def halo():\n",
    "    \"\"\"Fungsi ini digunakan untuk menyapa hai\n",
    "    fasgasgeeeg\n",
    "    \"\"\"\n",
    "    \n",
    "    print(\"hei\")"
   ]
  },
  {
   "cell_type": "code",
   "execution_count": 23,
   "id": "cd0a109b-de24-418d-b76c-868c0ce7be3c",
   "metadata": {},
   "outputs": [
    {
     "name": "stdout",
     "output_type": "stream",
     "text": [
      "hei\n"
     ]
    }
   ],
   "source": [
    "halo()"
   ]
  },
  {
   "cell_type": "code",
   "execution_count": 24,
   "id": "8ac61885-00fe-40f4-ac19-e33d26d84d38",
   "metadata": {},
   "outputs": [
    {
     "name": "stdout",
     "output_type": "stream",
     "text": [
      "Help on function halo in module __main__:\n",
      "\n",
      "halo()\n",
      "    Fungsi ini digunakan untuk menyapa hai\n",
      "    fasgasgeeeg\n",
      "\n"
     ]
    }
   ],
   "source": [
    "help(halo)"
   ]
  },
  {
   "cell_type": "code",
   "execution_count": null,
   "id": "4008c906-f23f-49d3-9f6f-c15303e85f0c",
   "metadata": {},
   "outputs": [],
   "source": [
    "halo()"
   ]
  }
 ],
 "metadata": {
  "kernelspec": {
   "display_name": "Python 3 (ipykernel)",
   "language": "python",
   "name": "python3"
  },
  "language_info": {
   "codemirror_mode": {
    "name": "ipython",
    "version": 3
   },
   "file_extension": ".py",
   "mimetype": "text/x-python",
   "name": "python",
   "nbconvert_exporter": "python",
   "pygments_lexer": "ipython3",
   "version": "3.11.7"
  }
 },
 "nbformat": 4,
 "nbformat_minor": 5
}
