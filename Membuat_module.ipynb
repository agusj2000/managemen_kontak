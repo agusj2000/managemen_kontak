{
 "cells": [
  {
   "cell_type": "code",
   "execution_count": 6,
   "id": "9f6d7195-f19c-46fc-a28f-2f4426740cf2",
   "metadata": {},
   "outputs": [],
   "source": [
    "import sapa"
   ]
  },
  {
   "cell_type": "code",
   "execution_count": 8,
   "id": "e4d36507-b332-48d3-a39d-564bfeb64f97",
   "metadata": {},
   "outputs": [
    {
     "data": {
      "text/plain": [
       "'ini adalah module sapa.py via jupyter'"
      ]
     },
     "execution_count": 8,
     "metadata": {},
     "output_type": "execute_result"
    }
   ],
   "source": [
    "sapa.info"
   ]
  },
  {
   "cell_type": "code",
   "execution_count": 9,
   "id": "50b62b8a-bf91-48c7-bfe7-57892aa7d087",
   "metadata": {},
   "outputs": [
    {
     "name": "stdout",
     "output_type": "stream",
     "text": [
      "Halo Andi\n"
     ]
    }
   ],
   "source": [
    "sapa.sapa_nama(\"Andi\")"
   ]
  },
  {
   "cell_type": "code",
   "execution_count": 11,
   "id": "309443e1-9a4c-4fec-b0a1-5658edb44b38",
   "metadata": {},
   "outputs": [
    {
     "data": {
      "text/plain": [
       "'ini adalah module sapa.py via jupyter'"
      ]
     },
     "execution_count": 11,
     "metadata": {},
     "output_type": "execute_result"
    }
   ],
   "source": [
    "sapa.info"
   ]
  },
  {
   "cell_type": "code",
   "execution_count": 16,
   "id": "4f3db492-5761-41e0-bae0-376d241b5f0e",
   "metadata": {},
   "outputs": [],
   "source": [
    "from sapa import info, sapa_nama"
   ]
  },
  {
   "cell_type": "code",
   "execution_count": 14,
   "id": "ad675595-9871-43a5-a636-67e7560bed80",
   "metadata": {},
   "outputs": [
    {
     "data": {
      "text/plain": [
       "'ini adalah module sapa.py via jupyter'"
      ]
     },
     "execution_count": 14,
     "metadata": {},
     "output_type": "execute_result"
    }
   ],
   "source": [
    "info"
   ]
  },
  {
   "cell_type": "code",
   "execution_count": 17,
   "id": "259b0a71-7da0-439e-81b6-29a862a5f281",
   "metadata": {},
   "outputs": [
    {
     "name": "stdout",
     "output_type": "stream",
     "text": [
      "Halo Andi OK\n"
     ]
    }
   ],
   "source": [
    "sapa_nama(\"Andi OK\")"
   ]
  },
  {
   "cell_type": "code",
   "execution_count": null,
   "id": "7865eb8e-eb98-4cbf-8171-bc16f1dfb398",
   "metadata": {},
   "outputs": [],
   "source": []
  }
 ],
 "metadata": {
  "kernelspec": {
   "display_name": "Python 3 (ipykernel)",
   "language": "python",
   "name": "python3"
  },
  "language_info": {
   "codemirror_mode": {
    "name": "ipython",
    "version": 3
   },
   "file_extension": ".py",
   "mimetype": "text/x-python",
   "name": "python",
   "nbconvert_exporter": "python",
   "pygments_lexer": "ipython3",
   "version": "3.11.3"
  }
 },
 "nbformat": 4,
 "nbformat_minor": 5
}
