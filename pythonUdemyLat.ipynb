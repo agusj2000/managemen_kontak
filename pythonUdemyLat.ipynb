{
 "cells": [
  {
   "cell_type": "markdown",
   "id": "c5465f82-c606-4d2c-a405-13fbab29db6d",
   "metadata": {},
   "source": [
    "Fungsi Python- def"
   ]
  },
  {
   "cell_type": "code",
   "execution_count": 2,
   "id": "dd8b66d7-44bf-46a8-bf95-8729a566e0a3",
   "metadata": {},
   "outputs": [],
   "source": [
    "def halo():\n",
    "    print(\"hi\")\n",
    "    "
   ]
  },
  {
   "cell_type": "code",
   "execution_count": 3,
   "id": "a3fad515-e6d2-482d-9045-29b5d5302269",
   "metadata": {},
   "outputs": [
    {
     "name": "stdout",
     "output_type": "stream",
     "text": [
      "hi\n"
     ]
    }
   ],
   "source": [
    "halo()"
   ]
  },
  {
   "cell_type": "code",
   "execution_count": 4,
   "id": "9e5f855d-af84-442c-a87c-6b512a4e7cc2",
   "metadata": {},
   "outputs": [],
   "source": [
    "def hello2():\n",
    "    return \"hei\""
   ]
  },
  {
   "cell_type": "code",
   "execution_count": 6,
   "id": "c8661ad1-5a6d-4608-a936-756ca0dbf70f",
   "metadata": {},
   "outputs": [
    {
     "data": {
      "text/plain": [
       "'hei'"
      ]
     },
     "execution_count": 6,
     "metadata": {},
     "output_type": "execute_result"
    }
   ],
   "source": [
    "hello2()"
   ]
  },
  {
   "cell_type": "code",
   "execution_count": 9,
   "id": "079bdb6f-d489-4235-8d34-97de83b09c54",
   "metadata": {},
   "outputs": [],
   "source": [
    "def angka():\n",
    "    \"\"\"contoh penggunaan docstringg\"\"\"\n",
    "    return 30"
   ]
  },
  {
   "cell_type": "code",
   "execution_count": 8,
   "id": "5f0824a4-7ddc-4908-8f11-45361f56c3da",
   "metadata": {},
   "outputs": [
    {
     "data": {
      "text/plain": [
       "210"
      ]
     },
     "execution_count": 8,
     "metadata": {},
     "output_type": "execute_result"
    }
   ],
   "source": [
    "7*angka()"
   ]
  },
  {
   "cell_type": "code",
   "execution_count": 14,
   "id": "be2aae68-91f3-4a52-b0d2-d643842635cc",
   "metadata": {},
   "outputs": [],
   "source": [
    "def halo():\n",
    "    \"\"\" Test Docstring MATAPPPP\n",
    "    \"\"\"\n",
    "    print(\"hei\")"
   ]
  },
  {
   "cell_type": "code",
   "execution_count": 12,
   "id": "049a7bfb-0359-4bbf-b317-26f184880757",
   "metadata": {},
   "outputs": [
    {
     "name": "stdout",
     "output_type": "stream",
     "text": [
      "hei\n"
     ]
    }
   ],
   "source": [
    "halo()"
   ]
  },
  {
   "cell_type": "markdown",
   "id": "f6d7a8f5-2713-4e50-a03d-63651eacbaab",
   "metadata": {},
   "source": [
    "Dasar\" Fungsi "
   ]
  },
  {
   "cell_type": "code",
   "execution_count": 17,
   "id": "deb3f644-b533-4faf-a1af-0d4f359c155f",
   "metadata": {},
   "outputs": [],
   "source": [
    "def halo(nama):\n",
    "    print(f'hi {nama}')"
   ]
  },
  {
   "cell_type": "code",
   "execution_count": 18,
   "id": "0c19a8bf-efb9-4c3c-9563-2ed978e9b571",
   "metadata": {},
   "outputs": [
    {
     "name": "stdout",
     "output_type": "stream",
     "text": [
      "hi Joko\n"
     ]
    }
   ],
   "source": [
    "halo(nama =\"Joko\")"
   ]
  },
  {
   "cell_type": "code",
   "execution_count": 28,
   "id": "d73bf52c-9227-41d9-abf1-be67fa85fa3c",
   "metadata": {},
   "outputs": [],
   "source": [
    "def halo(nama):\n",
    "    print(f'hi {nama}')"
   ]
  },
  {
   "cell_type": "code",
   "execution_count": 29,
   "id": "2921a72c-0b7b-43ff-8308-1f08f0485a24",
   "metadata": {},
   "outputs": [],
   "source": [
    "def halo(nama, nama2):\n",
    "    print(f'hi {nama} dan {nama2}')"
   ]
  },
  {
   "cell_type": "code",
   "execution_count": 33,
   "id": "83783fff-a21f-4fe0-ba2e-44b644b63323",
   "metadata": {},
   "outputs": [
    {
     "name": "stdout",
     "output_type": "stream",
     "text": [
      "hi selamat dan Susi\n"
     ]
    }
   ],
   "source": [
    "halo(nama = \"selamat\", nama2 =\"Susi\")\n"
   ]
  },
  {
   "cell_type": "code",
   "execution_count": 35,
   "id": "dd7f8bab-1cb8-4ff8-b789-4ef2972adfc1",
   "metadata": {},
   "outputs": [],
   "source": [
    "def luas_persegi(sisi):\n",
    "    luas = sisi*sisi\n",
    "    print(f'luas persegi dengan sisi {sisi} adalah {luas}')"
   ]
  },
  {
   "cell_type": "code",
   "execution_count": 38,
   "id": "6e359182-ce39-4eaf-952b-b47d3cdce411",
   "metadata": {},
   "outputs": [
    {
     "name": "stdout",
     "output_type": "stream",
     "text": [
      "luas persegi dengan sisi 4 adalah 16\n",
      "luas persegi dengan sisi 8 adalah 64\n",
      "luas persegi dengan sisi 41 adalah 1681\n"
     ]
    }
   ],
   "source": [
    "luas_persegi(4)\n",
    "luas_persegi(8)\n",
    "luas_persegi(41)"
   ]
  },
  {
   "cell_type": "code",
   "execution_count": 40,
   "id": "f1696010-1772-47af-92bc-6eb288dcd0f5",
   "metadata": {},
   "outputs": [],
   "source": [
    "def luas_persegi2(sisi):\n",
    "    luas = sisi*sisi\n",
    "    return luas\n",
    "    "
   ]
  },
  {
   "cell_type": "code",
   "execution_count": 42,
   "id": "26eed96e-d5aa-4ce7-b99e-bc9b11c5c319",
   "metadata": {},
   "outputs": [
    {
     "data": {
      "text/plain": [
       "64"
      ]
     },
     "execution_count": 42,
     "metadata": {},
     "output_type": "execute_result"
    }
   ],
   "source": [
    "luas_persegi2(8)"
   ]
  },
  {
   "cell_type": "code",
   "execution_count": 43,
   "id": "eb343fcc-9cc9-4564-8e93-ec191f6b9331",
   "metadata": {},
   "outputs": [],
   "source": [
    "var = luas_persegi2(8)"
   ]
  },
  {
   "cell_type": "code",
   "execution_count": 44,
   "id": "038f6f5f-5c90-4a22-a4c4-2095c07a2274",
   "metadata": {},
   "outputs": [
    {
     "data": {
      "text/plain": [
       "64"
      ]
     },
     "execution_count": 44,
     "metadata": {},
     "output_type": "execute_result"
    }
   ],
   "source": [
    "var"
   ]
  },
  {
   "cell_type": "code",
   "execution_count": 45,
   "id": "89171d8f-6dc9-484c-abd5-eec1fb1b1283",
   "metadata": {},
   "outputs": [],
   "source": [
    "var = luas_persegi2(8)\n",
    "var2 = luas_persegi2(18)"
   ]
  },
  {
   "cell_type": "code",
   "execution_count": 49,
   "id": "9718028f-a744-468a-ac6f-d52561418392",
   "metadata": {},
   "outputs": [
    {
     "name": "stdout",
     "output_type": "stream",
     "text": [
      "64\n",
      "324\n"
     ]
    }
   ],
   "source": [
    "print(var)\n",
    "print(var2)"
   ]
  },
  {
   "cell_type": "code",
   "execution_count": 53,
   "id": "6701c553-c951-4665-b549-8ccfd89b2609",
   "metadata": {},
   "outputs": [],
   "source": [
    "def luas_persegi2(sisi = 0):\n",
    "    luas = sisi*sisi\n",
    "    return luas\n",
    "    "
   ]
  },
  {
   "cell_type": "code",
   "execution_count": 54,
   "id": "0422089c-4f5f-4f76-9891-5c876ce76678",
   "metadata": {},
   "outputs": [
    {
     "data": {
      "text/plain": [
       "0"
      ]
     },
     "execution_count": 54,
     "metadata": {},
     "output_type": "execute_result"
    }
   ],
   "source": [
    "luas_persegi2()"
   ]
  },
  {
   "cell_type": "code",
   "execution_count": 55,
   "id": "cec0c36b-d53e-4f4a-9620-7c0c08240393",
   "metadata": {},
   "outputs": [
    {
     "data": {
      "text/plain": [
       "49"
      ]
     },
     "execution_count": 55,
     "metadata": {},
     "output_type": "execute_result"
    }
   ],
   "source": [
    "luas_persegi2(7)"
   ]
  },
  {
   "cell_type": "code",
   "execution_count": 56,
   "id": "ecbcb40e-8ffd-4b0b-96a8-319bf4ab4ba9",
   "metadata": {},
   "outputs": [],
   "source": [
    "def halo(nama = \"Baelum ada nama\"):\n",
    "    print(f'hi {nama}')"
   ]
  },
  {
   "cell_type": "code",
   "execution_count": 57,
   "id": "ea914185-fb63-4799-9355-ea3937d4ff57",
   "metadata": {},
   "outputs": [
    {
     "name": "stdout",
     "output_type": "stream",
     "text": [
      "hi jeki\n"
     ]
    }
   ],
   "source": [
    "halo(\"jeki\")"
   ]
  },
  {
   "cell_type": "code",
   "execution_count": 58,
   "id": "84fe4152-77d4-4d8c-bae8-53b5009f66eb",
   "metadata": {},
   "outputs": [
    {
     "name": "stdout",
     "output_type": "stream",
     "text": [
      "hi Baelum ada nama\n"
     ]
    }
   ],
   "source": [
    "halo()"
   ]
  },
  {
   "cell_type": "markdown",
   "id": "a00c8bbd-469c-456b-a961-ed8820df589d",
   "metadata": {},
   "source": [
    "Fungsi Operator"
   ]
  },
  {
   "cell_type": "code",
   "execution_count": 1,
   "id": "60fca9fd-c23c-4428-9eed-3a2ef90abe62",
   "metadata": {},
   "outputs": [],
   "source": [
    "def apakah_genap(angka):\n",
    "    hasil = angka%2==0\n",
    "    return hasil"
   ]
  },
  {
   "cell_type": "code",
   "execution_count": 3,
   "id": "7cb2c551-5390-4510-baa6-d16fc011e8a9",
   "metadata": {},
   "outputs": [
    {
     "data": {
      "text/plain": [
       "True"
      ]
     },
     "execution_count": 3,
     "metadata": {},
     "output_type": "execute_result"
    }
   ],
   "source": [
    "apakah_genap(8)"
   ]
  },
  {
   "cell_type": "code",
   "execution_count": 4,
   "id": "7a3f1e9a-a780-4c68-919c-c83e6ce88438",
   "metadata": {},
   "outputs": [],
   "source": [
    "def apakah_genap(angka):\n",
    "    return angka%2==0"
   ]
  },
  {
   "cell_type": "code",
   "execution_count": 5,
   "id": "0c270725-5100-4b5d-82f7-79f8dfb4a472",
   "metadata": {},
   "outputs": [
    {
     "data": {
      "text/plain": [
       "True"
      ]
     },
     "execution_count": 5,
     "metadata": {},
     "output_type": "execute_result"
    }
   ],
   "source": [
    "apakah_genap(8)"
   ]
  },
  {
   "cell_type": "code",
   "execution_count": 8,
   "id": "e5d9ed48-05cf-4004-a9ab-d9c9c73c1071",
   "metadata": {},
   "outputs": [],
   "source": [
    "def bisa_membuat_sim(umur):\n",
    "    return umur>=17"
   ]
  },
  {
   "cell_type": "code",
   "execution_count": 10,
   "id": "6a880e65-8d92-47f1-b7a5-08803f2390d9",
   "metadata": {},
   "outputs": [
    {
     "data": {
      "text/plain": [
       "False"
      ]
     },
     "execution_count": 10,
     "metadata": {},
     "output_type": "execute_result"
    }
   ],
   "source": [
    "bisa_membuat_sim(10)"
   ]
  },
  {
   "cell_type": "markdown",
   "id": "ae529d6f-f143-4425-ac82-e08be4073406",
   "metadata": {},
   "source": [
    "PERNYATAAN KONDISIONAL"
   ]
  },
  {
   "cell_type": "code",
   "execution_count": 11,
   "id": "a7dc9288-8b9c-4712-be82-e31952400b0d",
   "metadata": {},
   "outputs": [],
   "source": [
    "def ganjil_genap (angka):\n",
    "    if angka%2==0:\n",
    "        print(f'{angka} adalah bilangan genap')\n",
    "    else:\n",
    "        print(f'{angka} adalah bilangan ganjil')\n",
    "    "
   ]
  },
  {
   "cell_type": "code",
   "execution_count": 14,
   "id": "2063e541-56d3-4406-9e1f-d2b7f1888fa7",
   "metadata": {},
   "outputs": [
    {
     "name": "stdout",
     "output_type": "stream",
     "text": [
      "13 adalah bilangan ganjil\n"
     ]
    }
   ],
   "source": [
    "ganjil_genap (13)"
   ]
  },
  {
   "cell_type": "code",
   "execution_count": 15,
   "id": "213d2708-c77b-464b-9e21-1ac0688012d6",
   "metadata": {},
   "outputs": [],
   "source": [
    "def gaji_baru(gaji_lama, performa):\n",
    "    gaji_sekarang = 0\n",
    "    if performa >= 8:\n",
    "        gaji_sekarang = gaji_lama*1.07 #naik7%\n",
    "    elif performa >= 6:\n",
    "        gaji_sekarang = gaji_lama*1.04\n",
    "    else:\n",
    "        gaji_sekarang = gaji_lama\n",
    "    return gaji_sekarang\n",
    "    \n"
   ]
  },
  {
   "cell_type": "code",
   "execution_count": 18,
   "id": "67b6a584-089f-4450-9cac-5e1642542a8b",
   "metadata": {},
   "outputs": [
    {
     "data": {
      "text/plain": [
       "10400000.0"
      ]
     },
     "execution_count": 18,
     "metadata": {},
     "output_type": "execute_result"
    }
   ],
   "source": [
    "gaji_baru(10000000, 7)"
   ]
  },
  {
   "cell_type": "markdown",
   "id": "a143986d-bccd-4820-975a-29498f514356",
   "metadata": {},
   "source": [
    "FUNGSI DALAM PENGULANGAN"
   ]
  },
  {
   "cell_type": "code",
   "execution_count": 31,
   "id": "afd5d5d5-d057-4e33-bce7-9cd336c9d07b",
   "metadata": {},
   "outputs": [],
   "source": [
    "def hitung_vocal(var):\n",
    "    total = 0\n",
    "    for item in var:\n",
    "        if item in 'aiueoAIUEO':\n",
    "            total += 1\n",
    "    return total"
   ]
  },
  {
   "cell_type": "code",
   "execution_count": 33,
   "id": "7c6d7380-f7bf-4d08-9125-9dcd187eea3a",
   "metadata": {},
   "outputs": [
    {
     "data": {
      "text/plain": [
       "2"
      ]
     },
     "execution_count": 33,
     "metadata": {},
     "output_type": "execute_result"
    }
   ],
   "source": [
    "hitung_vocal('mantap')"
   ]
  },
  {
   "cell_type": "markdown",
   "id": "b173e56c-b508-4273-a5d3-f7d009387df0",
   "metadata": {},
   "source": [
    "|FUNGSI didalam FUNGSI"
   ]
  },
  {
   "cell_type": "code",
   "execution_count": 35,
   "id": "baa70fc8-f605-4b1a-8fe9-a2fe58599c2a",
   "metadata": {},
   "outputs": [],
   "source": [
    "def luas_persegipanjang(p, l):\n",
    "\n",
    "    def cek_p(p):\n",
    "        return p>0\n",
    "    def cek_l(l):\n",
    "        return l>0\n",
    "\n",
    "    if cek_p(p) and cek_l(l):\n",
    "        return p*l\n",
    "    else:\n",
    "        print(\"panjang atau lebar yang dimasukkan salah!\")\n",
    "    "
   ]
  },
  {
   "cell_type": "code",
   "execution_count": 37,
   "id": "1842dfa1-3344-437b-931d-31b24fc2314a",
   "metadata": {},
   "outputs": [
    {
     "name": "stdout",
     "output_type": "stream",
     "text": [
      "panjang atau lebar yang dimasukkan salah!\n"
     ]
    }
   ],
   "source": [
    "luas_persegipanjang(0, 7)"
   ]
  },
  {
   "cell_type": "markdown",
   "id": "5d09df67-796a-4794-a5ee-8405b4121ed0",
   "metadata": {},
   "source": [
    "    FUNGSI REKURSIF\n",
    "    "
   ]
  },
  {
   "cell_type": "code",
   "execution_count": 44,
   "id": "215c48b1-952c-443d-a9a2-2bb3083f1600",
   "metadata": {},
   "outputs": [],
   "source": [
    "def factorial(num):\n",
    "    if num == 0:\n",
    "        return 1\n",
    "    else:\n",
    "        return num*factorial(num-1)                  \n"
   ]
  },
  {
   "cell_type": "code",
   "execution_count": null,
   "id": "437ac99e-8050-491b-b800-df6e0a8c8974",
   "metadata": {},
   "outputs": [],
   "source": [
    "factorial(4)"
   ]
  },
  {
   "cell_type": "markdown",
   "id": "13b48e12-7525-4ce9-8cd9-57df7adbfa6f",
   "metadata": {},
   "source": [
    "INTERAKSI ANTAR FUNGSI"
   ]
  },
  {
   "cell_type": "code",
   "execution_count": 7,
   "id": "4e03160e-2ec7-48c8-8c0a-9fcfcf6b2510",
   "metadata": {},
   "outputs": [],
   "source": [
    "def tambah_agenda(agenda, agenda_baru):\n",
    "    agenda.append(agenda_baru)\n",
    "    print(\"Agenda sudah ditambahkan\")"
   ]
  },
  {
   "cell_type": "code",
   "execution_count": 8,
   "id": "0b73ccaa-977d-4de1-bfa9-74e21f88f22a",
   "metadata": {},
   "outputs": [],
   "source": [
    "def lihat_agenda(agenda):\n",
    "    print(\"Daftar Agendaku\")\n",
    "    for index, item in enumerate(agenda):\n",
    "        print(f'{index+1}.{item}')"
   ]
  },
  {
   "cell_type": "code",
   "execution_count": 10,
   "id": "fc7b5f93-bb82-438d-ac66-8305a1f4c9f8",
   "metadata": {},
   "outputs": [],
   "source": [
    "def main():\n",
    "    agenda = []\n",
    "\n",
    "    while True:\n",
    "        print(\"Agendaku\")\n",
    "        print(\"1. Menambah Agenda\")\n",
    "        print(\"2. Melihat Agenda\")\n",
    "        print(\"3. Keluar Agenda\")\n",
    "    \n",
    "        pilihan = input(\"Masukkan Pilihan: \")\n",
    "        if pilihan == '1':\n",
    "            agenda_baru = input(\"Masukkan agenda baru: \")\n",
    "            tambah_agenda(agenda, agenda_baru)\n",
    "        elif pilihan == '2':\n",
    "            lihat_agenda(agenda)\n",
    "        elif pilihan == '3':\n",
    "            break\n",
    "        else:\n",
    "            print(\"Pilihan anda salah, Masukkan pilihan yang tepat (1,2, atau 3)\")\n",
    "        \n",
    "    print(\"Keluar dari agenda\")\n"
   ]
  },
  {
   "cell_type": "code",
   "execution_count": 12,
   "id": "1f65ec16-ef26-43ef-b539-09760826db83",
   "metadata": {},
   "outputs": [
    {
     "name": "stdout",
     "output_type": "stream",
     "text": [
      "Agendaku\n",
      "1. Menambah Agenda\n",
      "2. Melihat Agenda\n",
      "3. Keluar Agenda\n"
     ]
    },
    {
     "name": "stdin",
     "output_type": "stream",
     "text": [
      "Masukkan Pilihan:  2\n"
     ]
    },
    {
     "name": "stdout",
     "output_type": "stream",
     "text": [
      "Daftar Agendaku\n",
      "Agendaku\n",
      "1. Menambah Agenda\n",
      "2. Melihat Agenda\n",
      "3. Keluar Agenda\n"
     ]
    },
    {
     "name": "stdin",
     "output_type": "stream",
     "text": [
      "Masukkan Pilihan:  1\n",
      "Masukkan agenda baru:  Berlari\n"
     ]
    },
    {
     "name": "stdout",
     "output_type": "stream",
     "text": [
      "Agenda sudah ditambahkan\n",
      "Agendaku\n",
      "1. Menambah Agenda\n",
      "2. Melihat Agenda\n",
      "3. Keluar Agenda\n"
     ]
    },
    {
     "name": "stdin",
     "output_type": "stream",
     "text": [
      "Masukkan Pilihan:  1\n",
      "Masukkan agenda baru:  Berkemah\n"
     ]
    },
    {
     "name": "stdout",
     "output_type": "stream",
     "text": [
      "Agenda sudah ditambahkan\n",
      "Agendaku\n",
      "1. Menambah Agenda\n",
      "2. Melihat Agenda\n",
      "3. Keluar Agenda\n"
     ]
    },
    {
     "name": "stdin",
     "output_type": "stream",
     "text": [
      "Masukkan Pilihan:  Berenang\n"
     ]
    },
    {
     "name": "stdout",
     "output_type": "stream",
     "text": [
      "Pilihan anda salah, Masukkan pilihan yang tepat (1,2, atau 3)\n",
      "Agendaku\n",
      "1. Menambah Agenda\n",
      "2. Melihat Agenda\n",
      "3. Keluar Agenda\n"
     ]
    },
    {
     "name": "stdin",
     "output_type": "stream",
     "text": [
      "Masukkan Pilihan:  2\n"
     ]
    },
    {
     "name": "stdout",
     "output_type": "stream",
     "text": [
      "Daftar Agendaku\n",
      "1.Berlari\n",
      "2.Berkemah\n",
      "Agendaku\n",
      "1. Menambah Agenda\n",
      "2. Melihat Agenda\n",
      "3. Keluar Agenda\n"
     ]
    },
    {
     "name": "stdin",
     "output_type": "stream",
     "text": [
      "Masukkan Pilihan:  3\n"
     ]
    },
    {
     "name": "stdout",
     "output_type": "stream",
     "text": [
      "Keluar dari agenda\n"
     ]
    }
   ],
   "source": [
    "main()"
   ]
  },
  {
   "cell_type": "markdown",
   "id": "fe5f57e0-d4b9-44cd-8f18-ec59446e4f3a",
   "metadata": {},
   "source": [
    "RUANG LINGKUP (SCOPE)\n"
   ]
  },
  {
   "cell_type": "code",
   "execution_count": 20,
   "id": "1af7e115-0970-4f9b-9b92-1b77b1d803d9",
   "metadata": {},
   "outputs": [],
   "source": [
    "var = \"ini adalah contoh variable pertama\" #avarible global\n"
   ]
  },
  {
   "cell_type": "code",
   "execution_count": 18,
   "id": "8e5f7704-018f-45e7-9b43-ed5bc2573c0b",
   "metadata": {},
   "outputs": [],
   "source": [
    "def contoh():\n",
    "    print(var)"
   ]
  },
  {
   "cell_type": "code",
   "execution_count": 19,
   "id": "605a875a-e8ff-4a08-9c25-d62ffa81cf81",
   "metadata": {},
   "outputs": [
    {
     "name": "stdout",
     "output_type": "stream",
     "text": [
      "ini adalah contoh variable pertama\n"
     ]
    }
   ],
   "source": [
    "contoh()"
   ]
  },
  {
   "cell_type": "code",
   "execution_count": 23,
   "id": "646eea11-db23-47df-95fb-5803187007f9",
   "metadata": {},
   "outputs": [],
   "source": [
    "def contoh(): #variable local\n",
    "    var2 = \" Ini adalah variable kedua\"\n",
    "    print(var2)"
   ]
  },
  {
   "cell_type": "code",
   "execution_count": 24,
   "id": "07647481-043f-496d-a863-b9b56a4967de",
   "metadata": {},
   "outputs": [
    {
     "name": "stdout",
     "output_type": "stream",
     "text": [
      " Ini adalah variable kedua\n"
     ]
    }
   ],
   "source": [
    "contoh()"
   ]
  },
  {
   "cell_type": "code",
   "execution_count": 30,
   "id": "361a9f6c-7d1d-4049-bc42-1eadba9edfba",
   "metadata": {},
   "outputs": [],
   "source": [
    "def contoh():\n",
    "    var3 = \"Ini adalah variable ketiga\"\n",
    "\n",
    "    def contoh2():\n",
    "        print(var3) #enclosig variable\n",
    "\n",
    "    contoh2()\n"
   ]
  },
  {
   "cell_type": "code",
   "execution_count": 31,
   "id": "d16452cc-114f-4e99-8ff3-66a91c527a39",
   "metadata": {},
   "outputs": [
    {
     "name": "stdout",
     "output_type": "stream",
     "text": [
      "Ini adalah variable ketiga\n"
     ]
    }
   ],
   "source": [
    "contoh()"
   ]
  },
  {
   "cell_type": "markdown",
   "id": "6b3311f6-ae32-4825-b704-432e382b4494",
   "metadata": {},
   "source": [
    "KEYWORD GLOBAL"
   ]
  },
  {
   "cell_type": "code",
   "execution_count": 33,
   "id": "16d0cbe5-2e53-499d-904d-5b5f27df0418",
   "metadata": {},
   "outputs": [],
   "source": [
    "var = \"ini adalah variable Pertama\""
   ]
  },
  {
   "cell_type": "code",
   "execution_count": 34,
   "id": "f36b1186-c50d-46c0-a11e-7dc0a697f567",
   "metadata": {},
   "outputs": [],
   "source": [
    "def contoh():\n",
    "    var = \"Ini adalah variable pertama dalam fungsi\"\n",
    "    print(var)"
   ]
  },
  {
   "cell_type": "code",
   "execution_count": 35,
   "id": "c292b350-ac90-4f3f-8cf0-0552b1811503",
   "metadata": {},
   "outputs": [
    {
     "name": "stdout",
     "output_type": "stream",
     "text": [
      "Ini adalah variable pertama dalam fungsi\n"
     ]
    }
   ],
   "source": [
    "contoh()"
   ]
  },
  {
   "cell_type": "code",
   "execution_count": 37,
   "id": "74921295-4ce7-4ee1-9513-561c072d78dd",
   "metadata": {},
   "outputs": [],
   "source": [
    "#sekarang menggunakan fungsi global\n",
    "def contoh():\n",
    "    global var\n",
    "    var = \"Ini adalah variable pertama dalam fungsi\"\n",
    "    print(var)"
   ]
  },
  {
   "cell_type": "code",
   "execution_count": 38,
   "id": "f639ac50-f314-4b86-9a05-1cc88d016b7a",
   "metadata": {},
   "outputs": [
    {
     "name": "stdout",
     "output_type": "stream",
     "text": [
      "Ini adalah variable pertama dalam fungsi\n"
     ]
    }
   ],
   "source": [
    "contoh()"
   ]
  },
  {
   "cell_type": "code",
   "execution_count": 39,
   "id": "a1e6750f-1603-42f7-89c1-6771338633bd",
   "metadata": {},
   "outputs": [
    {
     "data": {
      "text/plain": [
       "'Ini adalah variable pertama dalam fungsi'"
      ]
     },
     "execution_count": 39,
     "metadata": {},
     "output_type": "execute_result"
    }
   ],
   "source": [
    "var"
   ]
  },
  {
   "cell_type": "code",
   "execution_count": 40,
   "id": "28479d88-0972-4332-a88f-319b02589695",
   "metadata": {},
   "outputs": [],
   "source": [
    "var = \"hai\"\n",
    " \n",
    "def sapa():\n",
    "    var = \"hai-hai\"\n",
    "    print(var)"
   ]
  },
  {
   "cell_type": "code",
   "execution_count": 41,
   "id": "b159a39a-5ccf-4bd8-a6f7-6f87dfc13944",
   "metadata": {},
   "outputs": [
    {
     "name": "stdout",
     "output_type": "stream",
     "text": [
      "hai-hai\n"
     ]
    }
   ],
   "source": [
    "sapa()"
   ]
  },
  {
   "cell_type": "markdown",
   "id": "7f382c6f-4a3a-4851-8d7e-250654f40782",
   "metadata": {},
   "source": [
    "FUNGSI *args dan *kwargs"
   ]
  },
  {
   "cell_type": "code",
   "execution_count": 66,
   "id": "110c0e86-d3ed-444b-8525-2adf1b30f55e",
   "metadata": {},
   "outputs": [],
   "source": [
    "#Tanpa *args dan *kwargs\n",
    "def cetak_nama(nama1, nama2):\n",
    "    print(f'nama 1 adalah {nama1}')\n",
    "    print(f'nama 2 adalah {nama2}')\n",
    "    "
   ]
  },
  {
   "cell_type": "code",
   "execution_count": 69,
   "id": "3ea29f39-3576-4b2d-ab68-34c5c5a36f48",
   "metadata": {},
   "outputs": [
    {
     "name": "stdout",
     "output_type": "stream",
     "text": [
      "nama 1 adalah Ansar\n",
      "nama 2 adalah Imam\n"
     ]
    }
   ],
   "source": [
    "cetak_nama(\"Ansar\",\"Imam\")"
   ]
  },
  {
   "cell_type": "markdown",
   "id": "cb59e2d2-2ce0-4340-9c83-830d3762182d",
   "metadata": {},
   "source": [
    "# Menggunakan "
   ]
  },
  {
   "cell_type": "code",
   "execution_count": 45,
   "id": "014ddddd-c2a0-4567-b074-406861adf73e",
   "metadata": {},
   "outputs": [],
   "source": [
    "def cetak_nama(*nama):\n",
    "    print(nama)"
   ]
  },
  {
   "cell_type": "code",
   "execution_count": 48,
   "id": "8179ac63-902b-4098-8582-280ca603b154",
   "metadata": {},
   "outputs": [
    {
     "name": "stdout",
     "output_type": "stream",
     "text": [
      "('Ansar',)\n"
     ]
    }
   ],
   "source": [
    "cetak_nama(\"Ansar\") #akan menjadi Tuple"
   ]
  },
  {
   "cell_type": "code",
   "execution_count": 49,
   "id": "b42830f6-aedc-4080-8399-a8b1d0ba5135",
   "metadata": {},
   "outputs": [
    {
     "name": "stdout",
     "output_type": "stream",
     "text": [
      "('Ansar', 'Usman', 'Hidayat')\n"
     ]
    }
   ],
   "source": [
    "cetak_nama(\"Ansar\",\"Usman\", \"Hidayat\")"
   ]
  },
  {
   "cell_type": "code",
   "execution_count": 50,
   "id": "92020683-df87-432d-850d-075456a0bf28",
   "metadata": {},
   "outputs": [],
   "source": [
    "def cetak_nama(*nama):  # Menggunakan *args\n",
    "    print(nama)\n",
    "    for index, item in enumerate(nama):\n",
    "        print(f\"nama {index+1} adalah {item}\")"
   ]
  },
  {
   "cell_type": "code",
   "execution_count": 52,
   "id": "84a06138-6924-4865-b83b-1cb2727847dc",
   "metadata": {},
   "outputs": [
    {
     "name": "stdout",
     "output_type": "stream",
     "text": [
      "('Ansar', 'Usman', 'Hidayat')\n",
      "nama 1 adalah Ansar\n",
      "nama 2 adalah Usman\n",
      "nama 3 adalah Hidayat\n"
     ]
    }
   ],
   "source": [
    "cetak_nama(\"Ansar\",\"Usman\", \"Hidayat\")"
   ]
  },
  {
   "cell_type": "code",
   "execution_count": 55,
   "id": "88c6eb31-92cc-4b8c-be43-5944df2ddbb0",
   "metadata": {},
   "outputs": [],
   "source": [
    "# Menggunakan *kwargs\n",
    "\n",
    "def cetak_alamat(**alamat):\n",
    "    print(alamat)\n",
    "    for i,_ in enumerate(alamat):\n",
    "        print(f\"nama {alamat['nama'][i]} beralamat di {alamat['alamat'][i]}\")"
   ]
  },
  {
   "cell_type": "code",
   "execution_count": 56,
   "id": "294b2ba7-66b5-42ef-88ee-5a3733645cbf",
   "metadata": {},
   "outputs": [
    {
     "name": "stdout",
     "output_type": "stream",
     "text": [
      "{'nama': ['Ansar', 'Usman'], 'alamat': ['Penajam', 'Ketapang']}\n",
      "nama Ansar beralamat di Penajam\n",
      "nama Usman beralamat di Ketapang\n"
     ]
    }
   ],
   "source": [
    "cetak_alamat(nama=[\"Ansar\", \"Usman\"], alamat=[\"Penajam\", \"Ketapang\"])"
   ]
  },
  {
   "cell_type": "markdown",
   "id": "e10951a3-1019-458f-b8bc-10a10ee960d0",
   "metadata": {},
   "source": [
    "LAMDA EXPRESSION"
   ]
  },
  {
   "cell_type": "code",
   "execution_count": 11,
   "id": "73e6d4d6-e11d-4563-91ee-a79015bb0bf9",
   "metadata": {},
   "outputs": [],
   "source": [
    "#SINTAK\n",
    "def kali_dua(var):\n",
    "    var_baru = []\n",
    "    for item in var:\n",
    "        var_baru.append(item*2)\n",
    "    return var_baru"
   ]
  },
  {
   "cell_type": "code",
   "execution_count": 12,
   "id": "0696b2c2-c1dd-4d81-af95-d927a2ebaa0b",
   "metadata": {},
   "outputs": [],
   "source": [
    "num = [1,2,3,4,5]"
   ]
  },
  {
   "cell_type": "code",
   "execution_count": 14,
   "id": "70dd97da-8384-440a-91dd-3fa6f5496e08",
   "metadata": {},
   "outputs": [
    {
     "data": {
      "text/plain": [
       "[2, 4, 6, 8, 10]"
      ]
     },
     "execution_count": 14,
     "metadata": {},
     "output_type": "execute_result"
    }
   ],
   "source": [
    "kali_dua(num)"
   ]
  },
  {
   "cell_type": "code",
   "execution_count": 15,
   "id": "cafe31bc-bca4-4986-b6cf-764e2afc3827",
   "metadata": {},
   "outputs": [],
   "source": [
    "#Penulisan Lambda expression\n",
    "kalidua_lambda = lambda x : x*2"
   ]
  },
  {
   "cell_type": "code",
   "execution_count": 16,
   "id": "861533de-c772-4e76-be81-5d09970e1c1f",
   "metadata": {},
   "outputs": [
    {
     "data": {
      "text/plain": [
       "<map at 0x2448957b670>"
      ]
     },
     "execution_count": 16,
     "metadata": {},
     "output_type": "execute_result"
    }
   ],
   "source": [
    "#Built-in Function map()\n",
    "map(kalidua_lambda, num)"
   ]
  },
  {
   "cell_type": "code",
   "execution_count": 17,
   "id": "2a8b381b-49c1-4db2-a660-7e0f7ddaefc1",
   "metadata": {},
   "outputs": [
    {
     "name": "stdout",
     "output_type": "stream",
     "text": [
      "2\n",
      "4\n",
      "6\n",
      "8\n",
      "10\n"
     ]
    }
   ],
   "source": [
    "for item in map(kalidua_lambda, num):\n",
    "    print(item)"
   ]
  },
  {
   "cell_type": "code",
   "execution_count": 18,
   "id": "44f1c401-57fe-4435-bcf1-202e04015a49",
   "metadata": {},
   "outputs": [
    {
     "data": {
      "text/plain": [
       "[2, 4, 6, 8, 10]"
      ]
     },
     "execution_count": 18,
     "metadata": {},
     "output_type": "execute_result"
    }
   ],
   "source": [
    "#ubah ke fungsi list\n",
    "list(map(kalidua_lambda, num))"
   ]
  },
  {
   "cell_type": "code",
   "execution_count": 20,
   "id": "c93b1ee0-2eb0-4f27-ad55-904fae7eedaa",
   "metadata": {},
   "outputs": [
    {
     "data": {
      "text/plain": [
       "[2, 4, 6, 8, 10]"
      ]
     },
     "execution_count": 20,
     "metadata": {},
     "output_type": "execute_result"
    }
   ],
   "source": [
    "list(map(lambda x: x*2, num))"
   ]
  },
  {
   "cell_type": "code",
   "execution_count": 25,
   "id": "6946910c-0e86-4461-82bd-52e078f9e34a",
   "metadata": {},
   "outputs": [],
   "source": [
    "#BUilt-in Fungtion Filter >>>menhasilkan nilai Boolean"
   ]
  },
  {
   "cell_type": "code",
   "execution_count": 22,
   "id": "35e94ea2-fba6-4cb5-a334-6bc629478715",
   "metadata": {},
   "outputs": [
    {
     "data": {
      "text/plain": [
       "[1, 2, 3, 4, 5]"
      ]
     },
     "execution_count": 22,
     "metadata": {},
     "output_type": "execute_result"
    }
   ],
   "source": [
    "num"
   ]
  },
  {
   "cell_type": "code",
   "execution_count": 23,
   "id": "aae14df9-278a-4ca3-9e8b-021b0c2a418a",
   "metadata": {},
   "outputs": [
    {
     "data": {
      "text/plain": [
       "[2, 4]"
      ]
     },
     "execution_count": 23,
     "metadata": {},
     "output_type": "execute_result"
    }
   ],
   "source": [
    "list(filter(lambda x : x%2==0, num))"
   ]
  },
  {
   "cell_type": "code",
   "execution_count": 24,
   "id": "2f719b2a-a421-4c52-8d6c-eb6041de7bb0",
   "metadata": {},
   "outputs": [
    {
     "data": {
      "text/plain": [
       "[1, 3, 5]"
      ]
     },
     "execution_count": 24,
     "metadata": {},
     "output_type": "execute_result"
    }
   ],
   "source": [
    "list(filter(lambda x : x%2==1, num))"
   ]
  },
  {
   "cell_type": "code",
   "execution_count": 29,
   "id": "1d28a86d-8ba9-481b-b433-5cae67c9026a",
   "metadata": {},
   "outputs": [],
   "source": [
    "#Built-in Function sorted()\n",
    "var = [\n",
    "    (\"Alex\", 27),\n",
    "    (\"Hesti\", 17),      #format Tuple\n",
    "    (\"Hairul\", 18),\n",
    "]"
   ]
  },
  {
   "cell_type": "code",
   "execution_count": 30,
   "id": "a6193de4-b07a-44be-9acd-5e8ca6036978",
   "metadata": {},
   "outputs": [
    {
     "data": {
      "text/plain": [
       "[('Alex', 27), ('Hairul', 18), ('Hesti', 17)]"
      ]
     },
     "execution_count": 30,
     "metadata": {},
     "output_type": "execute_result"
    }
   ],
   "source": [
    "sorted(var, key = lambda x: x[0]) #urutkanberdasarkan index (0) nama"
   ]
  },
  {
   "cell_type": "code",
   "execution_count": 31,
   "id": "e5ff5cd1-9cea-4fdc-b7b5-8061f9929005",
   "metadata": {},
   "outputs": [
    {
     "data": {
      "text/plain": [
       "[('Hesti', 17), ('Hairul', 18), ('Alex', 27)]"
      ]
     },
     "execution_count": 31,
     "metadata": {},
     "output_type": "execute_result"
    }
   ],
   "source": [
    "sorted(var, key = lambda x: x[1]) #urutkanberdasarkan index (1) umur"
   ]
  },
  {
   "cell_type": "markdown",
   "id": "f6bcb7d4-8a2c-4141-8a67-d89a3ac04f69",
   "metadata": {},
   "source": [
    "CLASS ATTRIBUTE/CLASS VARIABLE"
   ]
  },
  {
   "cell_type": "code",
   "execution_count": 4,
   "id": "d16e935d-1d42-4d30-9fde-5bdccc13e7bf",
   "metadata": {},
   "outputs": [],
   "source": [
    "class Motor:\n",
    "    jenis = \"darat\"\n",
    "    merk = {\"Yamoho\", \"Hondi\"}"
   ]
  },
  {
   "cell_type": "code",
   "execution_count": 5,
   "id": "ad3b81af-f57b-460b-8dc6-99c48e154522",
   "metadata": {},
   "outputs": [],
   "source": [
    "motor1 = Motor()"
   ]
  },
  {
   "cell_type": "code",
   "execution_count": 6,
   "id": "ed17f2ff-223b-4275-8c69-4bef9fddf7da",
   "metadata": {},
   "outputs": [
    {
     "name": "stdout",
     "output_type": "stream",
     "text": [
      "darat\n",
      "{'Yamoho', 'Hondi'}\n"
     ]
    }
   ],
   "source": [
    "print(motor1.jenis)\n",
    "print(motor1.merk)"
   ]
  },
  {
   "cell_type": "raw",
   "id": "34d0d5d6-fd7b-48fb-ac6c-6e458546c6fc",
   "metadata": {},
   "source": [
    "Metod di dalam Class"
   ]
  },
  {
   "cell_type": "code",
   "execution_count": 7,
   "id": "62ea809a-279b-4927-9fe9-34bdaf165e73",
   "metadata": {},
   "outputs": [],
   "source": [
    "class Motor:\n",
    "    jenis = \"darat\"\n",
    "    merk = {\"Yamoho\", \"Hondi\"}\n",
    "\n",
    "    def info(sself):\n",
    "        print(\"Ini adalah method didalam class motor\")"
   ]
  },
  {
   "cell_type": "code",
   "execution_count": 9,
   "id": "c5b9db12-5480-4576-a4de-279d25ce5425",
   "metadata": {},
   "outputs": [],
   "source": [
    "motor2 = Motor()"
   ]
  },
  {
   "cell_type": "code",
   "execution_count": 10,
   "id": "60deee12-9999-42bd-b623-47ffcf97bb5f",
   "metadata": {},
   "outputs": [
    {
     "name": "stdout",
     "output_type": "stream",
     "text": [
      "Ini adalah method didalam class motor\n"
     ]
    }
   ],
   "source": [
    "motor2.info()"
   ]
  },
  {
   "cell_type": "code",
   "execution_count": 14,
   "id": "e857a5c9-ad8d-450d-8631-ed28d040c94f",
   "metadata": {},
   "outputs": [],
   "source": [
    "class Motor:\n",
    "    jenis = \"darat\"\n",
    "    merk = {\"Yamoho\", \"Hondi\"}\n",
    "\n",
    "    def info(self):\n",
    "        print(\"Ini adalah method didalam class motor\")\n",
    "        print(\"1. \"+self.jenis) #instance variable\n",
    "        print(\"2. \"+Motor.jenis)# class variable/attribute\n",
    "\n",
    "    def tampil_bb(self, bahan_bakar):\n",
    "        print(f\"Motor ini berbahan bakar {bahan_bakar}\")"
   ]
  },
  {
   "cell_type": "code",
   "execution_count": 15,
   "id": "763eb6d4-8108-47f4-b345-193b3d2d5d2c",
   "metadata": {},
   "outputs": [
    {
     "name": "stdout",
     "output_type": "stream",
     "text": [
      "Ini adalah method didalam class motor\n",
      "1. darat\n",
      "2. darat\n"
     ]
    }
   ],
   "source": [
    "motor1 = Motor()\n",
    "motor1.info()"
   ]
  },
  {
   "cell_type": "code",
   "execution_count": 16,
   "id": "aed6da5c-e0dc-409d-aa2d-1f2b9e09d988",
   "metadata": {},
   "outputs": [
    {
     "name": "stdout",
     "output_type": "stream",
     "text": [
      "Motor ini berbahan bakar Bensin\n"
     ]
    }
   ],
   "source": [
    "motor1.tampil_bb(\"Bensin\")"
   ]
  },
  {
   "cell_type": "markdown",
   "id": "8c85cec9-f5a3-4ad6-9512-720fc4304c26",
   "metadata": {},
   "source": [
    "++++++++++++method __init__ atau Contructor+++++\n",
    "\n",
    "    \n"
   ]
  },
  {
   "cell_type": "code",
   "execution_count": 1,
   "id": "539dda3c-098b-4f60-97cc-f0d89ac7a639",
   "metadata": {},
   "outputs": [],
   "source": [
    "class Pohon:\n",
    "    def info(self):\n",
    "        print(\"Ini adalah method biasa\")"
   ]
  },
  {
   "cell_type": "code",
   "execution_count": 3,
   "id": "e3c7b09f-401a-4c7b-988d-065f2e91e18f",
   "metadata": {},
   "outputs": [
    {
     "name": "stdout",
     "output_type": "stream",
     "text": [
      "Ini adalah method biasa\n"
     ]
    }
   ],
   "source": [
    "pohon1 = Pohon()\n",
    "pohon1.info()"
   ]
  },
  {
   "cell_type": "code",
   "execution_count": 8,
   "id": "e3891ed1-fbfe-4d49-956e-05248fa75d69",
   "metadata": {},
   "outputs": [],
   "source": [
    "class Pohon:\n",
    "    def __init__(self):\n",
    "        print(\"Ini adalah method __init__\")\n",
    "        print(\"Ini adalah method __init__yg kedua\")"
   ]
  },
  {
   "cell_type": "code",
   "execution_count": 9,
   "id": "6a3e7b39-d5ec-402e-886f-7d2ae418d746",
   "metadata": {},
   "outputs": [
    {
     "name": "stdout",
     "output_type": "stream",
     "text": [
      "Ini adalah method __init__\n",
      "Ini adalah method __init__yg kedua\n"
     ]
    }
   ],
   "source": [
    "pohon1 = Pohon()"
   ]
  },
  {
   "cell_type": "code",
   "execution_count": 11,
   "id": "dd05d788-7a86-400b-8bbb-40407509b048",
   "metadata": {},
   "outputs": [],
   "source": [
    "class Pohon:\n",
    "    def __init__(self, jenis, usia, tinggi):\n",
    "        self.jenis = jenis #instance variable\n",
    "        self.usia = usia \n",
    "        self.tinggi = tinggi\n",
    "    def info(self):\n",
    "        print(f\"Ini adalah pohon{self.jenis} berusia {self.usia} dan tinggi {self.tinggi} meter\")\n",
    "        "
   ]
  },
  {
   "cell_type": "code",
   "execution_count": 12,
   "id": "aa7059f3-d9c7-4b3b-8143-0cea82cb053d",
   "metadata": {},
   "outputs": [],
   "source": [
    "pohon3 = Pohon(\"Apel\", \"10 Tahun\", 10)"
   ]
  },
  {
   "cell_type": "code",
   "execution_count": 13,
   "id": "6cf066f0-d493-40ae-93b0-ce4fc63ba8d8",
   "metadata": {},
   "outputs": [
    {
     "data": {
      "text/plain": [
       "'Apel'"
      ]
     },
     "execution_count": 13,
     "metadata": {},
     "output_type": "execute_result"
    }
   ],
   "source": [
    "pohon3.jenis"
   ]
  },
  {
   "cell_type": "code",
   "execution_count": 14,
   "id": "897e0747-91f0-4a8c-be80-c42fe549004d",
   "metadata": {},
   "outputs": [
    {
     "data": {
      "text/plain": [
       "'10 Tahun'"
      ]
     },
     "execution_count": 14,
     "metadata": {},
     "output_type": "execute_result"
    }
   ],
   "source": [
    "pohon3.usia"
   ]
  },
  {
   "cell_type": "code",
   "execution_count": 15,
   "id": "4f6ebe16-1b1a-46db-9831-721ea596cfdc",
   "metadata": {},
   "outputs": [
    {
     "name": "stdout",
     "output_type": "stream",
     "text": [
      "Ini adalah pohonApel berusia 10 Tahun dan tinggi 10 meter\n"
     ]
    }
   ],
   "source": [
    "pohon3.info()"
   ]
  },
  {
   "cell_type": "code",
   "execution_count": 35,
   "id": "1b15d2d6-2d17-4fbd-9b80-5ddf6ceca00e",
   "metadata": {},
   "outputs": [],
   "source": [
    "class Hewan:\n",
    "    def __init__(self, jenis, usia, suara):\n",
    "        self.jenis = jenis\n",
    "        self.usia = usia\n",
    "        self.suara = suara\n",
    "    def info(self):\n",
    "        print(f\"ini adalah {self.jenis} berusia {self.usia} Tahun\")\n",
    "    def bersuara(self):\n",
    "        print(f\"{self.suara} \"*5)\n",
    "        "
   ]
  },
  {
   "cell_type": "code",
   "execution_count": 38,
   "id": "3a70e957-1f95-4fde-8857-142615e09ef2",
   "metadata": {},
   "outputs": [],
   "source": [
    "hewan1 = Hewan (\"Kucing\", 3, \"Meong\")"
   ]
  },
  {
   "cell_type": "code",
   "execution_count": 37,
   "id": "6d1a92fc-e891-4be5-8987-6420db60c339",
   "metadata": {},
   "outputs": [
    {
     "name": "stdout",
     "output_type": "stream",
     "text": [
      "ini adalah Kucing berusia 3 Tahun\n"
     ]
    }
   ],
   "source": [
    "hewan1.info()"
   ]
  },
  {
   "cell_type": "code",
   "execution_count": 39,
   "id": "d590ffe6-3a3e-4ad0-85c6-7e0cad025e56",
   "metadata": {},
   "outputs": [
    {
     "name": "stdout",
     "output_type": "stream",
     "text": [
      "Meong Meong Meong Meong Meong \n"
     ]
    }
   ],
   "source": [
    "hewan1.bersuara()"
   ]
  },
  {
   "cell_type": "markdown",
   "id": "e7ea43f5-c84b-4b39-9142-6b24c2effcea",
   "metadata": {},
   "source": [
    "+++++++++++ENCAPSULATION+++++++++++"
   ]
  },
  {
   "cell_type": "code",
   "execution_count": 45,
   "id": "7f205724-8b53-42dd-9841-88a77dd75de9",
   "metadata": {},
   "outputs": [],
   "source": [
    "class Hewan:\n",
    "    ciri = \"berkembang biak\" # class caribale/attribute\n",
    "    def __init__(self, jenis):\n",
    "        self.jenis = jenis #instance variable"
   ]
  },
  {
   "cell_type": "code",
   "execution_count": 46,
   "id": "40f62bdb-e920-4caa-8b1b-853b5b081979",
   "metadata": {},
   "outputs": [],
   "source": [
    "hewan1 = Hewan(\"Burung\")\n",
    "hewan2 = Hewan(\"Ayam\")"
   ]
  },
  {
   "cell_type": "code",
   "execution_count": 48,
   "id": "507131d2-9d21-4677-aadb-76bd755d3daa",
   "metadata": {},
   "outputs": [
    {
     "name": "stdout",
     "output_type": "stream",
     "text": [
      "berkembang biak\n",
      "berkembang biak\n"
     ]
    }
   ],
   "source": [
    "print(hewan1.ciri)\n",
    "print(hewan2.ciri)"
   ]
  },
  {
   "cell_type": "code",
   "execution_count": 49,
   "id": "31ae0f3f-2b25-47d9-8c0e-4236c7617844",
   "metadata": {},
   "outputs": [
    {
     "name": "stdout",
     "output_type": "stream",
     "text": [
      "Burung\n",
      "Ayam\n"
     ]
    }
   ],
   "source": [
    "print(hewan1.jenis)\n",
    "print(hewan2.jenis)"
   ]
  },
  {
   "cell_type": "markdown",
   "id": "57182272-8931-45f6-bb67-46e0ebb04d94",
   "metadata": {},
   "source": [
    "Public Variable"
   ]
  },
  {
   "cell_type": "code",
   "execution_count": 51,
   "id": "f580feff-ac4d-4d40-a429-8fe9d64fa5a3",
   "metadata": {},
   "outputs": [
    {
     "name": "stdout",
     "output_type": "stream",
     "text": [
      "berkembang biak\n",
      "bernafas\n"
     ]
    }
   ],
   "source": [
    "print(hewan1.ciri)\n",
    "hewan1.ciri = \"bernafas\"\n",
    "print(hewan1.ciri)"
   ]
  },
  {
   "cell_type": "markdown",
   "id": "fb05c324-aced-4a54-b719-6d7e24b735c2",
   "metadata": {},
   "source": [
    "PENERAPAN ENCAPSULATION ==> Public, Protected & Private"
   ]
  },
  {
   "cell_type": "code",
   "execution_count": 14,
   "id": "0c5d0ddd-2a54-498a-be89-3310dea8df98",
   "metadata": {},
   "outputs": [],
   "source": [
    "class AkunBank:\n",
    "    def __init__(self, nomer_rekening, saldo):\n",
    "        self.nomer_rekening = nomer_rekening\n",
    "        self._saldo = saldo\n",
    "        self.__pin =\"1234\"\n",
    "\n",
    "    def info(self):\n",
    "        print(f\"Nomer Rekening: {self.nomer_rekening}\")\n",
    "        print(f\"Anda memiliki saldo sebesar: Rp. {self._saldo}\")\n",
    "    \n",
    "    def tambah_saldo(self, penambahan):\n",
    "        self._saldo += penambahan\n",
    "    \n",
    "    def tarik_saldo(self, penarikan, pin):\n",
    "        if pin == self.__pin:\n",
    "            if penarikan <= self._saldo:\n",
    "                self._saldo -= penarikan\n",
    "                print(f\"Anda berhasil melakukan penarikan sebesar: Rp. {penarikan}\")\n",
    "                print(f\"Sisa saldo anda: Rp. {self._saldo}\")\n",
    "            else:\n",
    "                print(f\"Saldo anda tidak mencukupi\")\n",
    "\n",
    "        else:\n",
    "            print(\"Pin yang anda masukkan salah!\")\n",
    "    def ubah_pin(self, pin_lama, pin_baru):\n",
    "        if pin_lama == self.__pin:\n",
    "            self.__pin = pin_baru\n",
    "            print(\"Pin anda telah berhasil diubah\")\n",
    "        else:\n",
    "            print(\"Pin yang anda masukkan salah!\")\n",
    "            \n",
    "            \n",
    "    \n",
    "    "
   ]
  },
  {
   "cell_type": "code",
   "execution_count": 15,
   "id": "9448ab05-3703-4d93-a5d6-ed0c37053f9d",
   "metadata": {},
   "outputs": [],
   "source": [
    "akun1 = AkunBank(2132, 15000000)"
   ]
  },
  {
   "cell_type": "code",
   "execution_count": 16,
   "id": "1dbe195a-bd30-4b12-ad1e-7b0dc3b59efd",
   "metadata": {},
   "outputs": [
    {
     "name": "stdout",
     "output_type": "stream",
     "text": [
      "Nomer Rekening: 2132\n",
      "Anda memiliki saldo sebesar: Rp. 15000000\n"
     ]
    }
   ],
   "source": [
    "akun1.info()"
   ]
  },
  {
   "cell_type": "code",
   "execution_count": 17,
   "id": "e1112170-1c92-476e-b080-f215c93eea06",
   "metadata": {},
   "outputs": [],
   "source": [
    "akun1.tambah_saldo(5000000)"
   ]
  },
  {
   "cell_type": "code",
   "execution_count": 18,
   "id": "34c9b49f-ac7f-4a14-abc6-9944640a4e69",
   "metadata": {},
   "outputs": [
    {
     "name": "stdout",
     "output_type": "stream",
     "text": [
      "Nomer Rekening: 2132\n",
      "Anda memiliki saldo sebesar: Rp. 20000000\n"
     ]
    }
   ],
   "source": [
    "akun1.info()"
   ]
  },
  {
   "cell_type": "code",
   "execution_count": 19,
   "id": "0e36f9a4-f483-4e5c-b6b3-afc4f1f5dbde",
   "metadata": {},
   "outputs": [
    {
     "name": "stdout",
     "output_type": "stream",
     "text": [
      "Anda berhasil melakukan penarikan sebesar: Rp. 2500000\n",
      "Sisa saldo anda: Rp. 17500000\n"
     ]
    }
   ],
   "source": [
    "akun1.tarik_saldo(2500000,\"1234\")"
   ]
  },
  {
   "cell_type": "code",
   "execution_count": 20,
   "id": "7c28843d-7ddc-4e82-81e7-273285270273",
   "metadata": {},
   "outputs": [
    {
     "name": "stdout",
     "output_type": "stream",
     "text": [
      "Saldo anda tidak mencukupi\n"
     ]
    }
   ],
   "source": [
    "akun1.tarik_saldo(2500000000,\"1234\")"
   ]
  },
  {
   "cell_type": "code",
   "execution_count": 21,
   "id": "39a2fb9a-61fc-4e2e-a0da-cd217c0949bf",
   "metadata": {},
   "outputs": [
    {
     "name": "stdout",
     "output_type": "stream",
     "text": [
      "Pin yang anda masukkan salah!\n"
     ]
    }
   ],
   "source": [
    "akun1.tarik_saldo(2500000,\"123994\")"
   ]
  },
  {
   "cell_type": "code",
   "execution_count": 22,
   "id": "a48c0eef-4b3f-4311-bc34-47014de5b79f",
   "metadata": {},
   "outputs": [
    {
     "name": "stdout",
     "output_type": "stream",
     "text": [
      "Pin anda telah berhasil diubah\n"
     ]
    }
   ],
   "source": [
    "akun1.ubah_pin(\"1234\",\"5678\")"
   ]
  },
  {
   "cell_type": "code",
   "execution_count": 23,
   "id": "648eee80-e7d4-4a2c-a28d-494c28adc89e",
   "metadata": {},
   "outputs": [
    {
     "name": "stdout",
     "output_type": "stream",
     "text": [
      "Pin yang anda masukkan salah!\n"
     ]
    }
   ],
   "source": [
    "akun1.tarik_saldo(2500000000,\"1234\")"
   ]
  },
  {
   "cell_type": "code",
   "execution_count": 24,
   "id": "07cc8861-bd95-4ca2-81e2-3fdc04725e69",
   "metadata": {},
   "outputs": [
    {
     "name": "stdout",
     "output_type": "stream",
     "text": [
      "Saldo anda tidak mencukupi\n"
     ]
    }
   ],
   "source": [
    "akun1.tarik_saldo(2500000000,\"5678\")"
   ]
  },
  {
   "cell_type": "code",
   "execution_count": 25,
   "id": "13a9707a-533b-4d0a-9b0d-d9f53a1db051",
   "metadata": {},
   "outputs": [
    {
     "name": "stdout",
     "output_type": "stream",
     "text": [
      "Anda berhasil melakukan penarikan sebesar: Rp. 250000\n",
      "Sisa saldo anda: Rp. 17250000\n"
     ]
    }
   ],
   "source": [
    "akun1.tarik_saldo(250000,\"5678\")"
   ]
  },
  {
   "cell_type": "markdown",
   "id": "434d4630-90e2-47cb-a528-c378a35eca7f",
   "metadata": {},
   "source": [
    "++++++++++++INHERITANCE+++++++++++++++++++++++++"
   ]
  },
  {
   "cell_type": "code",
   "execution_count": 1,
   "id": "aa351e02-9b70-4de1-a222-4a997b562217",
   "metadata": {},
   "outputs": [],
   "source": [
    "class Hewan:\n",
    "    jumlah = 0 #1\n",
    "\n",
    "    def __init__(self, jenis, umur, suara):\n",
    "        self.jenis = jenis\n",
    "        self.umur = umur\n",
    "        self.suara = suara\n",
    "        Hewan.jumlah += 1\n",
    "    def info(self):\n",
    "        print(\"Ini adalah kelas hewan\")\n",
    "\n",
    "class Kucing(Hewan): #subclass = kucing, super class = Hewan\n",
    "    pass"
   ]
  },
  {
   "cell_type": "code",
   "execution_count": 2,
   "id": "6984202b-5558-4d98-9d21-ac8856695671",
   "metadata": {},
   "outputs": [],
   "source": [
    "kucing1 = Kucing(\"kucing\", 2, \"meong\")\n"
   ]
  },
  {
   "cell_type": "code",
   "execution_count": 4,
   "id": "8b717774-e3bd-4931-8ce3-203bd818cd63",
   "metadata": {},
   "outputs": [
    {
     "data": {
      "text/plain": [
       "'kucing'"
      ]
     },
     "execution_count": 4,
     "metadata": {},
     "output_type": "execute_result"
    }
   ],
   "source": [
    "kucing1.jenis"
   ]
  },
  {
   "cell_type": "code",
   "execution_count": 7,
   "id": "e66b9fbb-efd0-40ae-a377-80d07174b694",
   "metadata": {},
   "outputs": [
    {
     "name": "stdout",
     "output_type": "stream",
     "text": [
      "Ini adalah kelas hewan\n"
     ]
    }
   ],
   "source": [
    "kucing1.info()"
   ]
  },
  {
   "cell_type": "markdown",
   "id": "859620d1-fd48-4a38-ba2c-3f4f675d3bba",
   "metadata": {},
   "source": [
    "++++++++++++++++++OVerRiding Metodh++++++++++++++"
   ]
  },
  {
   "cell_type": "code",
   "execution_count": 8,
   "id": "2e15f94d-31be-4548-bc04-86f31332cfc4",
   "metadata": {},
   "outputs": [],
   "source": [
    "class Hewan:\n",
    "    jumlah = 0 #1\n",
    "\n",
    "    def __init__(self, jenis, umur, suara):\n",
    "        self.jenis = jenis\n",
    "        self.umur = umur\n",
    "        self.suara = suara\n",
    "        Hewan.jumlah += 1\n",
    "    def info(self):\n",
    "        print(\"Ini adalah kelas hewan\")\n",
    "\n",
    "class Kucing(Hewan): #subclass = kucing, super class = Hewan\n",
    "\n",
    "    def info(self):\n",
    "        print(\"ini adalah kelas kucing\")"
   ]
  },
  {
   "cell_type": "code",
   "execution_count": 9,
   "id": "49b9b586-8938-4b34-a8b4-b5b56ccd471c",
   "metadata": {},
   "outputs": [],
   "source": [
    "kucing1 = Kucing(\"kucing\", 2, \"Meong\")"
   ]
  },
  {
   "cell_type": "code",
   "execution_count": 13,
   "id": "4efbb295-d52a-417f-97ce-44f6f524d013",
   "metadata": {},
   "outputs": [
    {
     "name": "stdout",
     "output_type": "stream",
     "text": [
      "ini adalah kelas kucing\n"
     ]
    }
   ],
   "source": [
    "kucing1.info()  #akan menjalannkan kelas dibawahnya"
   ]
  },
  {
   "cell_type": "markdown",
   "id": "c504e06d-82c8-45f1-8fe1-40805e91380e",
   "metadata": {},
   "source": [
    "+++++++++++++++++++Built-in Function Super++++++++++++++++++"
   ]
  },
  {
   "cell_type": "code",
   "execution_count": 18,
   "id": "775bc43e-cac6-4264-b31c-92e3049508f4",
   "metadata": {},
   "outputs": [],
   "source": [
    "class Hewan:\n",
    "    jumlah = 0 #1\n",
    "\n",
    "    def __init__(self, jenis, umur, suara):\n",
    "        self.jenis = jenis\n",
    "        self.umur = umur\n",
    "        self.suara = suara\n",
    "        Hewan.jumlah += 1\n",
    "    def info(self):\n",
    "        print(\"Ini adalah kelas hewan\")\n",
    "\n",
    "class Kucing(Hewan): #subclass = kucing, super class = Hewan\n",
    "    \n",
    "    def __init__(self, jenis, umur, suara, warna):\n",
    "        super().__init__(jenis, umur, suara)      #akses Super.method Hewan\n",
    "        self.warna = warna\n",
    "    \n",
    "    def info(self):\n",
    "        super().info()\n",
    "        print(\"ini adalah kelas kucing\")\n",
    "\n",
    "    def jumlah(self):\n",
    "        return super().jumlah #akses uper dan atributtitenya"
   ]
  },
  {
   "cell_type": "code",
   "execution_count": 20,
   "id": "4036d948-fec8-4d4e-a7c5-0e0335001ff8",
   "metadata": {},
   "outputs": [],
   "source": [
    "kucing1 = Kucing(\"kucing\", 2, \"Meong\", \"Orange\")\n"
   ]
  },
  {
   "cell_type": "code",
   "execution_count": 21,
   "id": "2c364feb-602a-464d-a50f-8017d749dddc",
   "metadata": {},
   "outputs": [
    {
     "data": {
      "text/plain": [
       "'Orange'"
      ]
     },
     "execution_count": 21,
     "metadata": {},
     "output_type": "execute_result"
    }
   ],
   "source": [
    "kucing1.warna"
   ]
  },
  {
   "cell_type": "code",
   "execution_count": 22,
   "id": "b58dd641-2113-415e-a7cb-a1efe15a1f4c",
   "metadata": {},
   "outputs": [
    {
     "name": "stdout",
     "output_type": "stream",
     "text": [
      "Ini adalah kelas hewan\n",
      "ini adalah kelas kucing\n"
     ]
    }
   ],
   "source": [
    "kucing1.info()"
   ]
  },
  {
   "cell_type": "code",
   "execution_count": 23,
   "id": "66d3e6a9-a98f-4089-9326-0e5f8dc1c05b",
   "metadata": {},
   "outputs": [
    {
     "data": {
      "text/plain": [
       "2"
      ]
     },
     "execution_count": 23,
     "metadata": {},
     "output_type": "execute_result"
    }
   ],
   "source": [
    "kucing1.jumlah()"
   ]
  },
  {
   "cell_type": "code",
   "execution_count": 52,
   "id": "65e27325-a415-4090-bffc-174714244778",
   "metadata": {},
   "outputs": [],
   "source": [
    "###+++++++++++++++++DUNDER/MAGIC METHOD++++++++++++++++++\n",
    "class Buku:\n",
    "    def __init__(self, judul, pengarang, jumlah_halaman):\n",
    "        self.judul = judul\n",
    "        self.pengarang = pengarang\n",
    "        self.jumlah_halaman = jumlah_halaman\n",
    "    \n",
    "    def __str__(self):\n",
    "        return f\"{self.judul} oleh {self.pengarang}\"\n",
    "\n",
    "    def __len__(self):\n",
    "        return self.jumlah_halaman\n",
    "\n",
    "    def __add__(self, buku_lain):\n",
    "        return self.jumlah_halaman + buku_lain.jumlah_halaman\n",
    "\n",
    "    def __del__(self):\n",
    "        print(\"Data buku ini sudah di hapus!!!\")"
   ]
  },
  {
   "cell_type": "code",
   "execution_count": 53,
   "id": "f64f152a-748a-4990-a094-b216b9f8fe3d",
   "metadata": {},
   "outputs": [],
   "source": [
    "buku1 = Buku(\"Harry Potter\", \"J.K. Rowling\", 500)"
   ]
  },
  {
   "cell_type": "code",
   "execution_count": 54,
   "id": "2cf9e6a9-874a-4fd8-8e45-3b220e66acff",
   "metadata": {},
   "outputs": [
    {
     "name": "stdout",
     "output_type": "stream",
     "text": [
      "Harry Potter oleh J.K. Rowling\n"
     ]
    }
   ],
   "source": [
    "print(buku1) ##panggil __str__"
   ]
  },
  {
   "cell_type": "code",
   "execution_count": 55,
   "id": "1e5c08a9-eb57-47f2-a73a-351a9f6e924d",
   "metadata": {},
   "outputs": [
    {
     "data": {
      "text/plain": [
       "500"
      ]
     },
     "execution_count": 55,
     "metadata": {},
     "output_type": "execute_result"
    }
   ],
   "source": [
    "len(buku1) #panggil __len__"
   ]
  },
  {
   "cell_type": "code",
   "execution_count": 58,
   "id": "0ad1ee77-08d6-4788-9526-442248b5fc13",
   "metadata": {},
   "outputs": [
    {
     "name": "stdout",
     "output_type": "stream",
     "text": [
      "Data buku ini sudah di hapus!!!\n",
      "Data buku ini sudah di hapus!!!\n"
     ]
    }
   ],
   "source": [
    "buku1 = Buku(\"Harry Potter\", \"J.K. Rowling\", 500)\n",
    "buku2 = Buku(\"Sherlock Holmes\", \"Conan Doyle\", 700)"
   ]
  },
  {
   "cell_type": "code",
   "execution_count": 57,
   "id": "fedee0e7-20ee-443f-871f-517ddd61c8d5",
   "metadata": {},
   "outputs": [
    {
     "data": {
      "text/plain": [
       "1200"
      ]
     },
     "execution_count": 57,
     "metadata": {},
     "output_type": "execute_result"
    }
   ],
   "source": [
    "buku1+buku2"
   ]
  },
  {
   "cell_type": "code",
   "execution_count": 59,
   "id": "f623d7fd-3218-4c48-b5f5-f3628d4e8397",
   "metadata": {},
   "outputs": [
    {
     "name": "stdout",
     "output_type": "stream",
     "text": [
      "Data buku ini sudah di hapus!!!\n"
     ]
    }
   ],
   "source": [
    "del buku1"
   ]
  },
  {
   "cell_type": "markdown",
   "id": "2c2c8a95-8178-4c7d-b058-b25eca5557da",
   "metadata": {},
   "source": []
  },
  {
   "cell_type": "markdown",
   "id": "872814b2-8bc5-4632-a3b6-a0bdb20c39b0",
   "metadata": {},
   "source": [
    "++++++++++++++++FILE HANDLING++++++++++++++++++++++++"
   ]
  },
  {
   "cell_type": "code",
   "execution_count": 18,
   "id": "e2921105-c38c-4ff3-949f-bd662c6298cf",
   "metadata": {},
   "outputs": [],
   "source": [
    "#MEMBUAT FILE BARU\n",
    "file =open(\"contohFileHandling.txt\", mode='w')\n",
    "\n",
    "file.write(\"Halo\\n\")\n",
    "file.write(\"Ini adalah file baru.\")\n",
    "\n",
    "file.close()  #penutup file"
   ]
  },
  {
   "cell_type": "code",
   "execution_count": 19,
   "id": "f49c5483-d2af-4499-a80f-8551a5ba8486",
   "metadata": {},
   "outputs": [],
   "source": [
    "#MENAMBAH FILE BARU\n",
    "file =open(\"contohFileHandling.txt\", mode='a')\n",
    "file.write(\"\\nIni adalah baris baru.\")\n",
    "file.close()"
   ]
  },
  {
   "cell_type": "code",
   "execution_count": 20,
   "id": "f464ebaa-5dbb-4159-9513-bf2edf88b222",
   "metadata": {},
   "outputs": [
    {
     "data": {
      "text/plain": [
       "'Halo\\nIni adalah file baru.\\nIni adalah baris baru.'"
      ]
     },
     "execution_count": 20,
     "metadata": {},
     "output_type": "execute_result"
    }
   ],
   "source": [
    "file = open(\"contohFileHandling.txt\", mode='r')\n",
    "file.read()"
   ]
  },
  {
   "cell_type": "code",
   "execution_count": 21,
   "id": "9631f8e4-17d0-4772-bc3b-00fb059f431a",
   "metadata": {},
   "outputs": [
    {
     "data": {
      "text/plain": [
       "0"
      ]
     },
     "execution_count": 21,
     "metadata": {},
     "output_type": "execute_result"
    }
   ],
   "source": [
    "file.seek(0) #akan mengembalikan offset awalnya 0 jika tidak ada hasil bacaan"
   ]
  },
  {
   "cell_type": "code",
   "execution_count": 22,
   "id": "c963eb32-9a6d-4a24-a3f8-3de745ac465c",
   "metadata": {},
   "outputs": [
    {
     "data": {
      "text/plain": [
       "'Halo\\nIni adalah file baru.\\nIni adalah baris baru.'"
      ]
     },
     "execution_count": 22,
     "metadata": {},
     "output_type": "execute_result"
    }
   ],
   "source": [
    "file.read()"
   ]
  },
  {
   "cell_type": "code",
   "execution_count": 23,
   "id": "e0d1c937-fda7-40e5-9ef8-1ebfa2c66310",
   "metadata": {},
   "outputs": [],
   "source": [
    "file.seek(0)\n",
    "konten = file.read() #membaca isi file contohFileHandling.txt"
   ]
  },
  {
   "cell_type": "code",
   "execution_count": 24,
   "id": "8e10d4f2-e9c1-4848-9d6c-d5571255a729",
   "metadata": {},
   "outputs": [
    {
     "data": {
      "text/plain": [
       "'Halo\\nIni adalah file baru.\\nIni adalah baris baru.'"
      ]
     },
     "execution_count": 24,
     "metadata": {},
     "output_type": "execute_result"
    }
   ],
   "source": [
    "konten #hasil baca"
   ]
  },
  {
   "cell_type": "code",
   "execution_count": 25,
   "id": "09c9e9c6-1345-4970-83ef-bd3fd24d721f",
   "metadata": {},
   "outputs": [
    {
     "name": "stdout",
     "output_type": "stream",
     "text": [
      "Halo\n",
      "Ini adalah file baru.\n",
      "Ini adalah baris baru.\n"
     ]
    }
   ],
   "source": [
    "print(konten) #membaca isi file contohFileHandling.txt"
   ]
  },
  {
   "cell_type": "code",
   "execution_count": 26,
   "id": "a2978c9e-e222-492a-bad0-bf5f2ad61e66",
   "metadata": {},
   "outputs": [
    {
     "data": {
      "text/plain": [
       "'Halo\\n'"
      ]
     },
     "execution_count": 26,
     "metadata": {},
     "output_type": "execute_result"
    }
   ],
   "source": [
    "file.seek(0)\n",
    "file.readline() #baca baris 1"
   ]
  },
  {
   "cell_type": "code",
   "execution_count": 28,
   "id": "1a5487db-dd61-4378-b2a2-b42c60f1fcf4",
   "metadata": {},
   "outputs": [
    {
     "data": {
      "text/plain": [
       "'Ini adalah baris baru.'"
      ]
     },
     "execution_count": 28,
     "metadata": {},
     "output_type": "execute_result"
    }
   ],
   "source": [
    "file.readline() #baca baris 2"
   ]
  },
  {
   "cell_type": "code",
   "execution_count": 30,
   "id": "510ad1ca-9004-4c17-946f-e964b9598986",
   "metadata": {},
   "outputs": [
    {
     "data": {
      "text/plain": [
       "['Halo\\n', 'Ini adalah file baru.\\n', 'Ini adalah baris baru.']"
      ]
     },
     "execution_count": 30,
     "metadata": {},
     "output_type": "execute_result"
    }
   ],
   "source": [
    "file.seek(0)\n",
    "file.readlines() #baca seluruh baris"
   ]
  },
  {
   "cell_type": "code",
   "execution_count": 31,
   "id": "b57b5fb1-2804-4e7b-bf53-64b83935ac6b",
   "metadata": {},
   "outputs": [],
   "source": [
    "file.close()  #penutup file agar bisa dibaca/buka file aslinya difolder"
   ]
  },
  {
   "cell_type": "markdown",
   "id": "2a45cf66-ac23-474b-ad0f-d6db6d392226",
   "metadata": {},
   "source": [
    "++++++++++++++++Statement WITH+++++++++++++++++"
   ]
  },
  {
   "cell_type": "code",
   "execution_count": 33,
   "id": "3ec5b491-3ea5-4393-89a3-53ac39348823",
   "metadata": {},
   "outputs": [],
   "source": [
    "with open(\"contoh2.txt\", mode='w') as file:  #Membuat/Menulis file\n",
    "    file.write(\"Halo halo halo\")\n",
    "    #akan menutup file secara auto tanpe statemnt file.close()"
   ]
  },
  {
   "cell_type": "code",
   "execution_count": 40,
   "id": "32c05898-03aa-4b7b-8eb0-640c836a511e",
   "metadata": {},
   "outputs": [],
   "source": [
    "with open(\"contoh2.txt\", mode='a') as file:  #menambahkan baris file-append(a)\n",
    "    file.write(\"\\nini adalah baris baru Halo halo halo\")"
   ]
  },
  {
   "cell_type": "code",
   "execution_count": 41,
   "id": "ca91af30-55b8-45ef-b2d3-19c36a1e4f96",
   "metadata": {},
   "outputs": [],
   "source": [
    "#Membaca file\n",
    "with open(\"contoh2.txt\", mode='r') as file:  #MMembaca file\n",
    "    konten = file.read()"
   ]
  },
  {
   "cell_type": "code",
   "execution_count": 42,
   "id": "c38aaa46-2646-4f0d-8f0b-b2197fc847d5",
   "metadata": {},
   "outputs": [
    {
     "data": {
      "text/plain": [
       "'Halo halo halo\\nIni adalah baris baru Halo halo halo\\n Ini adalah baris baru Halo halo halo\\nini adalah baris baru Halo halo halo'"
      ]
     },
     "execution_count": 42,
     "metadata": {},
     "output_type": "execute_result"
    }
   ],
   "source": [
    "konten"
   ]
  },
  {
   "cell_type": "code",
   "execution_count": 43,
   "id": "77ca8855-9cea-436d-8bf9-4a964096c145",
   "metadata": {},
   "outputs": [],
   "source": [
    "with open(\"contoh2.txt\", mode='r') as file:  #MMembaca file\n",
    "    konten = file.readlines()  #readlines"
   ]
  },
  {
   "cell_type": "code",
   "execution_count": 44,
   "id": "cf2148b8-b743-4d2d-b6ea-8e227c005f89",
   "metadata": {},
   "outputs": [
    {
     "data": {
      "text/plain": [
       "['Halo halo halo\\n',\n",
       " 'Ini adalah baris baru Halo halo halo\\n',\n",
       " ' Ini adalah baris baru Halo halo halo\\n',\n",
       " 'ini adalah baris baru Halo halo halo']"
      ]
     },
     "execution_count": 44,
     "metadata": {},
     "output_type": "execute_result"
    }
   ],
   "source": [
    "konten"
   ]
  },
  {
   "cell_type": "code",
   "execution_count": 45,
   "id": "ef0123ce-4796-473b-a398-0b8e10db743f",
   "metadata": {},
   "outputs": [],
   "source": [
    "for item in konten:  #menggunakan loop\n",
    "    item = item.upper()\n",
    "    with open(\"contoh_baru.txt\", mode=\"a\") as file:\n",
    "        file.write(item)"
   ]
  },
  {
   "cell_type": "markdown",
   "id": "b6506e0f-8184-4701-a568-4210a5f91135",
   "metadata": {},
   "source": [
    "+++Membuat & membuka file sesuai direktorynya"
   ]
  },
  {
   "cell_type": "code",
   "execution_count": 50,
   "id": "d3f4675d-a11a-4b79-8087-ee81969688b6",
   "metadata": {},
   "outputs": [],
   "source": [
    "with open (\"C:/Python311/Project_Udemy/contoh3.txt\", mode='w') as file:\n",
    "    file.write(\"Ini adalah contoh file berdasarkan direktori penyimpanan\")"
   ]
  },
  {
   "cell_type": "code",
   "execution_count": 51,
   "id": "395784aa-8e30-4f5a-9d04-47febf4b7716",
   "metadata": {},
   "outputs": [],
   "source": [
    "with open (\"C:/Python311/Project_Udemy.contoh3.txt\", mode='r') as file:\n",
    "    var = file.read()"
   ]
  },
  {
   "cell_type": "code",
   "execution_count": 52,
   "id": "d0b1ac69-18f1-4654-bfc6-7f2c05868abc",
   "metadata": {},
   "outputs": [
    {
     "data": {
      "text/plain": [
       "'Ini adalah contoh file berdasarkan direktori penyimpanan'"
      ]
     },
     "execution_count": 52,
     "metadata": {},
     "output_type": "execute_result"
    }
   ],
   "source": [
    "var"
   ]
  },
  {
   "cell_type": "markdown",
   "id": "57f3fdd4-18b0-4e92-8886-4481dc3605ad",
   "metadata": {},
   "source": [
    "++++++++Keyword \"try\" dan \"except\"+++++++++++++++++++++++"
   ]
  },
  {
   "cell_type": "code",
   "execution_count": 58,
   "id": "b7f5e170-2cd1-4449-8ebf-32061307a066",
   "metadata": {},
   "outputs": [
    {
     "name": "stdin",
     "output_type": "stream",
     "text": [
      "Masukkan angka:  a\n"
     ]
    },
    {
     "name": "stdout",
     "output_type": "stream",
     "text": [
      "Salah! yang anda masukkan bukan angka, ulangi kembali\n"
     ]
    }
   ],
   "source": [
    "try:\n",
    "    #block code yang mungkin error\n",
    "    x = input(\"Masukkan angka: \")\n",
    "    x = int(x)\n",
    "except:\n",
    "    print(\"Salah! yang anda masukkan bukan angka, ulangi kembali\")"
   ]
  },
  {
   "cell_type": "markdown",
   "id": "e0d032b7-b918-49fa-b91b-d755158566b7",
   "metadata": {},
   "source": [
    "+++++++++++Keyword \"else\"+++++++++++++++"
   ]
  },
  {
   "cell_type": "code",
   "execution_count": 61,
   "id": "a96b2a4a-ad5c-43a4-9571-51051978f966",
   "metadata": {},
   "outputs": [
    {
     "name": "stdin",
     "output_type": "stream",
     "text": [
      "Masukkan angka pertama:  2\n",
      "Masukkan angka kedua:  s\n"
     ]
    },
    {
     "name": "stdout",
     "output_type": "stream",
     "text": [
      "Salah! yang anda masukkan bukan angka, ulangi kembali\n"
     ]
    }
   ],
   "source": [
    "try:\n",
    "    #block code yang mungkin error\n",
    "    x = input(\"Masukkan angka pertama: \")\n",
    "    y = input(\"Masukkan angka kedua: \")\n",
    "    x = int(x)\n",
    "    y = int(y)\n",
    "except:\n",
    "    print(\"Salah! yang anda masukkan bukan angka, ulangi kembali\")\n",
    "else:\n",
    "    print(f\"Operasi Aritmatika dari {x} dan {y}: \")\n",
    "    print(f\"{x} + {y} = {x+y}\")\n",
    "    print(f\"{x} - {y} = {x+y}\")\n",
    "    print(f\"{x} x {y} = {x*y}\")\n",
    "    print(f\"{x} : {y} = {x/y}\")"
   ]
  },
  {
   "cell_type": "markdown",
   "id": "27c0cbb0-571e-4d8c-a67a-9156bd711170",
   "metadata": {},
   "source": [
    "+++++++++++++++Keyword \"finally\"+++++++++++++"
   ]
  },
  {
   "cell_type": "code",
   "execution_count": 63,
   "id": "0eb94792-9e71-4b03-a830-ab11a7c14f32",
   "metadata": {},
   "outputs": [
    {
     "name": "stdin",
     "output_type": "stream",
     "text": [
      "Masukkan angka pertama:  3\n",
      "Masukkan angka kedua:  e\n"
     ]
    },
    {
     "name": "stdout",
     "output_type": "stream",
     "text": [
      "Salah! yang anda masukkan bukan angka, ulangi kembali\n",
      "\n",
      "Semoga bermanfaat\n"
     ]
    }
   ],
   "source": [
    "try:\n",
    "    #block code yang mungkin error\n",
    "    x = input(\"Masukkan angka pertama: \")\n",
    "    y = input(\"Masukkan angka kedua: \")\n",
    "    x = int(x)\n",
    "    y = int(y)\n",
    "except:\n",
    "    print(\"Salah! yang anda masukkan bukan angka, ulangi kembali\")\n",
    "else:\n",
    "    print(f\"Operasi Aritmatika dari {x} dan {y}: \")\n",
    "    print(f\"{x} + {y} = {x+y}\")\n",
    "    print(f\"{x} - {y} = {x+y}\")\n",
    "    print(f\"{x} x {y} = {x*y}\")\n",
    "    print(f\"{x} : {y} = {x/y}\")\n",
    "finally:\n",
    "    print(\"\\nSemoga bermanfaat\")"
   ]
  },
  {
   "cell_type": "markdown",
   "id": "b179a96c-58ff-4ff9-a93e-8a52800e7354",
   "metadata": {},
   "source": [
    "++++++++++++++Except dengan spesifik error++++++++++++++"
   ]
  },
  {
   "cell_type": "code",
   "execution_count": 66,
   "id": "0ae3f7d7-a2df-4d73-92c3-8b6d94940ecd",
   "metadata": {},
   "outputs": [
    {
     "name": "stdin",
     "output_type": "stream",
     "text": [
      "Masukkan angka pertama:  1\n",
      "Masukkan angka kedua:  2\n"
     ]
    },
    {
     "name": "stdout",
     "output_type": "stream",
     "text": [
      "Operasi Aritmatika dari 1 dan 2: \n",
      "1 + 2 = 3\n",
      "1 - 2 = 3\n",
      "1 x 2 = 2\n",
      "1 : 2 = 0.5\n",
      "\n",
      "Semoga bermanfaat\n"
     ]
    }
   ],
   "source": [
    "try:\n",
    "    #block code yang mungkin error\n",
    "    x = input(\"Masukkan angka pertama: \")\n",
    "    y = input(\"Masukkan angka kedua: \")\n",
    "    x = int(x)\n",
    "    y = int(y)\n",
    "except ValueError:\n",
    "    print(\"Salah! yang anda masukkan bukan angka, ulangi kembali\")\n",
    "except NameError:\n",
    "    print(\"Salah! yang anda masukkan bukan angka, cek kode Python\")\n",
    "else:\n",
    "    print(f\"Operasi Aritmatika dari {x} dan {y}: \")\n",
    "    print(f\"{x} + {y} = {x+y}\")\n",
    "    print(f\"{x} - {y} = {x+y}\")\n",
    "    print(f\"{x} x {y} = {x*y}\")\n",
    "    print(f\"{x} : {y} = {x/y}\")\n",
    "finally:\n",
    "    print(\"\\nSemoga bermanfaat\")\n",
    "    "
   ]
  },
  {
   "cell_type": "markdown",
   "id": "3a01df16-bb34-44b6-aa18-27f9964f467c",
   "metadata": {},
   "source": [
    "+++++++++++++Statement Rais (memanggil Error) e+++++++++++"
   ]
  },
  {
   "cell_type": "code",
   "execution_count": 91,
   "id": "dc32f6f8-9d61-4bcc-8e2f-a638e3caf05c",
   "metadata": {},
   "outputs": [
    {
     "name": "stdin",
     "output_type": "stream",
     "text": [
      "Masukkan angka pertama:  \n",
      "Masukkan angka kedua:  1\n"
     ]
    },
    {
     "name": "stdout",
     "output_type": "stream",
     "text": [
      "Salah! yang anda masukkan bukan angka, ulangi kembali\n",
      "\n",
      "Semoga bermanfaat\n"
     ]
    }
   ],
   "source": [
    "try:\n",
    "    #block code yang mungkin error\n",
    "    x = input(\"Masukkan angka pertama: \")\n",
    "    y = input(\"Masukkan angka kedua: \")\n",
    "    x = int(x)\n",
    "    y = int(y)\n",
    "\n",
    "    if y == 0:\n",
    "        raise ValueError #jika ada error yg terprediksi lompat ke except ValueError\n",
    "        \n",
    "except ValueError:\n",
    "    print(\"Salah! yang anda masukkan bukan angka, ulangi kembali\")\n",
    "except NameError:\n",
    "    print(\"Salah! yang anda masukkan bukan angka, cek kode Python\")\n",
    "else:\n",
    "    print(f\"Operasi Aritmatika dari {x} dan {y}: \")\n",
    "    print(f\"{x} + {y} = {x+y}\")\n",
    "    print(f\"{x} - {y} = {x+y}\")\n",
    "    print(f\"{x} x {y} = {x*y}\")\n",
    "    print(f\"{x} : {y} = {x/y}\")\n",
    "finally:\n",
    "    print(\"\\nSemoga bermanfaat\")"
   ]
  },
  {
   "cell_type": "markdown",
   "id": "1982b8b3-732a-43d9-b91d-38f6bb9f3702",
   "metadata": {},
   "source": [
    "++++++++++++++++Customs Exception++++++++++++"
   ]
  },
  {
   "cell_type": "code",
   "execution_count": 93,
   "id": "99227aa9-4909-4328-b4aa-73ba30f694e9",
   "metadata": {},
   "outputs": [],
   "source": [
    "class TidakBisaDibagiNol(Exception):\n",
    "    def __init__(self, message=\"Tidak Bisa Dibagi Nol\"):\n",
    "        self.message = message\n",
    "        super().__init__(self.message)"
   ]
  },
  {
   "cell_type": "code",
   "execution_count": 94,
   "id": "1ed40269-87f5-4711-be8f-c45b353facd4",
   "metadata": {},
   "outputs": [
    {
     "ename": "TidakBisaDibagiNol",
     "evalue": "Tidak Bisa Dibagi Nol",
     "output_type": "error",
     "traceback": [
      "\u001b[1;31m---------------------------------------------------------------------------\u001b[0m",
      "\u001b[1;31mTidakBisaDibagiNol\u001b[0m                        Traceback (most recent call last)",
      "Cell \u001b[1;32mIn[94], line 1\u001b[0m\n\u001b[1;32m----> 1\u001b[0m \u001b[38;5;28;01mraise\u001b[39;00m TidakBisaDibagiNol\n",
      "\u001b[1;31mTidakBisaDibagiNol\u001b[0m: Tidak Bisa Dibagi Nol"
     ]
    }
   ],
   "source": [
    "raise TidakBisaDibagiNol"
   ]
  },
  {
   "cell_type": "code",
   "execution_count": 95,
   "id": "f407e42f-1dce-42d6-b1b8-afe166c9fd62",
   "metadata": {},
   "outputs": [
    {
     "name": "stdin",
     "output_type": "stream",
     "text": [
      "Masukkan angka pertama:  5\n",
      "Masukkan angka kedua:  0\n"
     ]
    },
    {
     "name": "stdout",
     "output_type": "stream",
     "text": [
      "Masukkan angka lainnya selain nol\n",
      "\n",
      "Semoga bermanfaat\n"
     ]
    }
   ],
   "source": [
    "try:\n",
    "    #block code yang mungkin error\n",
    "    x = input(\"Masukkan angka pertama: \")\n",
    "    y = input(\"Masukkan angka kedua: \")\n",
    "    x = int(x)\n",
    "    y = int(y)\n",
    "\n",
    "    if y == 0:\n",
    "        raise TidakBisaDibagiNol #jika ada error yg terprediksi lompat ke except ValueError\n",
    "        \n",
    "except ValueError:\n",
    "    print(\"Salah! yang anda masukkan bukan angka, ulangi kembali\")\n",
    "except NameError:\n",
    "    print(\"Salah! yang anda masukkan bukan angka, cek kode Python\")\n",
    "except TidakBisaDibagiNol:\n",
    "    print(\"Masukkan angka lainnya selain nol\")\n",
    "else:\n",
    "    print(f\"Operasi Aritmatika dari {x} dan {y}: \")\n",
    "    print(f\"{x} + {y} = {x+y}\")\n",
    "    print(f\"{x} - {y} = {x+y}\")\n",
    "    print(f\"{x} x {y} = {x*y}\")\n",
    "    print(f\"{x} : {y} = {x/y}\")\n",
    "finally:\n",
    "    print(\"\\nSemoga bermanfaat\")"
   ]
  },
  {
   "cell_type": "code",
   "execution_count": null,
   "id": "3e5d13f4-384d-4c47-9cc3-a90ad3809ae7",
   "metadata": {},
   "outputs": [],
   "source": []
  }
 ],
 "metadata": {
  "kernelspec": {
   "display_name": "Python 3 (ipykernel)",
   "language": "python",
   "name": "python3"
  },
  "language_info": {
   "codemirror_mode": {
    "name": "ipython",
    "version": 3
   },
   "file_extension": ".py",
   "mimetype": "text/x-python",
   "name": "python",
   "nbconvert_exporter": "python",
   "pygments_lexer": "ipython3",
   "version": "3.11.3"
  }
 },
 "nbformat": 4,
 "nbformat_minor": 5
}
