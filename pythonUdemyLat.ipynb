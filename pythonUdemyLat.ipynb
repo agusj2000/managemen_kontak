{
 "cells": [
  {
   "cell_type": "markdown",
   "id": "c5465f82-c606-4d2c-a405-13fbab29db6d",
   "metadata": {},
   "source": [
    "Fungsi Python- def"
   ]
  },
  {
   "cell_type": "code",
   "execution_count": 2,
   "id": "dd8b66d7-44bf-46a8-bf95-8729a566e0a3",
   "metadata": {},
   "outputs": [],
   "source": [
    "def halo():\n",
    "    print(\"hi\")\n",
    "    "
   ]
  },
  {
   "cell_type": "code",
   "execution_count": 3,
   "id": "a3fad515-e6d2-482d-9045-29b5d5302269",
   "metadata": {},
   "outputs": [
    {
     "name": "stdout",
     "output_type": "stream",
     "text": [
      "hi\n"
     ]
    }
   ],
   "source": [
    "halo()"
   ]
  },
  {
   "cell_type": "code",
   "execution_count": 4,
   "id": "9e5f855d-af84-442c-a87c-6b512a4e7cc2",
   "metadata": {},
   "outputs": [],
   "source": [
    "def hello2():\n",
    "    return \"hei\""
   ]
  },
  {
   "cell_type": "code",
   "execution_count": 6,
   "id": "c8661ad1-5a6d-4608-a936-756ca0dbf70f",
   "metadata": {},
   "outputs": [
    {
     "data": {
      "text/plain": [
       "'hei'"
      ]
     },
     "execution_count": 6,
     "metadata": {},
     "output_type": "execute_result"
    }
   ],
   "source": [
    "hello2()"
   ]
  },
  {
   "cell_type": "code",
   "execution_count": 9,
   "id": "079bdb6f-d489-4235-8d34-97de83b09c54",
   "metadata": {},
   "outputs": [],
   "source": [
    "def angka():\n",
    "    \"\"\"contoh penggunaan docstringg\"\"\"\n",
    "    return 30"
   ]
  },
  {
   "cell_type": "code",
   "execution_count": 8,
   "id": "5f0824a4-7ddc-4908-8f11-45361f56c3da",
   "metadata": {},
   "outputs": [
    {
     "data": {
      "text/plain": [
       "210"
      ]
     },
     "execution_count": 8,
     "metadata": {},
     "output_type": "execute_result"
    }
   ],
   "source": [
    "7*angka()"
   ]
  },
  {
   "cell_type": "code",
   "execution_count": 14,
   "id": "be2aae68-91f3-4a52-b0d2-d643842635cc",
   "metadata": {},
   "outputs": [],
   "source": [
    "def halo():\n",
    "    \"\"\" Test Docstring MATAPPPP\n",
    "    \"\"\"\n",
    "    print(\"hei\")"
   ]
  },
  {
   "cell_type": "code",
   "execution_count": 12,
   "id": "049a7bfb-0359-4bbf-b317-26f184880757",
   "metadata": {},
   "outputs": [
    {
     "name": "stdout",
     "output_type": "stream",
     "text": [
      "hei\n"
     ]
    }
   ],
   "source": [
    "halo()"
   ]
  },
  {
   "cell_type": "markdown",
   "id": "f6d7a8f5-2713-4e50-a03d-63651eacbaab",
   "metadata": {},
   "source": [
    "Dasar\" Fungsi "
   ]
  },
  {
   "cell_type": "code",
   "execution_count": 17,
   "id": "deb3f644-b533-4faf-a1af-0d4f359c155f",
   "metadata": {},
   "outputs": [],
   "source": [
    "def halo(nama):\n",
    "    print(f'hi {nama}')"
   ]
  },
  {
   "cell_type": "code",
   "execution_count": 18,
   "id": "0c19a8bf-efb9-4c3c-9563-2ed978e9b571",
   "metadata": {},
   "outputs": [
    {
     "name": "stdout",
     "output_type": "stream",
     "text": [
      "hi Joko\n"
     ]
    }
   ],
   "source": [
    "halo(nama =\"Joko\")"
   ]
  },
  {
   "cell_type": "code",
   "execution_count": 28,
   "id": "d73bf52c-9227-41d9-abf1-be67fa85fa3c",
   "metadata": {},
   "outputs": [],
   "source": [
    "def halo(nama):\n",
    "    print(f'hi {nama}')"
   ]
  },
  {
   "cell_type": "code",
   "execution_count": 29,
   "id": "2921a72c-0b7b-43ff-8308-1f08f0485a24",
   "metadata": {},
   "outputs": [],
   "source": [
    "def halo(nama, nama2):\n",
    "    print(f'hi {nama} dan {nama2}')"
   ]
  },
  {
   "cell_type": "code",
   "execution_count": 33,
   "id": "83783fff-a21f-4fe0-ba2e-44b644b63323",
   "metadata": {},
   "outputs": [
    {
     "name": "stdout",
     "output_type": "stream",
     "text": [
      "hi selamat dan Susi\n"
     ]
    }
   ],
   "source": [
    "halo(nama = \"selamat\", nama2 =\"Susi\")\n"
   ]
  },
  {
   "cell_type": "code",
   "execution_count": 35,
   "id": "dd7f8bab-1cb8-4ff8-b789-4ef2972adfc1",
   "metadata": {},
   "outputs": [],
   "source": [
    "def luas_persegi(sisi):\n",
    "    luas = sisi*sisi\n",
    "    print(f'luas persegi dengan sisi {sisi} adalah {luas}')"
   ]
  },
  {
   "cell_type": "code",
   "execution_count": 38,
   "id": "6e359182-ce39-4eaf-952b-b47d3cdce411",
   "metadata": {},
   "outputs": [
    {
     "name": "stdout",
     "output_type": "stream",
     "text": [
      "luas persegi dengan sisi 4 adalah 16\n",
      "luas persegi dengan sisi 8 adalah 64\n",
      "luas persegi dengan sisi 41 adalah 1681\n"
     ]
    }
   ],
   "source": [
    "luas_persegi(4)\n",
    "luas_persegi(8)\n",
    "luas_persegi(41)"
   ]
  },
  {
   "cell_type": "code",
   "execution_count": 40,
   "id": "f1696010-1772-47af-92bc-6eb288dcd0f5",
   "metadata": {},
   "outputs": [],
   "source": [
    "def luas_persegi2(sisi):\n",
    "    luas = sisi*sisi\n",
    "    return luas\n",
    "    "
   ]
  },
  {
   "cell_type": "code",
   "execution_count": 42,
   "id": "26eed96e-d5aa-4ce7-b99e-bc9b11c5c319",
   "metadata": {},
   "outputs": [
    {
     "data": {
      "text/plain": [
       "64"
      ]
     },
     "execution_count": 42,
     "metadata": {},
     "output_type": "execute_result"
    }
   ],
   "source": [
    "luas_persegi2(8)"
   ]
  },
  {
   "cell_type": "code",
   "execution_count": 43,
   "id": "eb343fcc-9cc9-4564-8e93-ec191f6b9331",
   "metadata": {},
   "outputs": [],
   "source": [
    "var = luas_persegi2(8)"
   ]
  },
  {
   "cell_type": "code",
   "execution_count": 44,
   "id": "038f6f5f-5c90-4a22-a4c4-2095c07a2274",
   "metadata": {},
   "outputs": [
    {
     "data": {
      "text/plain": [
       "64"
      ]
     },
     "execution_count": 44,
     "metadata": {},
     "output_type": "execute_result"
    }
   ],
   "source": [
    "var"
   ]
  },
  {
   "cell_type": "code",
   "execution_count": 45,
   "id": "89171d8f-6dc9-484c-abd5-eec1fb1b1283",
   "metadata": {},
   "outputs": [],
   "source": [
    "var = luas_persegi2(8)\n",
    "var2 = luas_persegi2(18)"
   ]
  },
  {
   "cell_type": "code",
   "execution_count": 49,
   "id": "9718028f-a744-468a-ac6f-d52561418392",
   "metadata": {},
   "outputs": [
    {
     "name": "stdout",
     "output_type": "stream",
     "text": [
      "64\n",
      "324\n"
     ]
    }
   ],
   "source": [
    "print(var)\n",
    "print(var2)"
   ]
  },
  {
   "cell_type": "code",
   "execution_count": 53,
   "id": "6701c553-c951-4665-b549-8ccfd89b2609",
   "metadata": {},
   "outputs": [],
   "source": [
    "def luas_persegi2(sisi = 0):\n",
    "    luas = sisi*sisi\n",
    "    return luas\n",
    "    "
   ]
  },
  {
   "cell_type": "code",
   "execution_count": 54,
   "id": "0422089c-4f5f-4f76-9891-5c876ce76678",
   "metadata": {},
   "outputs": [
    {
     "data": {
      "text/plain": [
       "0"
      ]
     },
     "execution_count": 54,
     "metadata": {},
     "output_type": "execute_result"
    }
   ],
   "source": [
    "luas_persegi2()"
   ]
  },
  {
   "cell_type": "code",
   "execution_count": 55,
   "id": "cec0c36b-d53e-4f4a-9620-7c0c08240393",
   "metadata": {},
   "outputs": [
    {
     "data": {
      "text/plain": [
       "49"
      ]
     },
     "execution_count": 55,
     "metadata": {},
     "output_type": "execute_result"
    }
   ],
   "source": [
    "luas_persegi2(7)"
   ]
  },
  {
   "cell_type": "code",
   "execution_count": 56,
   "id": "ecbcb40e-8ffd-4b0b-96a8-319bf4ab4ba9",
   "metadata": {},
   "outputs": [],
   "source": [
    "def halo(nama = \"Baelum ada nama\"):\n",
    "    print(f'hi {nama}')"
   ]
  },
  {
   "cell_type": "code",
   "execution_count": 57,
   "id": "ea914185-fb63-4799-9355-ea3937d4ff57",
   "metadata": {},
   "outputs": [
    {
     "name": "stdout",
     "output_type": "stream",
     "text": [
      "hi jeki\n"
     ]
    }
   ],
   "source": [
    "halo(\"jeki\")"
   ]
  },
  {
   "cell_type": "code",
   "execution_count": 58,
   "id": "84fe4152-77d4-4d8c-bae8-53b5009f66eb",
   "metadata": {},
   "outputs": [
    {
     "name": "stdout",
     "output_type": "stream",
     "text": [
      "hi Baelum ada nama\n"
     ]
    }
   ],
   "source": [
    "halo()"
   ]
  },
  {
   "cell_type": "markdown",
   "id": "a00c8bbd-469c-456b-a961-ed8820df589d",
   "metadata": {},
   "source": [
    "Fungsi Operator"
   ]
  },
  {
   "cell_type": "code",
   "execution_count": 1,
   "id": "60fca9fd-c23c-4428-9eed-3a2ef90abe62",
   "metadata": {},
   "outputs": [],
   "source": [
    "def apakah_genap(angka):\n",
    "    hasil = angka%2==0\n",
    "    return hasil"
   ]
  },
  {
   "cell_type": "code",
   "execution_count": 3,
   "id": "7cb2c551-5390-4510-baa6-d16fc011e8a9",
   "metadata": {},
   "outputs": [
    {
     "data": {
      "text/plain": [
       "True"
      ]
     },
     "execution_count": 3,
     "metadata": {},
     "output_type": "execute_result"
    }
   ],
   "source": [
    "apakah_genap(8)"
   ]
  },
  {
   "cell_type": "code",
   "execution_count": 4,
   "id": "7a3f1e9a-a780-4c68-919c-c83e6ce88438",
   "metadata": {},
   "outputs": [],
   "source": [
    "def apakah_genap(angka):\n",
    "    return angka%2==0"
   ]
  },
  {
   "cell_type": "code",
   "execution_count": 5,
   "id": "0c270725-5100-4b5d-82f7-79f8dfb4a472",
   "metadata": {},
   "outputs": [
    {
     "data": {
      "text/plain": [
       "True"
      ]
     },
     "execution_count": 5,
     "metadata": {},
     "output_type": "execute_result"
    }
   ],
   "source": [
    "apakah_genap(8)"
   ]
  },
  {
   "cell_type": "code",
   "execution_count": 8,
   "id": "e5d9ed48-05cf-4004-a9ab-d9c9c73c1071",
   "metadata": {},
   "outputs": [],
   "source": [
    "def bisa_membuat_sim(umur):\n",
    "    return umur>=17"
   ]
  },
  {
   "cell_type": "code",
   "execution_count": 10,
   "id": "6a880e65-8d92-47f1-b7a5-08803f2390d9",
   "metadata": {},
   "outputs": [
    {
     "data": {
      "text/plain": [
       "False"
      ]
     },
     "execution_count": 10,
     "metadata": {},
     "output_type": "execute_result"
    }
   ],
   "source": [
    "bisa_membuat_sim(10)"
   ]
  },
  {
   "cell_type": "markdown",
   "id": "ae529d6f-f143-4425-ac82-e08be4073406",
   "metadata": {},
   "source": [
    "PERNYATAAN KONDISIONAL"
   ]
  },
  {
   "cell_type": "code",
   "execution_count": 11,
   "id": "a7dc9288-8b9c-4712-be82-e31952400b0d",
   "metadata": {},
   "outputs": [],
   "source": [
    "def ganjil_genap (angka):\n",
    "    if angka%2==0:\n",
    "        print(f'{angka} adalah bilangan genap')\n",
    "    else:\n",
    "        print(f'{angka} adalah bilangan ganjil')\n",
    "    "
   ]
  },
  {
   "cell_type": "code",
   "execution_count": 14,
   "id": "2063e541-56d3-4406-9e1f-d2b7f1888fa7",
   "metadata": {},
   "outputs": [
    {
     "name": "stdout",
     "output_type": "stream",
     "text": [
      "13 adalah bilangan ganjil\n"
     ]
    }
   ],
   "source": [
    "ganjil_genap (13)"
   ]
  },
  {
   "cell_type": "code",
   "execution_count": 15,
   "id": "213d2708-c77b-464b-9e21-1ac0688012d6",
   "metadata": {},
   "outputs": [],
   "source": [
    "def gaji_baru(gaji_lama, performa):\n",
    "    gaji_sekarang = 0\n",
    "    if performa >= 8:\n",
    "        gaji_sekarang = gaji_lama*1.07 #naik7%\n",
    "    elif performa >= 6:\n",
    "        gaji_sekarang = gaji_lama*1.04\n",
    "    else:\n",
    "        gaji_sekarang = gaji_lama\n",
    "    return gaji_sekarang\n",
    "    \n"
   ]
  },
  {
   "cell_type": "code",
   "execution_count": 18,
   "id": "67b6a584-089f-4450-9cac-5e1642542a8b",
   "metadata": {},
   "outputs": [
    {
     "data": {
      "text/plain": [
       "10400000.0"
      ]
     },
     "execution_count": 18,
     "metadata": {},
     "output_type": "execute_result"
    }
   ],
   "source": [
    "gaji_baru(10000000, 7)"
   ]
  },
  {
   "cell_type": "markdown",
   "id": "a143986d-bccd-4820-975a-29498f514356",
   "metadata": {},
   "source": [
    "FUNGSI DALAM PENGULANGAN"
   ]
  },
  {
   "cell_type": "code",
   "execution_count": 31,
   "id": "afd5d5d5-d057-4e33-bce7-9cd336c9d07b",
   "metadata": {},
   "outputs": [],
   "source": [
    "def hitung_vocal(var):\n",
    "    total = 0\n",
    "    for item in var:\n",
    "        if item in 'aiueoAIUEO':\n",
    "            total += 1\n",
    "    return total"
   ]
  },
  {
   "cell_type": "code",
   "execution_count": 33,
   "id": "7c6d7380-f7bf-4d08-9125-9dcd187eea3a",
   "metadata": {},
   "outputs": [
    {
     "data": {
      "text/plain": [
       "2"
      ]
     },
     "execution_count": 33,
     "metadata": {},
     "output_type": "execute_result"
    }
   ],
   "source": [
    "hitung_vocal('mantap')"
   ]
  },
  {
   "cell_type": "markdown",
   "id": "b173e56c-b508-4273-a5d3-f7d009387df0",
   "metadata": {},
   "source": [
    "|FUNGSI didalam FUNGSI"
   ]
  },
  {
   "cell_type": "code",
   "execution_count": 35,
   "id": "baa70fc8-f605-4b1a-8fe9-a2fe58599c2a",
   "metadata": {},
   "outputs": [],
   "source": [
    "def luas_persegipanjang(p, l):\n",
    "\n",
    "    def cek_p(p):\n",
    "        return p>0\n",
    "    def cek_l(l):\n",
    "        return l>0\n",
    "\n",
    "    if cek_p(p) and cek_l(l):\n",
    "        return p*l\n",
    "    else:\n",
    "        print(\"panjang atau lebar yang dimasukkan salah!\")\n",
    "    "
   ]
  },
  {
   "cell_type": "code",
   "execution_count": 37,
   "id": "1842dfa1-3344-437b-931d-31b24fc2314a",
   "metadata": {},
   "outputs": [
    {
     "name": "stdout",
     "output_type": "stream",
     "text": [
      "panjang atau lebar yang dimasukkan salah!\n"
     ]
    }
   ],
   "source": [
    "luas_persegipanjang(0, 7)"
   ]
  },
  {
   "cell_type": "markdown",
   "id": "5d09df67-796a-4794-a5ee-8405b4121ed0",
   "metadata": {},
   "source": [
    "    FUNGSI REKURSIF\n",
    "    "
   ]
  },
  {
   "cell_type": "code",
   "execution_count": 44,
   "id": "215c48b1-952c-443d-a9a2-2bb3083f1600",
   "metadata": {},
   "outputs": [],
   "source": [
    "def factorial(num):\n",
    "    if num == 0:\n",
    "        return 1\n",
    "    else:\n",
    "        return num*factorial(num-1)                  \n"
   ]
  },
  {
   "cell_type": "code",
   "execution_count": null,
   "id": "437ac99e-8050-491b-b800-df6e0a8c8974",
   "metadata": {},
   "outputs": [],
   "source": [
    "factorial(4)"
   ]
  },
  {
   "cell_type": "markdown",
   "id": "13b48e12-7525-4ce9-8cd9-57df7adbfa6f",
   "metadata": {},
   "source": [
    "INTERAKSI ANTAR FUNGSI"
   ]
  },
  {
   "cell_type": "code",
   "execution_count": 7,
   "id": "4e03160e-2ec7-48c8-8c0a-9fcfcf6b2510",
   "metadata": {},
   "outputs": [],
   "source": [
    "def tambah_agenda(agenda, agenda_baru):\n",
    "    agenda.append(agenda_baru)\n",
    "    print(\"Agenda sudah ditambahkan\")"
   ]
  },
  {
   "cell_type": "code",
   "execution_count": 8,
   "id": "0b73ccaa-977d-4de1-bfa9-74e21f88f22a",
   "metadata": {},
   "outputs": [],
   "source": [
    "def lihat_agenda(agenda):\n",
    "    print(\"Daftar Agendaku\")\n",
    "    for index, item in enumerate(agenda):\n",
    "        print(f'{index+1}.{item}')"
   ]
  },
  {
   "cell_type": "code",
   "execution_count": 10,
   "id": "fc7b5f93-bb82-438d-ac66-8305a1f4c9f8",
   "metadata": {},
   "outputs": [],
   "source": [
    "def main():\n",
    "    agenda = []\n",
    "\n",
    "    while True:\n",
    "        print(\"Agendaku\")\n",
    "        print(\"1. Menambah Agenda\")\n",
    "        print(\"2. Melihat Agenda\")\n",
    "        print(\"3. Keluar Agenda\")\n",
    "    \n",
    "        pilihan = input(\"Masukkan Pilihan: \")\n",
    "        if pilihan == '1':\n",
    "            agenda_baru = input(\"Masukkan agenda baru: \")\n",
    "            tambah_agenda(agenda, agenda_baru)\n",
    "        elif pilihan == '2':\n",
    "            lihat_agenda(agenda)\n",
    "        elif pilihan == '3':\n",
    "            break\n",
    "        else:\n",
    "            print(\"Pilihan anda salah, Masukkan pilihan yang tepat (1,2, atau 3)\")\n",
    "        \n",
    "    print(\"Keluar dari agenda\")\n"
   ]
  },
  {
   "cell_type": "code",
   "execution_count": 12,
   "id": "1f65ec16-ef26-43ef-b539-09760826db83",
   "metadata": {},
   "outputs": [
    {
     "name": "stdout",
     "output_type": "stream",
     "text": [
      "Agendaku\n",
      "1. Menambah Agenda\n",
      "2. Melihat Agenda\n",
      "3. Keluar Agenda\n"
     ]
    },
    {
     "name": "stdin",
     "output_type": "stream",
     "text": [
      "Masukkan Pilihan:  2\n"
     ]
    },
    {
     "name": "stdout",
     "output_type": "stream",
     "text": [
      "Daftar Agendaku\n",
      "Agendaku\n",
      "1. Menambah Agenda\n",
      "2. Melihat Agenda\n",
      "3. Keluar Agenda\n"
     ]
    },
    {
     "name": "stdin",
     "output_type": "stream",
     "text": [
      "Masukkan Pilihan:  1\n",
      "Masukkan agenda baru:  Berlari\n"
     ]
    },
    {
     "name": "stdout",
     "output_type": "stream",
     "text": [
      "Agenda sudah ditambahkan\n",
      "Agendaku\n",
      "1. Menambah Agenda\n",
      "2. Melihat Agenda\n",
      "3. Keluar Agenda\n"
     ]
    },
    {
     "name": "stdin",
     "output_type": "stream",
     "text": [
      "Masukkan Pilihan:  1\n",
      "Masukkan agenda baru:  Berkemah\n"
     ]
    },
    {
     "name": "stdout",
     "output_type": "stream",
     "text": [
      "Agenda sudah ditambahkan\n",
      "Agendaku\n",
      "1. Menambah Agenda\n",
      "2. Melihat Agenda\n",
      "3. Keluar Agenda\n"
     ]
    },
    {
     "name": "stdin",
     "output_type": "stream",
     "text": [
      "Masukkan Pilihan:  Berenang\n"
     ]
    },
    {
     "name": "stdout",
     "output_type": "stream",
     "text": [
      "Pilihan anda salah, Masukkan pilihan yang tepat (1,2, atau 3)\n",
      "Agendaku\n",
      "1. Menambah Agenda\n",
      "2. Melihat Agenda\n",
      "3. Keluar Agenda\n"
     ]
    },
    {
     "name": "stdin",
     "output_type": "stream",
     "text": [
      "Masukkan Pilihan:  2\n"
     ]
    },
    {
     "name": "stdout",
     "output_type": "stream",
     "text": [
      "Daftar Agendaku\n",
      "1.Berlari\n",
      "2.Berkemah\n",
      "Agendaku\n",
      "1. Menambah Agenda\n",
      "2. Melihat Agenda\n",
      "3. Keluar Agenda\n"
     ]
    },
    {
     "name": "stdin",
     "output_type": "stream",
     "text": [
      "Masukkan Pilihan:  3\n"
     ]
    },
    {
     "name": "stdout",
     "output_type": "stream",
     "text": [
      "Keluar dari agenda\n"
     ]
    }
   ],
   "source": [
    "main()"
   ]
  },
  {
   "cell_type": "markdown",
   "id": "fe5f57e0-d4b9-44cd-8f18-ec59446e4f3a",
   "metadata": {},
   "source": [
    "RUANG LINGKUP (SCOPE)\n"
   ]
  },
  {
   "cell_type": "code",
   "execution_count": 20,
   "id": "1af7e115-0970-4f9b-9b92-1b77b1d803d9",
   "metadata": {},
   "outputs": [],
   "source": [
    "var = \"ini adalah contoh variable pertama\" #avarible global\n"
   ]
  },
  {
   "cell_type": "code",
   "execution_count": 18,
   "id": "8e5f7704-018f-45e7-9b43-ed5bc2573c0b",
   "metadata": {},
   "outputs": [],
   "source": [
    "def contoh():\n",
    "    print(var)"
   ]
  },
  {
   "cell_type": "code",
   "execution_count": 19,
   "id": "605a875a-e8ff-4a08-9c25-d62ffa81cf81",
   "metadata": {},
   "outputs": [
    {
     "name": "stdout",
     "output_type": "stream",
     "text": [
      "ini adalah contoh variable pertama\n"
     ]
    }
   ],
   "source": [
    "contoh()"
   ]
  },
  {
   "cell_type": "code",
   "execution_count": 23,
   "id": "646eea11-db23-47df-95fb-5803187007f9",
   "metadata": {},
   "outputs": [],
   "source": [
    "def contoh(): #variable local\n",
    "    var2 = \" Ini adalah variable kedua\"\n",
    "    print(var2)"
   ]
  },
  {
   "cell_type": "code",
   "execution_count": 24,
   "id": "07647481-043f-496d-a863-b9b56a4967de",
   "metadata": {},
   "outputs": [
    {
     "name": "stdout",
     "output_type": "stream",
     "text": [
      " Ini adalah variable kedua\n"
     ]
    }
   ],
   "source": [
    "contoh()"
   ]
  },
  {
   "cell_type": "code",
   "execution_count": 30,
   "id": "361a9f6c-7d1d-4049-bc42-1eadba9edfba",
   "metadata": {},
   "outputs": [],
   "source": [
    "def contoh():\n",
    "    var3 = \"Ini adalah variable ketiga\"\n",
    "\n",
    "    def contoh2():\n",
    "        print(var3) #enclosig variable\n",
    "\n",
    "    contoh2()\n"
   ]
  },
  {
   "cell_type": "code",
   "execution_count": 31,
   "id": "d16452cc-114f-4e99-8ff3-66a91c527a39",
   "metadata": {},
   "outputs": [
    {
     "name": "stdout",
     "output_type": "stream",
     "text": [
      "Ini adalah variable ketiga\n"
     ]
    }
   ],
   "source": [
    "contoh()"
   ]
  },
  {
   "cell_type": "markdown",
   "id": "6b3311f6-ae32-4825-b704-432e382b4494",
   "metadata": {},
   "source": [
    "KEYWORD GLOBAL"
   ]
  },
  {
   "cell_type": "code",
   "execution_count": 33,
   "id": "16d0cbe5-2e53-499d-904d-5b5f27df0418",
   "metadata": {},
   "outputs": [],
   "source": [
    "var = \"ini adalah variable Pertama\""
   ]
  },
  {
   "cell_type": "code",
   "execution_count": 34,
   "id": "f36b1186-c50d-46c0-a11e-7dc0a697f567",
   "metadata": {},
   "outputs": [],
   "source": [
    "def contoh():\n",
    "    var = \"Ini adalah variable pertama dalam fungsi\"\n",
    "    print(var)"
   ]
  },
  {
   "cell_type": "code",
   "execution_count": 35,
   "id": "c292b350-ac90-4f3f-8cf0-0552b1811503",
   "metadata": {},
   "outputs": [
    {
     "name": "stdout",
     "output_type": "stream",
     "text": [
      "Ini adalah variable pertama dalam fungsi\n"
     ]
    }
   ],
   "source": [
    "contoh()"
   ]
  },
  {
   "cell_type": "code",
   "execution_count": 37,
   "id": "74921295-4ce7-4ee1-9513-561c072d78dd",
   "metadata": {},
   "outputs": [],
   "source": [
    "#sekarang menggunakan fungsi global\n",
    "def contoh():\n",
    "    global var\n",
    "    var = \"Ini adalah variable pertama dalam fungsi\"\n",
    "    print(var)"
   ]
  },
  {
   "cell_type": "code",
   "execution_count": 38,
   "id": "f639ac50-f314-4b86-9a05-1cc88d016b7a",
   "metadata": {},
   "outputs": [
    {
     "name": "stdout",
     "output_type": "stream",
     "text": [
      "Ini adalah variable pertama dalam fungsi\n"
     ]
    }
   ],
   "source": [
    "contoh()"
   ]
  },
  {
   "cell_type": "code",
   "execution_count": 39,
   "id": "a1e6750f-1603-42f7-89c1-6771338633bd",
   "metadata": {},
   "outputs": [
    {
     "data": {
      "text/plain": [
       "'Ini adalah variable pertama dalam fungsi'"
      ]
     },
     "execution_count": 39,
     "metadata": {},
     "output_type": "execute_result"
    }
   ],
   "source": [
    "var"
   ]
  },
  {
   "cell_type": "code",
   "execution_count": 40,
   "id": "28479d88-0972-4332-a88f-319b02589695",
   "metadata": {},
   "outputs": [],
   "source": [
    "var = \"hai\"\n",
    " \n",
    "def sapa():\n",
    "    var = \"hai-hai\"\n",
    "    print(var)"
   ]
  },
  {
   "cell_type": "code",
   "execution_count": 41,
   "id": "b159a39a-5ccf-4bd8-a6f7-6f87dfc13944",
   "metadata": {},
   "outputs": [
    {
     "name": "stdout",
     "output_type": "stream",
     "text": [
      "hai-hai\n"
     ]
    }
   ],
   "source": [
    "sapa()"
   ]
  },
  {
   "cell_type": "markdown",
   "id": "7f382c6f-4a3a-4851-8d7e-250654f40782",
   "metadata": {},
   "source": [
    "FUNGSI *args dan *kwargs"
   ]
  },
  {
   "cell_type": "code",
   "execution_count": 66,
   "id": "110c0e86-d3ed-444b-8525-2adf1b30f55e",
   "metadata": {},
   "outputs": [],
   "source": [
    "#Tanpa *args dan *kwargs\n",
    "def cetak_nama(nama1, nama2):\n",
    "    print(f'nama 1 adalah {nama1}')\n",
    "    print(f'nama 2 adalah {nama2}')\n",
    "    "
   ]
  },
  {
   "cell_type": "code",
   "execution_count": 69,
   "id": "3ea29f39-3576-4b2d-ab68-34c5c5a36f48",
   "metadata": {},
   "outputs": [
    {
     "name": "stdout",
     "output_type": "stream",
     "text": [
      "nama 1 adalah Ansar\n",
      "nama 2 adalah Imam\n"
     ]
    }
   ],
   "source": [
    "cetak_nama(\"Ansar\",\"Imam\")"
   ]
  },
  {
   "cell_type": "markdown",
   "id": "cb59e2d2-2ce0-4340-9c83-830d3762182d",
   "metadata": {},
   "source": [
    "# Menggunakan "
   ]
  },
  {
   "cell_type": "code",
   "execution_count": 45,
   "id": "014ddddd-c2a0-4567-b074-406861adf73e",
   "metadata": {},
   "outputs": [],
   "source": [
    "def cetak_nama(*nama):\n",
    "    print(nama)"
   ]
  },
  {
   "cell_type": "code",
   "execution_count": 48,
   "id": "8179ac63-902b-4098-8582-280ca603b154",
   "metadata": {},
   "outputs": [
    {
     "name": "stdout",
     "output_type": "stream",
     "text": [
      "('Ansar',)\n"
     ]
    }
   ],
   "source": [
    "cetak_nama(\"Ansar\") #akan menjadi Tuple"
   ]
  },
  {
   "cell_type": "code",
   "execution_count": 49,
   "id": "b42830f6-aedc-4080-8399-a8b1d0ba5135",
   "metadata": {},
   "outputs": [
    {
     "name": "stdout",
     "output_type": "stream",
     "text": [
      "('Ansar', 'Usman', 'Hidayat')\n"
     ]
    }
   ],
   "source": [
    "cetak_nama(\"Ansar\",\"Usman\", \"Hidayat\")"
   ]
  },
  {
   "cell_type": "code",
   "execution_count": 50,
   "id": "92020683-df87-432d-850d-075456a0bf28",
   "metadata": {},
   "outputs": [],
   "source": [
    "def cetak_nama(*nama):  # Menggunakan *args\n",
    "    print(nama)\n",
    "    for index, item in enumerate(nama):\n",
    "        print(f\"nama {index+1} adalah {item}\")"
   ]
  },
  {
   "cell_type": "code",
   "execution_count": 52,
   "id": "84a06138-6924-4865-b83b-1cb2727847dc",
   "metadata": {},
   "outputs": [
    {
     "name": "stdout",
     "output_type": "stream",
     "text": [
      "('Ansar', 'Usman', 'Hidayat')\n",
      "nama 1 adalah Ansar\n",
      "nama 2 adalah Usman\n",
      "nama 3 adalah Hidayat\n"
     ]
    }
   ],
   "source": [
    "cetak_nama(\"Ansar\",\"Usman\", \"Hidayat\")"
   ]
  },
  {
   "cell_type": "code",
   "execution_count": 55,
   "id": "88c6eb31-92cc-4b8c-be43-5944df2ddbb0",
   "metadata": {},
   "outputs": [],
   "source": [
    "# Menggunakan *kwargs\n",
    "\n",
    "def cetak_alamat(**alamat):\n",
    "    print(alamat)\n",
    "    for i,_ in enumerate(alamat):\n",
    "        print(f\"nama {alamat['nama'][i]} beralamat di {alamat['alamat'][i]}\")"
   ]
  },
  {
   "cell_type": "code",
   "execution_count": 56,
   "id": "294b2ba7-66b5-42ef-88ee-5a3733645cbf",
   "metadata": {},
   "outputs": [
    {
     "name": "stdout",
     "output_type": "stream",
     "text": [
      "{'nama': ['Ansar', 'Usman'], 'alamat': ['Penajam', 'Ketapang']}\n",
      "nama Ansar beralamat di Penajam\n",
      "nama Usman beralamat di Ketapang\n"
     ]
    }
   ],
   "source": [
    "cetak_alamat(nama=[\"Ansar\", \"Usman\"], alamat=[\"Penajam\", \"Ketapang\"])"
   ]
  },
  {
   "cell_type": "markdown",
   "id": "e10951a3-1019-458f-b8bc-10a10ee960d0",
   "metadata": {},
   "source": [
    "LAMDA EXPRESSION"
   ]
  },
  {
   "cell_type": "code",
   "execution_count": 11,
   "id": "73e6d4d6-e11d-4563-91ee-a79015bb0bf9",
   "metadata": {},
   "outputs": [],
   "source": [
    "#SINTAK\n",
    "def kali_dua(var):\n",
    "    var_baru = []\n",
    "    for item in var:\n",
    "        var_baru.append(item*2)\n",
    "    return var_baru"
   ]
  },
  {
   "cell_type": "code",
   "execution_count": 12,
   "id": "0696b2c2-c1dd-4d81-af95-d927a2ebaa0b",
   "metadata": {},
   "outputs": [],
   "source": [
    "num = [1,2,3,4,5]"
   ]
  },
  {
   "cell_type": "code",
   "execution_count": 14,
   "id": "70dd97da-8384-440a-91dd-3fa6f5496e08",
   "metadata": {},
   "outputs": [
    {
     "data": {
      "text/plain": [
       "[2, 4, 6, 8, 10]"
      ]
     },
     "execution_count": 14,
     "metadata": {},
     "output_type": "execute_result"
    }
   ],
   "source": [
    "kali_dua(num)"
   ]
  },
  {
   "cell_type": "code",
   "execution_count": 15,
   "id": "cafe31bc-bca4-4986-b6cf-764e2afc3827",
   "metadata": {},
   "outputs": [],
   "source": [
    "#Penulisan Lambda expression\n",
    "kalidua_lambda = lambda x : x*2"
   ]
  },
  {
   "cell_type": "code",
   "execution_count": 16,
   "id": "861533de-c772-4e76-be81-5d09970e1c1f",
   "metadata": {},
   "outputs": [
    {
     "data": {
      "text/plain": [
       "<map at 0x2448957b670>"
      ]
     },
     "execution_count": 16,
     "metadata": {},
     "output_type": "execute_result"
    }
   ],
   "source": [
    "#Built-in Function map()\n",
    "map(kalidua_lambda, num)"
   ]
  },
  {
   "cell_type": "code",
   "execution_count": 17,
   "id": "2a8b381b-49c1-4db2-a660-7e0f7ddaefc1",
   "metadata": {},
   "outputs": [
    {
     "name": "stdout",
     "output_type": "stream",
     "text": [
      "2\n",
      "4\n",
      "6\n",
      "8\n",
      "10\n"
     ]
    }
   ],
   "source": [
    "for item in map(kalidua_lambda, num):\n",
    "    print(item)"
   ]
  },
  {
   "cell_type": "code",
   "execution_count": 18,
   "id": "44f1c401-57fe-4435-bcf1-202e04015a49",
   "metadata": {},
   "outputs": [
    {
     "data": {
      "text/plain": [
       "[2, 4, 6, 8, 10]"
      ]
     },
     "execution_count": 18,
     "metadata": {},
     "output_type": "execute_result"
    }
   ],
   "source": [
    "#ubah ke fungsi list\n",
    "list(map(kalidua_lambda, num))"
   ]
  },
  {
   "cell_type": "code",
   "execution_count": 20,
   "id": "c93b1ee0-2eb0-4f27-ad55-904fae7eedaa",
   "metadata": {},
   "outputs": [
    {
     "data": {
      "text/plain": [
       "[2, 4, 6, 8, 10]"
      ]
     },
     "execution_count": 20,
     "metadata": {},
     "output_type": "execute_result"
    }
   ],
   "source": [
    "list(map(lambda x: x*2, num))"
   ]
  },
  {
   "cell_type": "code",
   "execution_count": 25,
   "id": "6946910c-0e86-4461-82bd-52e078f9e34a",
   "metadata": {},
   "outputs": [],
   "source": [
    "#BUilt-in Fungtion Filter >>>menhasilkan nilai Boolean"
   ]
  },
  {
   "cell_type": "code",
   "execution_count": 22,
   "id": "35e94ea2-fba6-4cb5-a334-6bc629478715",
   "metadata": {},
   "outputs": [
    {
     "data": {
      "text/plain": [
       "[1, 2, 3, 4, 5]"
      ]
     },
     "execution_count": 22,
     "metadata": {},
     "output_type": "execute_result"
    }
   ],
   "source": [
    "num"
   ]
  },
  {
   "cell_type": "code",
   "execution_count": 23,
   "id": "aae14df9-278a-4ca3-9e8b-021b0c2a418a",
   "metadata": {},
   "outputs": [
    {
     "data": {
      "text/plain": [
       "[2, 4]"
      ]
     },
     "execution_count": 23,
     "metadata": {},
     "output_type": "execute_result"
    }
   ],
   "source": [
    "list(filter(lambda x : x%2==0, num))"
   ]
  },
  {
   "cell_type": "code",
   "execution_count": 24,
   "id": "2f719b2a-a421-4c52-8d6c-eb6041de7bb0",
   "metadata": {},
   "outputs": [
    {
     "data": {
      "text/plain": [
       "[1, 3, 5]"
      ]
     },
     "execution_count": 24,
     "metadata": {},
     "output_type": "execute_result"
    }
   ],
   "source": [
    "list(filter(lambda x : x%2==1, num))"
   ]
  },
  {
   "cell_type": "code",
   "execution_count": 29,
   "id": "1d28a86d-8ba9-481b-b433-5cae67c9026a",
   "metadata": {},
   "outputs": [],
   "source": [
    "#Built-in Function sorted()\n",
    "var = [\n",
    "    (\"Alex\", 27),\n",
    "    (\"Hesti\", 17),      #format Tuple\n",
    "    (\"Hairul\", 18),\n",
    "]"
   ]
  },
  {
   "cell_type": "code",
   "execution_count": 30,
   "id": "a6193de4-b07a-44be-9acd-5e8ca6036978",
   "metadata": {},
   "outputs": [
    {
     "data": {
      "text/plain": [
       "[('Alex', 27), ('Hairul', 18), ('Hesti', 17)]"
      ]
     },
     "execution_count": 30,
     "metadata": {},
     "output_type": "execute_result"
    }
   ],
   "source": [
    "sorted(var, key = lambda x: x[0]) #urutkanberdasarkan index (0) nama"
   ]
  },
  {
   "cell_type": "code",
   "execution_count": 31,
   "id": "e5ff5cd1-9cea-4fdc-b7b5-8061f9929005",
   "metadata": {},
   "outputs": [
    {
     "data": {
      "text/plain": [
       "[('Hesti', 17), ('Hairul', 18), ('Alex', 27)]"
      ]
     },
     "execution_count": 31,
     "metadata": {},
     "output_type": "execute_result"
    }
   ],
   "source": [
    "sorted(var, key = lambda x: x[1]) #urutkanberdasarkan index (1) umur"
   ]
  },
  {
   "cell_type": "code",
   "execution_count": null,
   "id": "f708f700-f08c-4cef-b417-656df707b4a8",
   "metadata": {},
   "outputs": [],
   "source": []
  }
 ],
 "metadata": {
  "kernelspec": {
   "display_name": "Python 3 (ipykernel)",
   "language": "python",
   "name": "python3"
  },
  "language_info": {
   "codemirror_mode": {
    "name": "ipython",
    "version": 3
   },
   "file_extension": ".py",
   "mimetype": "text/x-python",
   "name": "python",
   "nbconvert_exporter": "python",
   "pygments_lexer": "ipython3",
   "version": "3.11.3"
  }
 },
 "nbformat": 4,
 "nbformat_minor": 5
}
